{
 "cells": [
  {
   "cell_type": "code",
   "execution_count": null,
   "metadata": {
    "collapsed": true
   },
   "outputs": [],
   "source": [
    "# 动物园数据库中的所有表格\n",
    "# animals\n",
    "# 此表列出动物园中的各个动物。每只动物仅占一行。可能存在多只动物同名，甚至多只同物种动物同名的情况。\n",
    "# name — 动物的名字（例如：“George”）\n",
    "# species — 动物所属物种（例如：“gorilla”（大猩猩））\n",
    "# birthdate — 动物的出生日期（例如：'1998-05-18'）\n",
    "# diet\n",
    "# 此表对照列出各物种及其所吃的食物。动物园中的每个物种至少吃一种食物，许多物种吃多种食物。 如果某物种食用一种以上的食物，则该物种将占多行。\n",
    "# species — 物种名称（例如：“hyena”（鬣狗））\n",
    "# food — 物种所吃食物的名称（例如：“meat”（肉类））\n",
    "# taxonomy\n",
    "# 此表列出动物园中各物种的（部分）生物分类学名称。可用于辨别物种之间进化论角度的亲缘关系。\n",
    "# name — 物种的俗称（例如，“jackal”（豺））\n",
    "# species — 分类学物种名称（例如，“aureus”（亚洲胡狼））\n",
    "# genus — 分类学属名（例如，“Canis”（犬属））\n",
    "# family — 分类学科名（例如，“Canidae”（犬科））\n",
    "# t_order — 分类学目名（例如，“Carnivora”（食肉目））\n",
    "# 如果你对此分类一无所知，也无需担心，本课程不需要详细掌握这些信息。但如果你对此感到好奇，可查阅维基百科相关文章 分类学 及 生物分类。\n",
    "# \n",
    "# ordernames\n",
    "# 此表列出 taxonomy 表中各分类学目的俗称。\n",
    "# t_order — 分类学目名（例如，“Cetacea”（鲸目））\n",
    "# name — 俗称（例如，“whales and dolphins”（鲸和海豚））"
   ]
  },
  {
   "cell_type": "code",
   "execution_count": null,
   "metadata": {},
   "outputs": [],
   "source": [
    "# limit 10 offset 10 从第11行开始显示10条数据\n",
    "# order by name,age 先 首先按姓名排序，然后在每个姓名中再按年龄排序\n",
    "# group by 只和count或sum这种聚合函数一起使用（可用as给求和列起名）\n",
    "\n",
    "# select count(*) as number ,species from animals group by species order by number\n",
    "# \"INSERT INTO animals (name,species,birthdate) values('123','opossums', '1999-1-1') ;\"\n",
    "# group by 后不能使用where，where作用在聚合之前的列\n",
    "# where 作用于源表，having作用于结果表，在group by后使用\n",
    "# SELECT food,count(*) as number from animals join diet on animals.species = diet.species group by food\n",
    "# having number = 1\n",
    "\n",
    "SELECT ordernames.name,count(*) as number from taxonomy \n",
    "join ordernames on taxonomy.t_order = ordernames.t_order\n",
    "join animals on animals.species = taxonomy.species group by taxonomy.t_order\n",
    "\n",
    "SELECT Email, FirstName,LastName,Genre.name as Name\n",
    " \n",
    "FROM (((Customer JOIN Invoice ON Customer.CustomerId  = Invoice.CustomerId) as Customer_Invoice\n",
    "join InvoiceLine on Invoice.InvoiceId = InvoiceLine.InvoiceId) as Customer_Invoice_InvoiceLine\n",
    "join Track on InvoiceLine.TrackId  = Track.TrackId ) as Customer_Invoice_InvoiceLine_Track \n",
    "join Genre on Track.GenreId = Genre.GenreId  where Genre.name = 'Rock' group by email \n",
    "order by email ;\n",
    "\n",
    "((Genre join Genre.GenreId = Track.GenreId) as Genre_Track\n",
    "join Album on Track.AlbumId = Album.AlbumId) as Genre_Track_Album\n",
    "join Artist on Album.ArtistId = Artist.ArtistId ;"
   ]
  }
 ],
 "metadata": {
  "kernelspec": {
   "display_name": "Python 2",
   "language": "python",
   "name": "python2"
  },
  "language_info": {
   "codemirror_mode": {
    "name": "ipython",
    "version": 2
   },
   "file_extension": ".py",
   "mimetype": "text/x-python",
   "name": "python",
   "nbconvert_exporter": "python",
   "pygments_lexer": "ipython2",
   "version": "2.7.6"
  }
 },
 "nbformat": 4,
 "nbformat_minor": 0
}
