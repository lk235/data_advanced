{
 "cells": [
  {
   "cell_type": "code",
   "execution_count": 15,
   "metadata": {
    "collapsed": true
   },
   "outputs": [
    {
     "name": "stdout",
     "output_type": "stream",
     "text": [
      "[{'Title': 'Please Please Me', 'UK Chart Position': '1', 'Label': 'Parlophone(UK)', 'Released': '22 March 1963', 'US Chart Position': '-', 'RIAA Certification': 'Platinum', 'BPI Certification': 'Gold'}, {'Title': 'With the Beatles', 'UK Chart Position': '1', 'Label': 'Parlophone(UK)', 'Released': '22 November 1963', 'US Chart Position': '-', 'RIAA Certification': 'Gold', 'BPI Certification': 'Platinum'}, {'Title': 'Beatlemania! With the Beatles', 'UK Chart Position': '-', 'Label': 'Capitol(CAN)', 'Released': '25 November 1963', 'US Chart Position': '-', 'RIAA Certification': '', 'BPI Certification': ''}, {'Title': 'Introducing... The Beatles', 'UK Chart Position': '-', 'Label': 'Vee-Jay(US)', 'Released': '10 January 1964', 'US Chart Position': '2', 'RIAA Certification': '', 'BPI Certification': ''}, {'Title': 'Meet the Beatles!', 'UK Chart Position': '-', 'Label': 'Capitol(US)', 'Released': '20 January 1964', 'US Chart Position': '1', 'RIAA Certification': '5xPlatinum', 'BPI Certification': ''}, {'Title': 'Twist and Shout', 'UK Chart Position': '-', 'Label': 'Capitol(CAN)', 'Released': '3 February 1964', 'US Chart Position': '-', 'RIAA Certification': '', 'BPI Certification': ''}, {'Title': \"The Beatles' Second Album\", 'UK Chart Position': '-', 'Label': 'Capitol(US)', 'Released': '10 April 1964', 'US Chart Position': '1', 'RIAA Certification': '2xPlatinum', 'BPI Certification': ''}, {'Title': \"The Beatles' Long Tall Sally\", 'UK Chart Position': '-', 'Label': 'Capitol(CAN)', 'Released': '11 May 1964', 'US Chart Position': '-', 'RIAA Certification': '', 'BPI Certification': ''}, {'Title': \"A Hard Day's Night\", 'UK Chart Position': '-', 'Label': 'United Artists(US)[C]', 'Released': '26 June 1964', 'US Chart Position': '1', 'RIAA Certification': '4xPlatinum', 'BPI Certification': ''}, {'Title': '', 'UK Chart Position': '1', 'Label': 'Parlophone(UK)', 'Released': '10 July 1964', 'US Chart Position': '-', 'RIAA Certification': '', 'BPI Certification': 'Gold'}]\n10\n"
     ]
    }
   ],
   "source": [
    "#解析 CSV 文件\n",
    "import os\n",
    "import csv\n",
    "\n",
    "DATADIR = \"\"\n",
    "DATAFILE = \"beatles-diskography.csv\"\n",
    "\n",
    "\n",
    "# def parse_file(datafile):\n",
    "#     data = []\n",
    "#     \n",
    "#     with open(datafile, \"r\") as f:\n",
    "#         reader = csv.DictReader(f)\n",
    "#         for line in reader:\n",
    "#             data.append(line)\n",
    "# \n",
    "#     return data[:10]\n",
    "\n",
    "def parse_file(datafile):\n",
    "    data = []\n",
    "    \n",
    "    with open(datafile, \"rb\") as f:\n",
    "        header = f.readline().split(',')\n",
    "        count = 0\n",
    "        for line in f:\n",
    "            if count == 10:\n",
    "                break\n",
    "            fields = line.split(',')\n",
    "            entry = {}\n",
    "            for i,value in enumerate(fields):\n",
    "                entry[header[i].strip()] = value.strip()\n",
    "            data.append(entry)\n",
    "            count +=1\n",
    "\n",
    "    return data\n",
    "\n",
    "print parse_file(DATAFILE)\n",
    "print len(parse_file(DATAFILE))"
   ]
  },
  {
   "cell_type": "code",
   "execution_count": 86,
   "metadata": {},
   "outputs": [
    {
     "name": "stdout",
     "output_type": "stream",
     "text": [
      "{'mintime': (2013, 2, 3, 4, 0, 0), 'maxtime': (2013, 8, 13, 17, 0, 0), 'avgcoast': 10976.933460679751, 'maxvalue': 18779.025510000003, 'minvalue': 6602.113898999982}\n18779.02551\n"
     ]
    },
    {
     "data": {
      "text/plain": [
       "{'avgcoast': 10976.933460679751,\n 'maxtime': (2013, 8, 13, 17, 0, 0),\n 'maxvalue': 18779.025510000003,\n 'mintime': (2013, 2, 3, 4, 0, 0),\n 'minvalue': 6602.113898999982}"
      ]
     },
     "execution_count": 86,
     "metadata": {},
     "output_type": "execute_result"
    }
   ],
   "source": [
    "#解析excel文件\n",
    "import xlrd\n",
    "from zipfile import ZipFile\n",
    "\n",
    "def open_zip(datafile):\n",
    "    with ZipFile('{0}.zip'.format(datafile), 'r') as myzip:\n",
    "        myzip.extractall()\n",
    "        \n",
    "def parse_excel(datafile):\n",
    "    workbook = xlrd.open_workbook(datafile)\n",
    "    sheet = workbook.sheet_by_index(0)\n",
    "\n",
    "    data = [[sheet.cell_value(r, col) \n",
    "                for col in range(sheet.ncols)] \n",
    "                    for r in range(sheet.nrows)]\n",
    "\n",
    "    print \"\\nList Comprehension\"\n",
    "    print \"data[3][2]:\",\n",
    "    print data[3][2]\n",
    "\n",
    "    print \"\\nCells in a nested loop:\"    \n",
    "    for row in range(sheet.nrows):\n",
    "        for col in range(sheet.ncols):\n",
    "            if row == 50:\n",
    "                print sheet.cell_value(row, col),\n",
    "\n",
    "\n",
    "    ### other useful methods:\n",
    "    print \"\\nROWS, COLUMNS, and CELLS:\"\n",
    "    print \"Number of rows in the sheet:\", \n",
    "    print sheet.nrows\n",
    "    print \"Type of data in cell (row 3, col 2):\", \n",
    "    print sheet.cell_type(3, 2)\n",
    "    print \"Value in cell (row 3, col 2):\", \n",
    "    print sheet.cell_value(3, 2)\n",
    "    print \"Get a slice of values in column 3, from rows 1-3:\"\n",
    "    print sheet.col_values(3, start_rowx=1, end_rowx=4)\n",
    "\n",
    "    print \"\\nDATES:\"\n",
    "    print \"Type of data in cell (row 1, col 0):\", \n",
    "    print sheet.cell_type(1, 0)\n",
    "    exceltime = sheet.cell_value(1, 0)\n",
    "    print \"Time in Excel format:\",\n",
    "    print exceltime\n",
    "    print \"Convert time to a Python datetime tuple, from the Excel float:\",\n",
    "    print xlrd.xldate_as_tuple(exceltime, 0)\n",
    "\n",
    "    return data\n",
    "\n",
    "def parse_file(datafile):\n",
    "#     Your task is as follows:\n",
    "# - read the provided Excel file\n",
    "# - find and return the min, max and average values for the COAST region\n",
    "# - find and return the time value for the min and max entries\n",
    "# - the time values should be returned as Python tuples\n",
    "    \n",
    "    workbook = xlrd.open_workbook(datafile)\n",
    "    sheet = workbook.sheet_by_index(0)\n",
    "  \n",
    "    col2_values = sheet.col_values(1,start_rowx=1, end_rowx=None)\n",
    "    min_value = min(col2_values)\n",
    "    max_value = max(col2_values)\n",
    "    min_row_id = col2_values.index(min_value)\n",
    "    max_row_id = col2_values.index(max_value)\n",
    "    \n",
    "\n",
    "    max_value_time = sheet.cell_value(max_row_id + 1,0)\n",
    "    py_max_value_time = xlrd.xldate_as_tuple(max_value_time, 0)\n",
    "    min_value_time = sheet.cell_value(min_row_id + 1,0)\n",
    "    py_min_value_time = xlrd.xldate_as_tuple(min_value_time,0)\n",
    "    \n",
    "    \n",
    "\n",
    "  \n",
    "    \n",
    "    data = {\n",
    "            'maxtime': py_max_value_time,\n",
    "            'maxvalue': max_value,\n",
    "            'mintime': py_min_value_time,\n",
    "            'minvalue': min_value,\n",
    "            'avgcoast': sum(col2_values)/len(col2_values)\n",
    "    }\n",
    "    \n",
    "    \n",
    "    print data\n",
    "    print round(data['maxvalue'], 10)\n",
    "    return data\n",
    " \n",
    "# data = parse_excel('2013_ERCOT_Hourly_Load_Data.xls')\n",
    "# data = parse_excel('FORMAITALIANA OFFERTA TOP 09-17.xlsx')\n",
    "# open_zip('2013_ERCOT_Hourly_Load_Data')\n",
    "parse_file('2013_ERCOT_Hourly_Load_Data.xls')"
   ]
  },
  {
   "cell_type": "code",
   "execution_count": null,
   "metadata": {},
   "outputs": [],
   "source": []
  }
 ],
 "metadata": {
  "kernelspec": {
   "display_name": "Python 2",
   "language": "python",
   "name": "python2"
  },
  "language_info": {
   "codemirror_mode": {
    "name": "ipython",
    "version": 2
   },
   "file_extension": ".py",
   "mimetype": "text/x-python",
   "name": "python",
   "nbconvert_exporter": "python",
   "pygments_lexer": "ipython2",
   "version": "2.7.6"
  }
 },
 "nbformat": 4,
 "nbformat_minor": 0
}
