{
 "cells": [
  {
   "cell_type": "code",
   "execution_count": null,
   "metadata": {
    "collapsed": true
   },
   "outputs": [],
   "source": [
    "#解析 CSV 文件\n",
    "import os\n",
    "import csv\n",
    "\n",
    "DATADIR = \"\"\n",
    "DATAFILE = \"beatles-diskography.csv\"\n",
    "\n",
    "\n",
    "# def parse_file(datafile):\n",
    "#     data = []\n",
    "#     \n",
    "#     with open(datafile, \"r\") as f:\n",
    "#         reader = csv.DictReader(f)\n",
    "#         for line in reader:\n",
    "#             data.append(line)\n",
    "# \n",
    "#     return data[:10]\n",
    "\n",
    "def parse_file(datafile):\n",
    "    data = []\n",
    "    \n",
    "    with open(datafile, \"rb\") as f:\n",
    "        header = f.readline().split(',')\n",
    "        count = 0\n",
    "        for line in f:\n",
    "            if count == 10:\n",
    "                break\n",
    "            fields = line.split(',')\n",
    "            entry = {}\n",
    "            for i,value in enumerate(fields):\n",
    "                entry[header[i].strip()] = value.strip()\n",
    "            data.append(entry)\n",
    "            count +=1\n",
    "\n",
    "    return data\n",
    "\n",
    "print parse_file(DATAFILE)\n",
    "print len(parse_file(DATAFILE))"
   ]
  },
  {
   "cell_type": "code",
   "execution_count": null,
   "metadata": {},
   "outputs": [],
   "source": [
    "#使用CSV模块\n",
    "import csv\n",
    "import os\n",
    "\n",
    "DATADIR = \"\"\n",
    "DATAFILE = \"745090.csv\"\n",
    "\n",
    "\n",
    "def parse_file(datafile):\n",
    "    name = \"\"\n",
    "    data = []\n",
    "    with open(datafile,'rb') as f:\n",
    "        name =  f.readline().split(',')[1].strip('\"')\n",
    "        reader = csv.reader(f)\n",
    "        reader.next()\n",
    "        for row in reader:\n",
    "            data.append(row)\n",
    "    # Do not change the line below\n",
    "    return (name, data)\n",
    "\n",
    "# parse_file(DATAFILE)"
   ]
  },
  {
   "cell_type": "code",
   "execution_count": null,
   "metadata": {},
   "outputs": [
    {
     "name": "stdout",
     "output_type": "stream",
     "text": [
      "{'mintime': (2013, 2, 3, 4, 0, 0), 'maxtime': (2013, 8, 13, 17, 0, 0), 'avgcoast': 10976.933460679751, 'maxvalue': 18779.025510000003, 'minvalue': 6602.113898999982}\n18779.02551\n"
     ]
    },
    {
     "data": {
      "text/plain": [
       "{'avgcoast': 10976.933460679751,\n 'maxtime': (2013, 8, 13, 17, 0, 0),\n 'maxvalue': 18779.025510000003,\n 'mintime': (2013, 2, 3, 4, 0, 0),\n 'minvalue': 6602.113898999982}"
      ]
     },
     "execution_count": 86,
     "metadata": {},
     "output_type": "execute_result"
    }
   ],
   "source": [
    "#解析excel文件\n",
    "import xlrd\n",
    "from zipfile import ZipFile\n",
    "\n",
    "def open_zip(datafile):\n",
    "    with ZipFile('{0}.zip'.format(datafile), 'r') as myzip:\n",
    "        myzip.extractall()\n",
    "        \n",
    "def parse_excel(datafile):\n",
    "    workbook = xlrd.open_workbook(datafile)\n",
    "    sheet = workbook.sheet_by_index(0)\n",
    "\n",
    "    data = [[sheet.cell_value(r, col) \n",
    "                for col in range(sheet.ncols)] \n",
    "                    for r in range(sheet.nrows)]\n",
    "\n",
    "    print \"\\nList Comprehension\"\n",
    "    print \"data[3][2]:\",\n",
    "    print data[3][2]\n",
    "\n",
    "    print \"\\nCells in a nested loop:\"    \n",
    "    for row in range(sheet.nrows):\n",
    "        for col in range(sheet.ncols):\n",
    "            if row == 50:\n",
    "                print sheet.cell_value(row, col),\n",
    "\n",
    "\n",
    "    ### other useful methods:\n",
    "    print \"\\nROWS, COLUMNS, and CELLS:\"\n",
    "    print \"Number of rows in the sheet:\", \n",
    "    print sheet.nrows\n",
    "    print \"Type of data in cell (row 3, col 2):\", \n",
    "    print sheet.cell_type(3, 2)\n",
    "    print \"Value in cell (row 3, col 2):\", \n",
    "    print sheet.cell_value(3, 2)\n",
    "    print \"Get a slice of values in column 3, from rows 1-3:\"\n",
    "    print sheet.col_values(3, start_rowx=1, end_rowx=4)\n",
    "\n",
    "    print \"\\nDATES:\"\n",
    "    print \"Type of data in cell (row 1, col 0):\", \n",
    "    print sheet.cell_type(1, 0)\n",
    "    exceltime = sheet.cell_value(1, 0)\n",
    "    print \"Time in Excel format:\",\n",
    "    print exceltime\n",
    "    print \"Convert time to a Python datetime tuple, from the Excel float:\",\n",
    "    print xlrd.xldate_as_tuple(exceltime, 0)\n",
    "\n",
    "    return data\n",
    "\n",
    "def parse_file(datafile):\n",
    "#     Your task is as follows:\n",
    "# - read the provided Excel file\n",
    "# - find and return the min, max and average values for the COAST region\n",
    "# - find and return the time value for the min and max entries\n",
    "# - the time values should be returned as Python tuples\n",
    "    \n",
    "    workbook = xlrd.open_workbook(datafile)\n",
    "    sheet = workbook.sheet_by_index(0)\n",
    "  \n",
    "    col2_values = sheet.col_values(1,start_rowx=1, end_rowx=None)\n",
    "    min_value = min(col2_values)\n",
    "    max_value = max(col2_values)\n",
    "    min_row_id = col2_values.index(min_value)\n",
    "    max_row_id = col2_values.index(max_value)\n",
    "    \n",
    "\n",
    "    max_value_time = sheet.cell_value(max_row_id + 1,0)\n",
    "    py_max_value_time = xlrd.xldate_as_tuple(max_value_time, 0)\n",
    "    min_value_time = sheet.cell_value(min_row_id + 1,0)\n",
    "    py_min_value_time = xlrd.xldate_as_tuple(min_value_time,0)\n",
    "    \n",
    "    \n",
    "\n",
    "  \n",
    "    \n",
    "    data = {\n",
    "            'maxtime': py_max_value_time,\n",
    "            'maxvalue': max_value,\n",
    "            'mintime': py_min_value_time,\n",
    "            'minvalue': min_value,\n",
    "            'avgcoast': sum(col2_values)/len(col2_values)\n",
    "    }\n",
    "    \n",
    "    \n",
    "    print data\n",
    "    print round(data['maxvalue'], 10)\n",
    "    return data\n",
    " \n",
    "# data = parse_excel('2013_ERCOT_Hourly_Load_Data.xls')\n",
    "# data = parse_excel('FORMAITALIANA OFFERTA TOP 09-17.xlsx')\n",
    "# open_zip('2013_ERCOT_Hourly_Load_Data')\n",
    "parse_file('2013_ERCOT_Hourly_Load_Data.xls')"
   ]
  },
  {
   "cell_type": "code",
   "execution_count": 96,
   "metadata": {},
   "outputs": [
    {
     "name": "stdout",
     "output_type": "stream",
     "text": [
      "[['Station', 'Year', 'Month', 'Day', 'Hour', 'Max Load'], [u'COAST', '2013', '8', '13', 18779.0], [u'EAST', '2013', '8', '5', 2380.2], [u'FAR_WEST', '2013', '6', '26', 2281.3], [u'NORTH', '2013', '8', '7', 1544.8], [u'NORTH_C', '2013', '8', '7', 24415.6], [u'SOUTHERN', '2013', '8', '8', 5494.2], [u'SOUTH_C', '2013', '8', '8', 11433.3], [u'WEST', '2013', '8', '7', 1862.6], [u'ERCOT', '2013', '8', '7', 67595.8]]\n"
     ]
    }
   ],
   "source": [
    "#EXCEL至CSV\n",
    "import xlrd\n",
    "import os\n",
    "import csv\n",
    "from zipfile import ZipFile\n",
    "\n",
    "datafile = \"2013_ERCOT_Hourly_Load_Data.xls\"\n",
    "outfile = \"2013_Max_Loads.csv\"\n",
    "\n",
    "\n",
    "def open_zip(datafile):\n",
    "    with ZipFile('{0}.zip'.format(datafile), 'r') as myzip:\n",
    "        myzip.extractall()\n",
    "\n",
    "\n",
    "def parse_file(datafile):\n",
    "    workbook = xlrd.open_workbook(datafile)\n",
    "    sheet = workbook.sheet_by_index(0)\n",
    "  \n",
    "    data = [['Station','Year','Month','Day','Hour','Max Load']]\n",
    "    for col in range(1,sheet.ncols):\n",
    "        \n",
    "        station_name = sheet.cell_value(0,col)\n",
    "        col_value = sheet.col_values(col ,start_rowx=1, end_rowx=None)\n",
    "        max_value =  max(col_value)\n",
    "        max_value_index = col_value.index(max_value)\n",
    "        max_value_time = sheet.cell_value(max_value_index + 1, 0)\n",
    "        max_value_time_python = xlrd.xldate_as_tuple(max_value_time,0)\n",
    "        year = str(max_value_time_python).split()[0].strip('(').strip(',')\n",
    "        month = str(max_value_time_python).split()[1].strip(',')\n",
    "        day = str(max_value_time_python).split()[2].strip(',')\n",
    "        data.append([station_name,year,month,day,round(max_value,1)])\n",
    "        \n",
    "\n",
    "    # YOUR CODE HERE\n",
    "    # Remember that you can use xlrd.xldate_as_tuple(sometime, 0) to convert\n",
    "    # Excel date to Python tuple of (year, month, day, hour, minute, second)\n",
    "    return data\n",
    "\n",
    "data = parse_file(datafile)\n",
    "def save_file(data, filename):\n",
    "    with open(filename,'wb') as f:\n",
    "        writer = csv.writer(f,delimiter='|')\n",
    "        \n",
    "        writer.writerows(data)\n",
    "        \n",
    "    \n",
    "\n",
    "\n",
    "print parse_file(datafile)\n",
    "save_file(data,outfile)\n",
    "\n",
    "#解答：\n",
    "\n",
    "def parse_file(datafile):\n",
    "    workbook = xlrd.open_workbook(datafile)\n",
    "    sheet = workbook.sheet_by_index(0)\n",
    "    data = {}\n",
    "    # process all rows that contain station data\n",
    "    for n in range (1, 9):\n",
    "        station = sheet.cell_value(0, n)\n",
    "        cv = sheet.col_values(n, start_rowx=1, end_rowx=None)\n",
    "\n",
    "        maxval = max(cv)\n",
    "        maxpos = cv.index(maxval) + 1\n",
    "        maxtime = sheet.cell_value(maxpos, 0)\n",
    "        realtime = xlrd.xldate_as_tuple(maxtime, 0)\n",
    "        data[station] = {\"maxval\": maxval,\n",
    "                         \"maxtime\": realtime}\n",
    "\n",
    "    print data\n",
    "    return data\n",
    "\n",
    "def save_file(data, filename):\n",
    "    with open(filename, \"w\") as f:\n",
    "        w = csv.writer(f, delimiter='|')\n",
    "        w.writerow([\"Station\", \"Year\", \"Month\", \"Day\", \"Hour\", \"Max Load\"])\n",
    "        for s in data:\n",
    "            year, month, day, hour, _ , _= data[s][\"maxtime\"]\n",
    "            w.writerow([s, year, month, day, hour, data[s][\"maxval\"]])"
   ]
  },
  {
   "cell_type": "code",
   "execution_count": 100,
   "metadata": {},
   "outputs": [],
   "source": [
    "#解析json\n",
    "import json\n",
    "import requests\n",
    "\n",
    "BASE_URL = \"http://musicbrainz.org/ws/2/\"\n",
    "ARTIST_URL = BASE_URL + \"artist/\"\n",
    "\n",
    "\n",
    "query_type = {  \"simple\": {},\n",
    "                \"atr\": {\"inc\": \"aliases+tags+ratings\"},\n",
    "                \"aliases\": {\"inc\": \"aliases\"},\n",
    "                \"releases\": {\"inc\": \"releases\"}}\n",
    "\n",
    "def query_myself(name):\n",
    "    params = {}\n",
    "    params[\"fmt\"] = 'json'\n",
    "    params[\"query\"] = \"artist:\" + name\n",
    "    r = requests.get(ARTIST_URL,params=params)\n",
    "    \n",
    "    if r.status_code == requests.codes.ok:\n",
    "        return r.json()\n",
    "    else:\n",
    "        r.raise_for_status()\n",
    "    \n",
    "    print \"requesting\", r.url\n",
    "    \n",
    "\n",
    " \n",
    "\n",
    "def query_site(url, params, uid=\"\", fmt=\"json\"):\n",
    "    \"\"\"\n",
    "    This is the main function for making queries to the musicbrainz API. The\n",
    "    query should return a json document.\n",
    "    \"\"\"\n",
    "    params[\"fmt\"] = fmt\n",
    "    r = requests.get(url + uid, params=params)\n",
    "    print \"requesting\", r.url\n",
    "\n",
    "    if r.status_code == requests.codes.ok:\n",
    "        return r.json()\n",
    "    else:\n",
    "        r.raise_for_status()\n",
    "        \n",
    "def query_by_name(url, params, name):\n",
    "    params[\"query\"] = \"artist:\" + name\n",
    "    return query_site(url, params)\n",
    "        \n",
    "def pretty_print(data, indent=4):\n",
    "    if type(data) == dict:\n",
    "        print json.dumps(data, indent=indent, sort_keys=True)\n",
    "    else:\n",
    "        print data\n",
    "\n",
    "def main():\n",
    "    # Query for information in the database about bands named Nirvana\n",
    "    results = query_by_name(ARTIST_URL, query_type[\"simple\"], \"Nirvana\")\n",
    "    pretty_print(results)\n",
    "\n",
    "    # Isolate information from the 4th band returned (index 3)\n",
    "    print \"\\nARTIST:\"\n",
    "    pretty_print(results[\"artists\"][3])\n",
    "    # \n",
    "    # # Query for releases from that band using the artist_id\n",
    "    artist_id = results[\"artists\"][3][\"id\"]\n",
    "    artist_data = query_site(ARTIST_URL, query_type[\"releases\"], artist_id)\n",
    "    releases = artist_data[\"releases\"]\n",
    "    # \n",
    "    # # Print information about releases from the selected band\n",
    "    print \"\\nONE RELEASE:\"\n",
    "    pretty_print(releases[0], indent=2)\n",
    "\n",
    "    release_titles = [r[\"title\"] for r in releases]\n",
    "    print \"\\nALL TITLES:\"\n",
    "    for t in release_titles:\n",
    "        print t\n",
    "\n",
    "# pretty_print(query_myself(\"Nirvana\"))\n",
    "# main()"
   ]
  },
  {
   "cell_type": "code",
   "execution_count": 1,
   "metadata": {
    "collapsed": true
   },
   "outputs": [],
   "source": [
    "#整理json\n",
    "#你的任务是修改 article_overview() 函数以处理表示前一天最热门文章（按阅读数量排名）的已保存文件，并返回一个变量元祖，其中包含以下数据：\n",
    "#-    标签：字典列表，其中键是“版块”值，值是每个所检索的文章的“标题”值。\n",
    "#-    URL：所有“media”条目的 URL 列表，“格式”为：标准缩略图\n",
    "import json\n",
    "import codecs\n",
    "import requests\n",
    "\n",
    "URL_MAIN = \"http://api.nytimes.com/svc/\"\n",
    "URL_POPULAR = URL_MAIN + \"mostpopular/v2/\"\n",
    "API_KEY = { \"popular\": \"6b1fc3e913204bec99b553e8cef7052e\",\n",
    "            \"article\": \"6b1fc3e913204bec99b553e8cef7052e\"}\n",
    "\n",
    "\n",
    "def get_from_file(kind, period):\n",
    "    filename = \"popular-{0}-{1}.json\".format(kind, period)\n",
    "    with open(filename, \"r\") as f:\n",
    "        return json.loads(f.read())\n",
    "\n",
    "# def test(kind, period):\n",
    "#     data = get_from_file(kind, period)\n",
    "#     for d in data:\n",
    "#         if d['media'] == \"\":\n",
    "#             print 'Y'\n",
    "#         else:\n",
    "#             print d['media'][0]['media-metadata']\n",
    "        \n",
    "        \n",
    "    # urls = []\n",
    "    # url = data1['media']\n",
    "    # print data[0]['media'][0]['media-metadata']\n",
    "    \n",
    "def article_overview(kind, period):\n",
    "    data = get_from_file(kind, period)\n",
    "    titles = []\n",
    "    urls = []\n",
    "  \n",
    "    for i in data:\n",
    "        dict_title = {}\n",
    "        section = i[\"section\"]\n",
    "        title = i[\"title\"]\n",
    "        dict_title[section] = title\n",
    "        titles.append(dict_title)\n",
    "        if i['media'] != \"\":\n",
    "            url_for = i['media'][0]['media-metadata']\n",
    "            for url in url_for:\n",
    "                if url['format'] == \"Standard Thumbnail\":\n",
    "                    # print url['url']\n",
    "                    urls.append(url['url'])\n",
    "\n",
    "    # return (titles, urls)\n",
    "    print len(urls)\n",
    "    return urls\n",
    "\n",
    "#解答：\n",
    "# def article_overview(kind, period):\n",
    "#     data = get_from_file(kind, period)\n",
    "#     titles = []\n",
    "#     urls =[]\n",
    "# \n",
    "#     for article in data:\n",
    "#         section = article[\"section\"]\n",
    "#         title = article[\"title\"]\n",
    "#         titles.append({section: title})\n",
    "#         if \"media\" in article:\n",
    "#             for m in article[\"media\"]:\n",
    "#                 for mm in m[\"media-metadata\"]:\n",
    "#                     if mm[\"format\"] == \"Standard Thumbnail\":\n",
    "#                         urls.append(mm[\"url\"])\n",
    "#     print titles\n",
    "#     print urls\n",
    "#     return (titles, urls)\n",
    "    \n",
    "\n",
    "\n",
    "def query_site(url, target, offset):\n",
    "    # This will set up the query with the API key and offset\n",
    "    # Web services often use offset paramter to return data in small chunks\n",
    "    # NYTimes returns 20 articles per request, if you want the next 20\n",
    "    # You have to provide the offset parameter\n",
    "    if API_KEY[\"popular\"] == \"\" or API_KEY[\"article\"] == \"\":\n",
    "        print \"You need to register for NYTimes Developer account to run this program.\"\n",
    "        print \"See Intructor notes for information\"\n",
    "        return False\n",
    "    params = {\"api-key\": API_KEY[target], \"offset\": offset}\n",
    "    r = requests.get(url, params = params)\n",
    "\n",
    "    if r.status_code == requests.codes.ok:\n",
    "        return r.json()\n",
    "    else:\n",
    "        r.raise_for_status()\n",
    "\n",
    "\n",
    "def get_popular(url, kind, days, section=\"all-sections\", offset=0):\n",
    "    # This function will construct the query according to the requirements of the site\n",
    "    # and return the data, or print an error message if called incorrectly\n",
    "    if days not in [1,7,30]:\n",
    "        print \"Time period can be 1,7, 30 days only\"\n",
    "        return False\n",
    "    if kind not in [\"viewed\", \"shared\", \"emailed\"]:\n",
    "        print \"kind can be only one of viewed/shared/emailed\"\n",
    "        return False\n",
    "\n",
    "    url += \"most{0}/{1}/{2}.json\".format(kind, section, days)\n",
    "    data = query_site(url, \"popular\", offset)\n",
    "    \n",
    "    return data\n",
    "\n",
    "\n",
    "def save_file(kind, period):\n",
    "    # This will process all results, by calling the API repeatedly with supplied offset value,\n",
    "    # combine the data and then write all results in a file.\n",
    "    data = get_popular(URL_POPULAR, \"viewed\", 1)\n",
    "    num_results = data[\"num_results\"]\n",
    "    full_data = []\n",
    "    print 'saved!'\n",
    "    with codecs.open(\"popular-{0}-{1}.json\".format(kind, period), encoding='utf-8', mode='w') as v:\n",
    "        for offset in range(0, num_results, 20):        \n",
    "            data = get_popular(URL_POPULAR, kind, period, offset=offset)\n",
    "            full_data += data[\"results\"]\n",
    "        \n",
    "        v.write(json.dumps(full_data, indent=2))\n",
    "    print 'saved!'\n",
    "\n",
    "# article_overview(\"viewed\", 1)"
   ]
  },
  {
   "cell_type": "code",
   "execution_count": 1,
   "metadata": {},
   "outputs": [],
   "source": [
    ""
   ]
  },
  {
   "cell_type": "code",
   "execution_count": 6,
   "metadata": {
    "collapsed": true
   },
   "outputs": [
    {
     "name": "stdout",
     "output_type": "stream",
     "text": [
      "befor request!!!!!\n"
     ]
    },
    {
     "name": "stdout",
     "output_type": "stream",
     "text": [
      "request Done!\n"
     ]
    },
    {
     "name": "stdout",
     "output_type": "stream",
     "text": [
      "befor request!!!!!\n"
     ]
    }
   ],
   "source": [
    ""
   ]
  },
  {
   "cell_type": "code",
   "execution_count": 3,
   "metadata": {
    "collapsed": true
   },
   "outputs": [
    {
     "name": "stdout",
     "output_type": "stream",
     "text": [
      "['AS', 'G4', 'AA', '5Y', 'DL', 'MQ', 'EV', 'F9', 'HA', 'B6', 'OO', 'WN', 'NK', 'UA', 'VX']\n"
     ]
    },
    {
     "name": "stdout",
     "output_type": "stream",
     "text": [
      "['ATL', 'BWI', 'BOS', 'CLT', 'MDW', 'ORD', 'DAL', 'DFW', 'DEN', 'DTW', 'FLL', 'IAH', 'LAS', 'LAX', 'MIA', 'MSP', 'JFK', 'LGA', 'EWR', 'MCO', 'PHL', 'PHX', 'PDX', 'SLC', 'SAN', 'SFO', 'SEA', 'TPA', 'DCA', 'IAD', 'UXM', 'ABR', 'ABI', 'DYS', 'ADK', 'VZF', 'BQN', 'AKK', 'KKI', 'AKI', 'AKO', 'CAK', '7AK', 'KQA', 'AUK', 'ALM', 'ALS', 'ABY', 'ALB', 'ABQ', 'ZXB', 'WKK', 'AED', 'AEX', 'AXN', 'AET', 'ABE', 'AIA', 'APN', 'DQH', 'AOO', 'AMA', 'ABL', 'OQZ', 'AOS', 'OTS', 'AKP', 'EDF', 'DQL', 'MRI', 'ANC', 'AND', 'AGN', 'ANI', 'ANN', 'ANB', 'ANV', 'ATW', 'ACV', 'ARC', 'ADM', 'AVL', 'HTS', 'ASE', 'AST', 'AHN', 'AKB', 'PDK', 'FTY', 'ACY', 'ATT', 'ATK', 'MER', 'AUO', 'AGS', 'AUG', 'AUS', 'A28', 'BFL', 'BGR', 'BHB', 'BRW', 'BTI', 'BQV', 'A2K', 'BTR', 'BTL', 'AK2', 'A56', 'BTY', 'BPT', 'BVD', 'WBQ', 'BKW', 'BED', 'A11', 'KBE', 'BLV', 'BLI', 'BLM', 'JVL', 'BVU', 'BJI', 'RDM', 'BEH', 'BET', 'BTT', 'BVY', 'OQB', 'A50', 'BIC', 'BIG', 'BGQ', 'BMX', 'PWR', 'A85', 'BIL', 'BIX', 'BGM', 'KBC', 'BHM', 'BIS', 'BYW', 'BID', 'BMG', 'BMI', 'BFB', 'BYH', 'BCT', 'BOI', 'RLU', 'BXS', 'BLD', 'BYA', 'BWG', 'BZN', 'BFD', 'A23', 'BRD', 'BKG', 'BWC', 'PWT', 'KTS', 'BDR', 'TRI', 'BKX', 'RBH', 'BRO', 'BWD', 'BQK', 'BCE', 'BKC', 'BUF', 'IFP', 'BUR', 'BRL', 'BTV', 'MVW', 'BNO', 'BTM', 'USA', 'UXI', 'CDW', 'C01', 'ADW', 'CDL', 'CGI', 'LUR', 'EHM', 'CZF', 'A61', 'A40', 'CYT', 'MDH', 'CLD', 'CNM', 'A87', 'CPR', 'CDC', 'CID', 'JRV', 'NRR', 'CEM', 'CDR', 'CIK', 'CMI', 'WCR', 'CHS', 'CRW', 'SPB', 'STT', 'CHO', 'CYM', 'CHA', 'CYF', 'WA7', 'CEX', 'EGA', 'NCN', 'KCN', 'VAK', 'CYS', 'PWK', 'DPA', 'LOT', 'CKX', 'CIC', 'CEF', 'KCG', 'KCL', 'WQZ', 'KCQ', 'CZN', 'CIV', 'ZXH', 'SSB', 'STX', 'CHU', 'LUK', 'CVG', 'OQC', 'A12', 'CHP', 'IRC', 'CLP', 'CKB', 'BKL', 'CLE', 'CGF', 'CFT', 'CLK', 'ZXN', 'CVN', 'ZXI', 'OOB', 'COD', 'CFA', 'KCC', 'A69', 'CDB', 'CXF', 'CLL', 'KCR', 'COS', 'COA', 'COU', 'CAE', 'CSG', 'CBM', 'GTR', 'CMH', 'OSU', 'LCK', 'CCR', 'JLA', 'CKU', 'CDV', 'CBA', 'CRP', 'CEZ', 'CVO', 'CIL', 'CGA', 'CEC', 'CKD', 'CUW', 'CPX', 'CBE', 'DCK', 'ADS', 'RBD', 'AFW', 'FTW', 'DGB', 'DAN', 'WQW', 'MGY', 'DAY', 'DAB', 'AA8', 'SCC', 'FVZ', 'A02', 'DTH', 'DTR', 'DCU', 'DEC', 'XXV', 'A36', 'DHB', 'DRG', 'DRT', 'DLF', 'DJN', 'DMN', 'DTO', 'APA', 'FTG', 'DSM', 'DSI', 'DTL', 'DET', 'DTT', 'YIP', 'DVL', 'DIK', 'DLG', 'DIO', 'DDC', 'FVQ', 'DOF', 'DHN', 'DOV', 'DRF', 'A22', 'FQQ', 'DUJ', 'DBQ', 'DLH', 'A4K', 'AMK', 'DRO', 'A99', 'EAA', 'EGE', 'FRG', 'HTO', 'GA0', 'ESN', 'ESD', 'EAU', 'EDA', 'EDW', 'EEK', 'EGX', 'KKU', 'KEK', 'ZXO', 'IPL', 'ELD', 'BIF', 'ELP', 'ELV', 'ELI', 'EKO', 'ELM', 'LYU', 'ELY', 'EMK', 'WDG', 'ERI', 'ESC', 'EUG', 'EVV', 'EVM', 'PAE', 'EXI', 'EIL', 'FAI', 'FBK', 'A01', 'A6K', 'SUU', 'FAJ', 'KFP', 'FWL', 'FAR', 'FMN', 'FYV', 'XNA', 'FAY', 'POB', 'FFM', 'FIC', 'FAQ', 'FLG', 'FNT', 'FLO', 'FNL', 'WRI', 'FOD', 'FQW', 'FHU', 'TBN', 'RSW', 'FPR', 'FSI', 'FSM', 'FWA', 'FWH', 'FYU', 'FKL', 'VZE', 'FAT', 'FRD', 'FBS', 'FNR', 'GNV', 'GVL', 'GBH', 'GAL', 'GUP', 'GAM', 'GEK', 'GCK', 'GYY', 'GCC', 'AQY', 'GGW', 'AZ3', 'GDV', 'AK6', 'FVW', 'GLV', 'GNU', 'GYR', 'FVX', 'JGC', 'GCN', 'AZ1', 'GFK', 'GRI', 'GJT', 'GRR', 'GPZ', 'VWZ', 'GMT', 'XWA', 'KGX', 'GBD', 'GTF', 'GRB', 'GSO', 'GLH', 'PGV', 'GVT', 'GWO', 'GSP', 'UAM', 'GUM', 'GUF', 'GPT', 'GKN', 'GUC', 'GST', 'HGR', 'HNS', 'A03', 'HNM', 'CMX', 'VWD', 'ZXJ', 'HRL', 'MDT', 'HRO', 'BDL', 'PIB', 'HVR', 'HWI', 'HHR', 'HDN', 'HYS', 'HKB', 'HLN', 'T2X', 'HES', 'HIB', 'HKY', 'HIO', 'ITO', 'HHH', 'HBH', 'HOB', 'HGZ', 'HOL', 'HYL', 'HCR', 'HOM', 'HST', 'VWX', 'HNL', 'MKK', 'HNH', 'HPB', 'HOP', 'HOT', 'DWH', 'EFD', 'HOU', 'HUS', 'HSV', 'HON', 'HSL', 'HUT', 'HYA', 'HYG', 'WHD', 'ICY', 'IDA', 'IGG', 'ILI', 'ZXF', 'IND', 'MQJ', 'INL', 'A57', 'IYK', 'IMT', 'IWD', 'ISP', 'SAW', 'ITH', 'KIB', 'A59', 'A26', 'MKL', 'JAC', 'JAN', 'NZC', 'JAX', 'NIP', 'OAJ', 'JMS', 'JHW', 'VZM', 'JON', 'JST', 'JBR', 'JLN', 'JNU', 'OGG', 'KAE', 'A37', 'A35', 'KKK', 'AZO', 'LUP', 'FCA', 'KLG', 'KAL', 'MUE', 'KNB', 'MKC', 'MCI', 'JHM', 'JRF', 'KKL', 'A65', 'KYK', 'KXA', 'KUK', 'VZR', 'VZY', 'FQD', 'VIK', 'MVM', 'EAR', 'EEN', 'ENA', 'KEH', 'KTN', 'WFB', 'DQU', 'EYW', 'NQX', 'QQB', 'IAN', 'GRK', 'ILE', 'A29', 'KVC', 'AKN', 'IGM', 'ISO', 'KPN', 'IRK', 'KKB', 'KVL', 'KZH', '06A', 'LMT', 'KLW', 'SZL', 'TYS', 'OBU', 'A43', 'ADQ', 'KDK', 'A41', 'KNK', 'KGK', 'KOA', 'KKH', 'KOT', 'OTZ', 'KKA', 'KYU', 'LKK', 'UUK', 'KWT', 'KWK', 'LSE', 'LAF', 'LFT', 'LCH', 'XXW', 'HII', 'LMA', 'TVL', 'LNY', 'ZXK', 'WJF', 'LNS', 'LAN', 'LAR', 'LRD', 'KLN', 'HSH', 'LSV', 'VGT', 'LBE', 'LZU', 'LAW', 'ALZ', 'LEB', 'VA4', 'KLL', 'LWB', 'LWS', 'LEW', 'LWT', 'LEX', 'LBL', 'LIH', 'UXA', 'LVD', 'LNK', 'LIT', '05A', 'LGU', 'LNI', 'LGB', 'LIJ', 'GGG', 'LPS', 'LPR', 'LAM', 'SDF', 'LBB', 'LYH', 'MCN', 'MSN', 'A75', 'MMH', 'MNZ', 'MHT', 'MHK', 'MBL', 'MLY', 'KMO', 'MZJ', 'MTH', 'MYH', 'MWA', 'MQT', 'MLL', 'MVY', 'MCW', 'MSS', 'MYK', 'MAZ', 'MYL', 'MXY', 'MCK', 'OQA', 'MCG', 'MCL', 'MFR', 'MDR', 'MYU', 'MLB', 'OQL', 'MEM', 'XXX', 'MCE', 'MEI', 'OQM', 'MFH', 'MTM', 'WMK', 'MPB', '6B0', 'MDO', 'MAF', 'MDY', 'MLS', 'NQA', 'MKE', 'MHM', 'MWL', 'STP', 'MIB', 'MOT', 'MNT', 'MFE', 'MSO', 'CNY', 'BFM', 'MOB', 'MOD', 'VZG', 'MLI', 'MLU', 'MRY', 'MGM', 'MTJ', 'UXR', 'MGW', 'MMU', 'MVL', 'KMY', 'MWH', 'MOS', 'CWA', 'MUO', 'NUQ', 'MOU', 'A13', 'MSL', 'VZC', 'MKG', 'MYR', 'NNK', 'WQR', 'AA2', 'ACK', 'KEB', 'APC', 'WNA', 'KPM', 'PKA', 'APF', 'BNA', 'NKI', 'NLG', 'ENN', 'EWB', 'EWN', 'HVN', 'ARA', 'GON', 'NEW', 'MSY', 'DQN', 'KNW', 'JRB', 'TSS', 'NYC', 'SWF', 'LFI', 'PHF', 'ONP', 'WWT', 'EWK', 'IAG', 'NME', 'NIB', 'IKO', 'NIN', 'RQI', 'WTK', 'OME', 'NNL', 'ORV', 'OFK', 'ORF', 'NGU', 'OTH', 'LBF', 'MA5', 'OHC', 'ORT', 'NUI', 'NUL', 'NUP', 'ZNC', 'ODW', 'OAK', 'OCF', 'OFU', 'HIF', 'OGD', 'OGS', 'OKC', 'OJC', 'JCI', 'OLH', 'KOY', 'XWS', 'OLV', 'OLM', 'OMA', 'ONN', 'ONT', 'OPH', 'ORL', 'OSH', 'KOZ', 'OWB', 'UOX', 'OXR', 'PBK', 'PAH', 'PGA', 'PPG', 'PCE', 'PSP', 'PMD', 'PAQ', 'PFN', 'ECP', 'PAM', 'PKD', 'PKB', 'PSC', 'PRB', 'DQR', '1G4', 'DQW', 'WQJ', 'PDB', 'PEC', 'PLN', 'PDT', 'PNS', 'NPA', 'PIA', 'KPV', 'VYS', 'GUS', 'PSG', 'PNF', 'PNE', 'LUF', 'DVT', 'AZA', 'SCF', 'PIR', 'PIP', 'UGB', 'PQS', 'SOP', 'AGC', 'PIT', 'PSF', 'PTU', 'PLB', 'PBG', 'PTR', 'PIH', 'A27', 'KPB', 'PHO', 'PIZ', 'POQ', 'PNC', 'PSE', 'PTK', 'PVY', 'PTD', 'PTC', 'PTA', 'CLM', 'KPY', 'KPC', 'PGM', 'PTH', 'A48', 'ORI', 'PML', 'PPV', 'TWD', 'A17', 'KPR', 'PCA', 'WQU', 'PTV', 'PWM', 'PSM', 'PRC', 'PQI', 'PUC', 'BLF', 'PPC', 'PVD', 'PVC', 'PVU', 'PUO', 'A39', 'PUB', 'PUW', 'OQP', 'PGD', 'AK5', 'UIN', 'KWN', 'RDU', 'RMP', 'RCA', 'RAP', 'RSP', 'RDG', 'RDV', 'RDB', 'A76', 'A04', 'RDR', 'RDD', 'RNO', 'RNT', 'RHI', 'RIC', 'RIL', 'RIV', 'RIW', 'ROA', 'RCE', 'RST', 'ROC', 'RKS', 'RFD', 'RKD', 'RWI', 'ROG', 'FAL', 'RME', 'ROL', 'RSJ', 'ROW', 'ROP', 'RBY', 'RUI', 'RSH', 'RSN', 'RUT', 'SAC', 'SMF', 'SAD', 'MBS', 'SPN', 'SLE', 'SLT', 'SLN', 'SNS', 'SBY', 'SMN', 'ZXM', 'SJT', 'SKF', 'SAT', 'NKX', 'MYF', 'NZY', 'SJC', 'WSJ', 'SIG', 'SJU', 'SBP', 'SDP', 'KSR', 'OQS', 'SFB', 'SNA', 'SBA', 'SAF', 'SMX', 'SMO', 'STS', 'SLK', 'SRQ', 'CIU', 'SVN', 'SAV', 'SVA', 'SCM', 'BFF', 'AVP', 'SYB', 'BFI', 'LKE', 'SDX', 'A07', 'WLK', 'SOV', 'A31', 'SQV', 'SWD', 'SHX', 'SKK', 'A90', 'A77', 'SXP', 'SYA', 'SHR', 'PNX', 'OQV', 'SHH', 'SOW', 'BAD', 'SHV', 'SHG', 'SDY', 'SVC', 'SUX', 'FSD', 'NKT', 'SIT', 'SKJ', 'SGY', 'SKW', 'SLQ', 'SCJ', 'MQY', 'SXQ', 'SBN', 'WSN', 'SVW', 'GEG', 'SPI', 'SGF', 'UST', 'STC', 'STG', 'SGU', 'STJ', 'CPS', 'SUS', 'STL', 'KSM', 'SMK', 'SNP', 'PIE', 'RMN', 'STF', 'SCE', 'SHD', 'WSB', 'WBB', 'WA6', 'VZO', 'SVS', 'SWO', 'SCK', 'SRV', 'SSC', 'SUN', 'SYR', 'TCM', 'TIW', 'TCT', 'TKA', 'TLH', 'MCF', 'TAL', 'TSM', 'TLJ', 'TEK', 'TAV', 'TWE', 'TLF', 'TLA', 'TEX', 'TKE', 'HUF', 'A30', 'TEB', 'TEH', 'TXK', 'DLS', 'TRM', 'TVF', 'KTB', 'TNC', 'TIQ', 'TOG', 'TKJ', 'TKI', 'OOK', 'TOL', 'TPH', 'FOE', 'JZE', 'TVC', 'TTN', 'TTD', 'TUS', 'TUL', 'TLT', 'UTM', 'WTL', 'TNK', 'TUP', 'TCL', 'TWF', 'TWA', 'TYR', 'TYE', 'UGI', 'UGS', 'UMT', 'UMB', 'UNK', 'DUT', 'UTO', 'VDZ', 'VLD', 'VPS', 'VPZ', 'VNY', 'VUO', 'VEE', 'VEL', 'VRB', 'VCT', 'VCV', 'A67', 'VQS', 'VCB', 'A70', 'VIS', 'OQI', 'CNW', 'ACT', 'AIN', 'AWK', 'WAA', 'ALW', 'WWA', 'OXC', 'KWF', 'ALO', 'ART', 'ATY', 'EAT', 'ENV', 'VT1', 'AWM', 'PBI', 'KWP', 'WYS', 'WST', 'BAF', 'FOK', 'WSX', 'WWP', 'WMO', 'HPN', 'DQS', 'SPS', 'ICT', 'WDB', 'VZN', 'IPT', 'ISN', 'WOW', 'ILG', 'ILM', 'ILN', 'WGO', 'INW', 'INT', 'WA5', 'WSM', 'OLF', 'ORH', 'WRL', 'WRG', 'YKM', 'YAK', 'XWC', 'WYB', 'YNG', 'A63', 'NYL', 'YUM', 'KZB', 'AK8']\n"
     ]
    }
   ],
   "source": [
    "\n"
   ]
  },
  {
   "cell_type": "code",
   "execution_count": 7,
   "metadata": {},
   "outputs": [
    {
     "name": "stdout",
     "output_type": "stream",
     "text": [
      "start\n"
     ]
    },
    {
     "ename": "ValueError",
     "evalue": "invalid literal for int() with base 10: ''",
     "traceback": [
      "\u001b[1;31m\u001b[0m",
      "\u001b[1;31mValueError\u001b[0mTraceback (most recent call last)",
      "\u001b[1;32m<ipython-input-7-736b3058c37f>\u001b[0m in \u001b[0;36m<module>\u001b[1;34m()\u001b[0m\n\u001b[0;32m    140\u001b[0m \u001b[1;31m#     test()\u001b[0m\u001b[1;33m\u001b[0m\u001b[1;33m\u001b[0m\u001b[0m\n\u001b[0;32m    141\u001b[0m \u001b[1;33m\u001b[0m\u001b[0m\n\u001b[1;32m--> 142\u001b[1;33m \u001b[0mprocess_file\u001b[0m\u001b[1;33m(\u001b[0m\u001b[1;34m'FL-ATL.html'\u001b[0m\u001b[1;33m)\u001b[0m\u001b[1;33m\u001b[0m\u001b[0m\n\u001b[0m",
      "\u001b[1;32m<ipython-input-7-736b3058c37f>\u001b[0m in \u001b[0;36mprocess_file\u001b[1;34m(f)\u001b[0m\n\u001b[0;32m     76\u001b[0m              \u001b[0mentry\u001b[0m\u001b[1;33m[\u001b[0m\u001b[1;34m'year'\u001b[0m\u001b[1;33m]\u001b[0m \u001b[1;33m=\u001b[0m \u001b[0mint\u001b[0m\u001b[1;33m(\u001b[0m\u001b[0myear\u001b[0m\u001b[1;33m)\u001b[0m\u001b[1;33m\u001b[0m\u001b[0m\n\u001b[0;32m     77\u001b[0m              \u001b[0mentry\u001b[0m\u001b[1;33m[\u001b[0m\u001b[1;34m'month'\u001b[0m\u001b[1;33m]\u001b[0m \u001b[1;33m=\u001b[0m \u001b[0mint\u001b[0m\u001b[1;33m(\u001b[0m\u001b[0mmonth\u001b[0m\u001b[1;33m)\u001b[0m\u001b[1;33m\u001b[0m\u001b[0m\n\u001b[1;32m---> 78\u001b[1;33m              entry['flights'] = {'domestic':int(domestic),\n\u001b[0m\u001b[0;32m     79\u001b[0m                                    'international':int(international)}\n\u001b[0;32m     80\u001b[0m \u001b[1;33m\u001b[0m\u001b[0m\n",
      "\u001b[1;31mValueError\u001b[0m: invalid literal for int() with base 10: ''"
     ],
     "output_type": "error"
    }
   ],
   "source": [
    ""
   ]
  },
  {
   "cell_type": "code",
   "execution_count": 51,
   "metadata": {},
   "outputs": [
    {
     "name": "stdout",
     "output_type": "stream",
     "text": [
      "656\n1070\n1724\n2119\n"
     ]
    }
   ],
   "source": [
    ""
   ]
  },
  {
   "cell_type": "code",
   "execution_count": 29,
   "metadata": {},
   "outputs": [],
   "source": [
    ""
   ]
  },
  {
   "cell_type": "code",
   "execution_count": 2,
   "metadata": {},
   "outputs": [
    {
     "name": "stdout",
     "output_type": "stream",
     "text": [
      "<type 'str'>\n<type 'str'>\n<type 'str'>\n<type 'str'>\n<type 'str'>\n<type 'str'>\n<type 'str'>\n<type 'str'>\n<type 'str'>\n<type 'str'>\n<type 'str'>\n<type 'str'>\n<type 'str'>\n<type 'str'>\n<type 'str'>\n<type 'str'>\n<type 'str'>\n<type 'str'>\n<type 'str'>\n<type 'str'>\n<type 'str'>\n<type 'str'>\n<type 'str'>\n<type 'str'>\n<type 'str'>\n<type 'str'>\n<type 'str'>\n<type 'str'>\n<type 'str'>\n<type 'str'>\n<type 'str'>\n<type 'str'>\n<type 'str'>\n<type 'str'>\n<type 'str'>\n<type 'str'>\n<type 'str'>\n<type 'str'>\n<type 'str'>\n<type 'str'>\n<type 'str'>\n<type 'str'>\n<type 'str'>\n<type 'str'>\n<type 'str'>\n<type 'str'>\n<type 'str'>\n<type 'str'>\n<type 'str'>\n<type 'str'>\n<type 'str'>\n<type 'str'>\n<type 'str'>\n<type 'str'>\n<type 'str'>\n<type 'str'>\n<type 'str'>\n<type 'str'>\n<type 'str'>\n<type 'str'>\n<type 'str'>\n<type 'str'>\n<type 'str'>\n<type 'str'>\n<type 'str'>\n<type 'str'>\n<type 'str'>\n<type 'str'>\n<type 'str'>\n<type 'str'>\n<type 'str'>\n<type 'str'>\n<type 'str'>\n<type 'str'>\n<type 'str'>\n<type 'str'>\n<type 'str'>\n<type 'str'>\n<type 'str'>\n<type 'str'>\n<type 'str'>\n<type 'str'>\n<type 'str'>\n<type 'str'>\n<type 'str'>\n<type 'str'>\n<type 'str'>\n<type 'str'>\n<type 'str'>\n<type 'str'>\n<type 'str'>\n<type 'str'>\n<type 'str'>\n<type 'str'>\n<type 'str'>\n<type 'str'>\n<type 'str'>\n<type 'str'>\n<type 'str'>\n<type 'str'>\n<type 'str'>\n<type 'str'>\n<type 'str'>\n"
     ]
    },
    {
     "name": "stdout",
     "output_type": "stream",
     "text": [
      "<type 'str'>\n<type 'str'>\n<type 'str'>\n<type 'str'>\n<type 'str'>\n<type 'str'>\n<type 'str'>\n<type 'str'>\n<type 'str'>\n<type 'str'>\n<type 'str'>\n<type 'str'>\n<type 'str'>\n<type 'str'>\n<type 'str'>\n<type 'str'>\n<type 'str'>\n<type 'str'>\n<type 'str'>\n<type 'str'>\n<type 'str'>\n<type 'str'>\n<type 'str'>\n<type 'str'>\n<type 'str'>\n<type 'str'>\n<type 'str'>\n<type 'str'>\n<type 'str'>\n<type 'str'>\n<type 'str'>\n<type 'str'>\n<type 'str'>\n<type 'str'>\n<type 'str'>\n<type 'str'>\n<type 'str'>\n<type 'str'>\n<type 'str'>\n<type 'str'>\n<type 'str'>\n<type 'str'>\n<type 'str'>\n<type 'str'>\n<type 'str'>\n<type 'str'>\n<type 'str'>\n<type 'str'>\n<type 'str'>\n<type 'str'>\n<type 'str'>\n<type 'str'>\n<type 'str'>\n<type 'str'>\n<type 'str'>\n<type 'str'>\n<type 'str'>\n<type 'str'>\n<type 'str'>\n<type 'str'>\n<type 'str'>\n<type 'str'>\n<type 'str'>\n<type 'str'>\n<type 'str'>\n<type 'str'>\n<type 'str'>\n<type 'str'>\n<type 'str'>\n<type 'str'>\n<type 'str'>\n<type 'str'>\n<type 'str'>\n<type 'str'>\n<type 'str'>\n<type 'str'>\n<type 'str'>\n<type 'str'>\n<type 'str'>\n<type 'str'>\n<type 'str'>\n<type 'str'>\n<type 'str'>\n<type 'str'>\n<type 'str'>\n<type 'str'>\n<type 'str'>\n<type 'str'>\n<type 'str'>\n<type 'str'>\n<type 'str'>\n<type 'str'>\n<type 'str'>\n<type 'str'>\n<type 'str'>\n<type 'str'>\n<type 'str'>\n<type 'str'>\n<type 'str'>\n<type 'str'>\n<type 'str'>\n<type 'str'>\n<type 'str'>\n<type 'str'>\n<type 'str'>\n<type 'str'>\n<type 'str'>\n<type 'str'>\n<type 'str'>\n<type 'str'>\n<type 'str'>\n<type 'str'>\n<type 'str'>\n<type 'str'>\n<type 'str'>\n<type 'str'>\n<type 'str'>\n<type 'str'>\n<type 'str'>\n<type 'str'>\n<type 'str'>\n<type 'str'>\n<type 'str'>\n<type 'str'>\n<type 'str'>\n<type 'str'>\n<type 'str'>\n<type 'str'>\n<type 'str'>\n<type 'str'>\n<type 'str'>\n<type 'str'>\n<type 'str'>\n<type 'str'>\n<type 'str'>\n<type 'str'>\n<type 'str'>\n<type 'str'>\n<type 'str'>\n<type 'str'>\n<type 'str'>\n<type 'str'>\n<type 'str'>\n<type 'str'>\n<type 'str'>\n<type 'str'>\n<type 'str'>\n<type 'str'>\n<type 'str'>\n<type 'str'>\n<type 'str'>\n<type 'str'>\n<type 'str'>\n<type 'str'>\n<type 'str'>\n<type 'str'>\n<type 'str'>\n<type 'str'>\n<type 'str'>\n<type 'str'>\n<type 'str'>\n<type 'str'>\n<type 'str'>\n<type 'str'>\n<type 'str'>\n<type 'str'>\n<type 'str'>\n<type 'str'>\n<type 'str'>\n<type 'str'>\n<type 'str'>\n<type 'str'>\n<type 'str'>\n<type 'str'>\n<type 'str'>\n<type 'str'>\n<type 'str'>\n<type 'str'>\n<type 'str'>\n<type 'str'>\n<type 'str'>\n<type 'str'>\n<type 'str'>\n<type 'str'>\n<type 'str'>\n<type 'str'>\n<type 'str'>\n<type 'str'>\n<type 'str'>\n<type 'str'>\n<type 'str'>\n<type 'str'>\n<type 'str'>\n<type 'str'>\n<type 'str'>\n<type 'str'>\n<type 'str'>\n<type 'str'>\n<type 'str'>\n<type 'str'>\n<type 'str'>\n<type 'str'>\n<type 'str'>\n<type 'str'>\n<type 'str'>\n<type 'str'>\n<type 'str'>\n<type 'str'>\n<type 'str'>\n<type 'str'>\n<type 'str'>\n<type 'str'>\n<type 'str'>\n<type 'str'>\n<type 'str'>\n<type 'str'>\n<type 'str'>\n<type 'str'>\n<type 'str'>\n<type 'str'>\n<type 'str'>\n<type 'str'>\n<type 'str'>\n<type 'str'>\n<type 'str'>\n<type 'str'>\n<type 'str'>\n<type 'str'>\n<type 'str'>\n<type 'str'>\n<type 'str'>\n<type 'str'>\n<type 'str'>\n<type 'str'>\n<type 'str'>\n<type 'str'>\n<type 'str'>\n<type 'str'>\n<type 'str'>\n<type 'str'>"
     ]
    },
    {
     "name": "stdout",
     "output_type": "stream",
     "text": [
      "\n<type 'str'>\n<type 'str'>\n<type 'str'>\n<type 'str'>\n<type 'str'>\n<type 'str'>\n<type 'str'>\n<type 'str'>\n<type 'str'>\n<type 'str'>\n<type 'str'>\n<type 'str'>\n<type 'str'>\n<type 'str'>\n<type 'str'>\n<type 'str'>\n<type 'str'>\n<type 'str'>\n<type 'str'>\n<type 'str'>\n<type 'str'>\n<type 'str'>\n<type 'str'>\n<type 'str'>\n<type 'str'>\n<type 'str'>\n<type 'str'>\n<type 'str'>\n<type 'str'>\n<type 'str'>\n<type 'str'>\n<type 'str'>\n<type 'str'>\n<type 'str'>\n<type 'str'>\n<type 'str'>\n<type 'str'>\n<type 'str'>\n<type 'str'>\n<type 'str'>\n<type 'str'>\n<type 'str'>\n<type 'str'>\n<type 'str'>\n<type 'str'>\n<type 'str'>\n<type 'str'>\n<type 'str'>\n<type 'str'>\n<type 'str'>\n<type 'str'>\n<type 'str'>\n<type 'str'>\n<type 'str'>\n<type 'str'>\n<type 'str'>\n<type 'str'>\n<type 'str'>\n<type 'str'>\n<type 'str'>\n<type 'str'>\n<type 'str'>\n<type 'str'>\n<type 'str'>\n<type 'str'>\n<type 'str'>\n<type 'str'>\n<type 'str'>\n<type 'str'>\n<type 'str'>\n<type 'str'>\n<type 'str'>\n<type 'str'>\n<type 'str'>\n<type 'str'>\n<type 'str'>\n<type 'str'>\n<type 'str'>\n<type 'str'>\n<type 'str'>\n<type 'str'>\n<type 'str'>\n<type 'str'>\n<type 'str'>\n<type 'str'>\n<type 'str'>\n<type 'str'>\n<type 'str'>\n<type 'str'>\n<type 'str'>\n<type 'str'>\n<type 'str'>\n<type 'str'>\n<type 'str'>\n<type 'str'>\n<type 'str'>\n<type 'str'>\n<type 'str'>\n<type 'str'>\n<type 'str'>\n<type 'str'>\n<type 'str'>\n<type 'str'>\n<type 'str'>\n<type 'str'>\n<type 'str'>\n<type 'str'>\n<type 'str'>\n<type 'str'>\n<type 'str'>\n<type 'str'>\n<type 'str'>\n<type 'str'>\n<type 'str'>\n<type 'str'>\n<type 'str'>\n<type 'str'>\n<type 'str'>\n<type 'str'>\n<type 'str'>\n<type 'str'>\n<type 'str'>\n<type 'str'>\n<type 'str'>\n<type 'str'>\n<type 'str'>\n<type 'str'>\n<type 'str'>\n<type 'str'>\n<type 'str'>\n<type 'str'>\n<type 'str'>\n<type 'str'>\n<type 'str'>\n<type 'str'>\n<type 'str'>\n<type 'str'>\n<type 'str'>\n<type 'str'>\n<type 'str'>\n<type 'str'>\n<type 'str'>\n<type 'str'>\n<type 'str'>\n<type 'str'>\n<type 'str'>\n<type 'str'>\n<type 'str'>\n<type 'str'>\n<type 'str'>\n<type 'str'>\n<type 'str'>\n<type 'str'>\n<type 'str'>\n<type 'str'>\n<type 'str'>\n<type 'str'>\n<type 'str'>\n<type 'str'>\n<type 'str'>\n<type 'str'>\n<type 'str'>\n<type 'str'>\n<type 'str'>\n<type 'str'>\n<type 'str'>\n<type 'str'>\n<type 'str'>\n<type 'str'>\n<type 'str'>\n<type 'str'>\n<type 'str'>\n<type 'str'>\n<type 'str'>\n<type 'str'>\n<type 'str'>\n<type 'str'>\n<type 'str'>\n<type 'str'>\n<type 'str'>\n<type 'str'>\n<type 'str'>\n<type 'str'>\n<type 'str'>\n<type 'str'>\n<type 'str'>\n<type 'str'>\n<type 'str'>\n<type 'str'>\n<type 'str'>\n<type 'str'>\n<type 'str'>\n<type 'str'>\n<type 'str'>\n<type 'str'>\n<type 'str'>\n<type 'str'>\n<type 'str'>\n<type 'str'>\n<type 'str'>\n<type 'str'>\n<type 'str'>\n<type 'str'>\n<type 'str'>\n<type 'str'>\n<type 'str'>\n<type 'str'>\n<type 'str'>\n<type 'str'>\n<type 'str'>\n<type 'str'>\n<type 'str'>\n<type 'str'>\n<type 'str'>\n<type 'str'>\n<type 'str'>\n<type 'str'>\n<type 'str'>\n<type 'str'>\n<type 'str'>\n<type 'str'>\n<type 'str'>\n<type 'str'>\n<type 'str'>\n<type 'str'>\n<type 'str'>\n<type 'str'>\n<type 'str'>\n<type 'str'>\n<type 'str'>\n<type 'str'>\n<type 'str'>\n<type 'str'>\n<type 'str'>\n<type 'str'>\n<type 'str'>\n<type 'str'>\n<type 'str'>\n<type 'str'>\n<type 'str'>\n<type 'str'>\n<type 'str'>\n<type 'str'>\n<type 'str'>\n<type 'str'>\n<type 'str'>\n<type 'str'>\n<type 'str'>\n<type 'str'>\n<type 'str'>\n<type 'str'>\n<type 'str'>\n<type 'str'>\n<type 'str'>\n<type 'str'>\n<type 'str'>\n<type 'str'>\n<type 'str'>\n<type 'str'>\n<type 'str'>\n<type 'str'>\n<type 'str'>\n<type 'str'>\n<type 'str'>\n<type 'str'>\n<type 'str'>\n<type 'str'>\n<type 'str'>\n<type 'str'>\n<type 'str'>\n<type 'str'>\n<type 'str'>\n<type 'str'>\n<type 'str'>\n<type 'str'>\n<type 'str'>\n<type 'str'>\n<type 'str'>\n<type 'str'>\n<type 'str'>\n<type 'str'>\n<type 'str'>\n<type 'str'>\n<type 'str'>\n<type 'str'>\n<type 'str'>\n<type 'str'>\n<type 'str'>\n<type 'str'>\n<type 'str'>\n<type 'str'>\n<type 'str'>\n<type 'str'>\n<type 'str'>\n<type 'str'>\n<type 'str'>\n<type 'str'>\n<type 'str'>\n<type 'str'>\n<type 'str'>\n<type 'str'>\n<type 'str'>\n<type 'str'>\n<type 'str'>\n<type 'str'>\n<type 'str'>\n<type 'str'>\n<type 'str'>\n<type 'str'>\n<type 'str'>\n<type 'str'>\n<type 'str'>\n<type 'str'>\n<type 'str'>\n<type 'str'>\n<type 'str'>\n<type 'str'>\n<type 'str'>\n<type 'str'>\n<type 'str'>\n<type 'str'>\n<type 'str'>\n<type 'str'>\n<type 'str'>\n<type 'str'>\n<type 'str'>\n<type 'str'>\n<type 'str'>\n<type 'str'>\n<type 'str'>\n<type 'str'>\n<type 'str'>\n<type 'str'>\n<type 'str'>\n<type 'str'>\n<type 'str'>\n<type 'str'>\n<type 'str'>\n<type 'str'>\n<type 'str'>\n<type 'str'>\n<type 'str'>\n<type 'str'>\n<type 'str'>\n<type 'str'>\n<type 'str'>\n<type 'str'>\n<type 'str'>\n<type 'str'>\n<type 'str'>\n<type 'str'>\n<type 'str'>\n<type 'str'>\n<type 'str'>\n<type 'str'>\n<type 'str'>\n<type 'str'>\n<type 'str'>\n<type 'str'>\n<type 'str'>\n<type 'str'>\n<type 'str'>\n<type 'str'>\n<type 'str'>\n<type 'str'>\n<type 'str'>\n<type 'str'>\n<type 'str'>\n<type 'str'>\n<type 'str'>\n<type 'str'>\n<type 'str'>\n<type 'str'>\n<type 'str'>\n<type 'str'>\n<type 'str'>\n<type 'str'>\n<type 'str'>\n<type 'str'>\n<type 'str'>\n<type 'str'>\n<type 'str'>\n<type 'str'>\n<type 'str'>\n<type 'str'>\n<type 'str'>\n<type 'str'>\n<type 'str'>\n<type 'str'>\n<type 'str'>\n<type 'str'>\n<type 'str'>\n<type 'str'>\n<type 'str'>\n<type 'str'>\n<type 'str'>\n<type 'str'>\n<type 'str'>\n<type 'str'>\n<type 'str'>\n<type 'str'>\n<type 'str'>\n<type 'str'>\n<type 'str'>\n<type 'str'>\n<type 'str'>\n<type 'str'>\n<type 'str'>\n<type 'str'>\n<type 'str'>\n<type 'str'>\n<type 'str'>\n<type 'str'>\n<type 'str'>\n<type 'str'>\n<type 'str'>\n<type 'str'>\n<type 'str'>\n<type 'str'>\n<type 'str'>\n<type 'str'>\n<type 'str'>\n<type 'str'>\n<type 'str'>\n<type 'str'>\n<type 'str'>\n<type 'str'>\n<type 'str'>\n<type 'str'>\n<type 'str'>\n<type 'str'>\n<type 'str'>\n<type 'str'>\n<type 'str'>\n<type 'str'>\n<type 'str'>\n<type 'str'>\n<type 'str'>\n<type 'str'>\n<type 'str'>\n<type 'str'>\n<type 'str'>\n<type 'str'>\n<type 'str'>\n<type 'str'>\n<type 'str'>\n<type 'str'>\n<type 'str'>\n<type 'str'>\n<type 'str'>\n<type 'str'>\n<type 'str'>\n<type 'str'>\n<type 'str'>\n<type 'str'>\n<type 'str'>\n<type 'str'>\n<type 'str'>\n<type 'str'>\n<type 'str'>\n<type 'str'>\n<type 'str'>\n<type 'str'>\n<type 'str'>\n<type 'str'>\n<type 'str'>\n<type 'str'>\n<type 'str'>\n<type 'str'>\n<type 'str'>\n<type 'str'>\n<type 'str'>\n<type 'str'>\n<type 'str'>\n<type 'str'>\n<type 'str'>\n<type 'str'>\n<type 'str'>\n<type 'str'>\n<type 'str'>\n<type 'str'>\n<type 'str'>\n<type 'str'>\n<type 'str'>\n<type 'str'>\n<type 'str'>\n<type 'str'>\n<type 'str'>\n<type 'str'>\n<type 'str'>\n<type 'str'>\n<type 'str'>\n<type 'str'>\n<type 'str'>\n<type 'str'>\n<type 'str'>\n<type 'str'>\n<type 'str'>\n<type 'str'>\n<type 'str'>\n<type 'str'>\n<type 'str'>\n<type 'str'>\n<type 'str'>\n<type 'str'>\n<type 'str'>\n<type 'str'>\n<type 'str'>\n<type 'str'>\n<type 'str'>\n<type 'str'>\n<type 'str'>\n<type 'str'>\n<type 'str'>\n<type 'str'>\n<type 'str'>\n<type 'str'>\n<type 'str'>\n<type 'str'>\n<type 'str'>\n<type 'str'>\n<type 'str'>\n<type 'str'>\n<type 'str'>\n<type 'str'>\n<type 'str'>\n<type 'str'>\n<type 'str'>\n<type 'str'>\n<type 'str'>\n<type 'str'>\n<type 'str'>\n<type 'str'>\n<type 'str'>\n<type 'str'>\n<type 'str'>\n<type 'str'>\n<type 'str'>\n<type 'str'>\n<type 'str'>\n<type 'str'>\n<type 'str'>\n<type 'str'>\n<type 'str'>\n<type 'str'>\n<type 'str'>\n<type 'str'>\n<type 'str'>\n<type 'str'>\n<type 'str'>\n<type 'str'>\n<type 'str'>\n<type 'str'>\n<type 'str'>\n<type 'str'>\n<type 'str'>\n<type 'str'>\n<type 'str'>\n<type 'str'>\n<type 'str'>\n<type 'str'>\n<type 'str'>\n<type 'str'>\n<type 'str'>\n<type 'str'>\n<type 'str'>\n<type 'str'>\n<type 'str'>\n<type 'str'>\n<type 'str'>\n<type 'str'>\n<type 'str'>\n<type 'str'>\n<type 'str'>\n<type 'str'>\n<type 'str'>\n<type 'str'>\n<type 'str'>\n<type 'str'>\n<type 'str'>\n<type 'str'>\n<type 'str'>\n<type 'str'>\n<type 'str'>\n<type 'str'>\n<type 'str'>\n<type 'str'>\n<type 'str'>\n<type 'str'>\n<type 'str'>\n<type 'str'>\n<type 'str'>\n<type 'str'>\n<type 'str'>\n<type 'str'>\n<type 'str'>\n<type 'str'>\n<type 'str'>\n<type 'str'>\n<type 'str'>\n<type 'str'>\n<type 'str'>\n<type 'str'>\n<type 'str'>\n<type 'str'>\n<type 'str'>\n<type 'str'>\n<type 'str'>\n<type 'str'>\n<type 'str'>\n<type 'str'>\n<type 'str'>\n<type 'str'>\n<type 'str'>\n<type 'str'>\n<type 'str'>\n<type 'str'>\n<type 'str'>\n<type 'str'>\n<type 'str'>\n<type 'str'>\n<type 'str'>\n<type 'str'>\n<type 'str'>\n<type 'str'>\n<type 'str'>\n<type 'str'>\n<type 'str'>\n<type 'str'>\n<type 'str'>\n<type 'str'>\n<type 'str'>\n<type 'str'>\n<type 'str'>\n<type 'str'>\n<type 'str'>\n<type 'str'>\n<type 'str'>\n<type 'str'>\n<type 'str'>\n<type 'str'>\n<type 'str'>\n<type 'str'>\n<type 'str'>\n<type 'str'>\n<type 'str'>\n<type 'str'>\n<type 'str'>\n<type 'str'>\n<type 'str'>\n<type 'str'>\n<type 'str'>\n<type 'str'>\n<type 'str'>\n<type 'str'>\n<type 'str'>\n<type 'str'>\n<type 'str'>\n<type 'str'>\n<type 'str'>\n<type 'str'>\n<type 'str'>\n<type 'str'>\n<type 'str'>\n<type 'str'>\n<type 'str'>\n<type 'str'>\n<type 'str'>\n<type 'str'>\n<type 'str'>\n<type 'str'>\n<type 'str'>\n<type 'str'>\n<type 'str'>\n<type 'str'>\n<type 'str'>\n<type 'str'>\n<type 'str'>\n<type 'str'>\n<type 'str'>\n<type 'str'>\n<type 'str'>\n"
     ]
    },
    {
     "name": "stdout",
     "output_type": "stream",
     "text": [
      "<type 'str'>\n<type 'str'>\n<type 'str'>\n<type 'str'>\n<type 'str'>\n<type 'str'>\n<type 'str'>\n<type 'str'>\n<type 'str'>\n<type 'str'>\n<type 'str'>\n<type 'str'>\n<type 'str'>\n<type 'str'>\n<type 'str'>\n<type 'str'>\n<type 'str'>\n<type 'str'>\n<type 'str'>\n<type 'str'>\n<type 'str'>\n<type 'str'>\n<type 'str'>\n<type 'str'>\n<type 'str'>\n<type 'str'>\n<type 'str'>\n<type 'str'>\n<type 'str'>\n<type 'str'>\n<type 'str'>\n<type 'str'>\n<type 'str'>\n<type 'str'>\n<type 'str'>\n<type 'str'>\n<type 'str'>\n<type 'str'>\n<type 'str'>\n<type 'str'>\n<type 'str'>\n<type 'str'>\n<type 'str'>\n<type 'str'>\n<type 'str'>\n<type 'str'>\n<type 'str'>\n<type 'str'>\n<type 'str'>\n<type 'str'>\n<type 'str'>\n<type 'str'>\n<type 'str'>\n<type 'str'>\n<type 'str'>\n<type 'str'>\n<type 'str'>\n<type 'str'>\n<type 'str'>\n<type 'str'>\n<type 'str'>\n<type 'str'>\n<type 'str'>\n<type 'str'>\n<type 'str'>\n<type 'str'>\n<type 'str'>\n<type 'str'>\n<type 'str'>\n<type 'str'>\n<type 'str'>\n<type 'str'>\n<type 'str'>\n<type 'str'>\n<type 'str'>\n<type 'str'>\n<type 'str'>\n<type 'str'>\n<type 'str'>\n<type 'str'>\n<type 'str'>\n<type 'str'>\n<type 'str'>\n<type 'str'>\n<type 'str'>\n<type 'str'>\n<type 'str'>\n<type 'str'>\n<type 'str'>\n<type 'str'>\n<type 'str'>\n<type 'str'>\n<type 'str'>\n<type 'str'>\n<type 'str'>\n<type 'str'>\n<type 'str'>\n<type 'str'>\n<type 'str'>\n<type 'str'>\n<type 'str'>\n<type 'str'>\n<type 'str'>\n<type 'str'>\n<type 'str'>\n<type 'str'>\n<type 'str'>\n<type 'str'>\n<type 'str'>\n<type 'str'>\n<type 'str'>\n<type 'str'>\n<type 'str'>\n<type 'str'>\n<type 'str'>\n<type 'str'>\n<type 'str'>\n<type 'str'>\n<type 'str'>\n<type 'str'>\n<type 'str'>\n<type 'str'>\n<type 'str'>\n<type 'str'>\n<type 'str'>\n<type 'str'>\n<type 'str'>\n<type 'str'>\n<type 'str'>\n<type 'str'>\n<type 'str'>\n<type 'str'>\n<type 'str'>\n<type 'str'>\n<type 'str'>\n<type 'str'>\n<type 'str'>\n<type 'str'>\n<type 'str'>\n<type 'str'>\n<type 'str'>\n<type 'str'>\n<type 'str'>\n<type 'str'>\n<type 'str'>\n<type 'str'>\n<type 'str'>\n<type 'str'>\n<type 'str'>\n<type 'str'>\n<type 'str'>\n<type 'str'>\n<type 'str'>\n<type 'str'>\n<type 'str'>\n<type 'str'>\n<type 'str'>\n<type 'str'>\n<type 'str'>\n<type 'str'>\n<type 'str'>\n<type 'str'>\n<type 'str'>\n<type 'str'>\n<type 'str'>\n<type 'str'>\n<type 'str'>\n<type 'str'>\n<type 'str'>\n<type 'str'>\n<type 'str'>\n<type 'str'>\n<type 'str'>\n<type 'str'>\n<type 'str'>\n<type 'str'>\n<type 'str'>\n<type 'str'>\n<type 'str'>\n<type 'str'>\n<type 'str'>\n<type 'str'>\n<type 'str'>\n<type 'str'>\n<type 'str'>\n<type 'str'>\n<type 'str'>\n<type 'str'>\n<type 'str'>\n<type 'str'>\n<type 'str'>\n<type 'str'>\n<type 'str'>\n<type 'str'>\n<type 'str'>\n<type 'str'>\n<type 'str'>\n<type 'str'>\n<type 'str'>\n<type 'str'>\n<type 'str'>\n<type 'str'>\n<type 'str'>\n<type 'str'>\n<type 'str'>\n<type 'str'>\n<type 'str'>\n<type 'str'>\n<type 'str'>\n<type 'str'>\n<type 'str'>\n<type 'str'>\n<type 'str'>\n<type 'str'>\n<type 'str'>\n<type 'str'>\n<type 'str'>\n<type 'str'>\n<type 'str'>\n<type 'str'>\n<type 'str'>\n<type 'str'>\n<type 'str'>\n<type 'str'>\n<type 'str'>\n<type 'str'>\n<type 'str'>\n<type 'str'>\n<type 'str'>\n<type 'str'>\n<type 'str'>\n<type 'str'>\n<type 'str'>\n<type 'str'>\n<type 'str'>\n<type 'str'>\n<type 'str'>\n<type 'str'>\n<type 'str'>\n<type 'str'>\n<type 'str'>\n<type 'str'>\n<type 'str'>\n<type 'str'>\n<type 'str'>\n<type 'str'>\n<type 'str'>\n<type 'str'>\n<type 'str'>\n<type 'str'>\n<type 'str'>\n<type 'str'>\n<type 'str'>\n<type 'str'>\n<type 'str'>\n<type 'str'>\n<type 'str'>\n<type 'str'>\n<type 'str'>\n<type 'str'>\n<type 'str'>\n<type 'str'>\n<type 'str'>\n<type 'str'>\n<type 'str'>\n<type 'str'>\n<type 'str'>\n<type 'str'>\n<type 'str'>\n<type 'str'>\n<type 'str'>\n<type 'str'>\n<type 'str'>\n<type 'str'>\n<type 'str'>\n<type 'str'>\n<type 'str'>\n<type 'str'>\n<type 'str'>\n<type 'str'>\n<type 'str'>\n<type 'str'>\n<type 'str'>\n<type 'str'>\n<type 'str'>\n<type 'str'>\n<type 'str'>\n<type 'str'>\n<type 'str'>\n<type 'str'>\n<type 'str'>\n<type 'str'>\n<type 'str'>\n<type 'str'>\n<type 'str'>\n<type 'str'>\n<type 'str'>\n<type 'str'>\n<type 'str'>\n<type 'str'>\n<type 'str'>\n<type 'str'>\n<type 'str'>\n<type 'str'>\n<type 'str'>\n<type 'str'>\n<type 'str'>\n<type 'str'>\n<type 'str'>\n<type 'str'>\n<type 'str'>\n<type 'str'>\n<type 'str'>\n<type 'str'>\n<type 'str'>\n<type 'str'>\n<type 'str'>\n<type 'str'>\n<type 'str'>\n<type 'str'>\n<type 'str'>\n<type 'str'>\n<type 'str'>\n<type 'str'>\n<type 'str'>\n<type 'str'>\n<type 'str'>\n<type 'str'>\n<type 'str'>\n<type 'str'>\n<type 'str'>\n<type 'str'>\n<type 'str'>\n<type 'str'>\n<type 'str'>\n<type 'str'>\n<type 'str'>\n<type 'str'>\n<type 'str'>\n<type 'str'>\n<type 'str'>\n<type 'str'>\n<type 'str'>\n<type 'str'>\n<type 'str'>\n<type 'str'>\n<type 'str'>\n<type 'str'>\n<type 'str'>\n<type 'str'>\n<type 'str'>\n<type 'str'>\n<type 'str'>\n<type 'str'>\n<type 'str'>\n<type 'str'>\n<type 'str'>\n<type 'str'>\n<type 'str'>\n<type 'str'>\n<type 'str'>\n<type 'str'>\n<type 'str'>\n<type 'str'>\n<type 'str'>\n<type 'str'>\n<type 'str'>\n<type 'str'>\n<type 'str'>\n<type 'str'>\n<type 'str'>\n<type 'str'>\n<type 'str'>\n<type 'str'>\n<type 'str'>\n<type 'str'>\n<type 'str'>\n<type 'str'>\n<type 'str'>\n<type 'str'>\n<type 'str'>\n<type 'str'>\n<type 'str'>\n<type 'str'>\n<type 'str'>\n<type 'str'>\n<type 'str'>\n<type 'str'>\n<type 'str'>\n<type 'str'>\n<type 'str'>\n<type 'str'>\n<type 'str'>\n<type 'str'>\n<type 'str'>\n<type 'str'>\n<type 'str'>\n<type 'str'>\n<type 'str'>\n<type 'str'>\n<type 'str'>\n<type 'str'>\n<type 'str'>\n<type 'str'>\n<type 'str'>\n<type 'str'>\n<type 'str'>\n<type 'str'>\n<type 'str'>\n<type 'str'>\n<type 'str'>\n<type 'str'>\n<type 'str'>\n<type 'str'>\n<type 'str'>\n<type 'str'>\n<type 'str'>\n<type 'str'>\n<type 'str'>\n<type 'str'>\n<type 'str'>\n<type 'str'>\n<type 'str'>\n<type 'str'>\n<type 'str'>\n<type 'str'>\n<type 'str'>\n<type 'str'>\n<type 'str'>\n<type 'str'>\n<type 'str'>\n<type 'str'>\n<type 'str'>\n<type 'str'>\n<type 'str'>\n<type 'str'>\n<type 'str'>\n<type 'str'>\n<type 'str'>\n<type 'str'>\n<type 'str'>\n<type 'str'>\n<type 'str'>\n<type 'str'>\n<type 'str'>\n<type 'str'>\n<type 'str'>\n<type 'str'>\n<type 'str'>\n<type 'str'>\n<type 'str'>\n<type 'str'>\n<type 'str'>\n<type 'str'>\n<type 'str'>\n<type 'str'>\n<type 'str'>\n<type 'str'>\n<type 'str'>\n<type 'str'>\n<type 'str'>\n<type 'str'>\n<type 'str'>\n<type 'str'>\n<type 'str'>\n<type 'str'>\n<type 'str'>\n<type 'str'>\n<type 'str'>\n<type 'str'>\n<type 'str'>\n<type 'str'>\n<type 'str'>\n<type 'str'>\n<type 'str'>\n<type 'str'>\n<type 'str'>\n<type 'str'>\n<type 'str'>\n<type 'str'>\n<type 'str'>\n<type 'str'>\n<type 'str'>\n<type 'str'>\n<type 'str'>\n<type 'str'>\n<type 'str'>\n<type 'str'>\n<type 'str'>\n<type 'str'>\n<type 'str'>\n<type 'str'>\n<type 'str'>\n<type 'str'>\n<type 'str'>\n<type 'str'>\n<type 'str'>\n<type 'str'>\n<type 'str'>\n<type 'str'>\n<type 'str'>\n<type 'str'>\n<type 'str'>\n<type 'str'>\n<type 'str'>\n<type 'str'>\n<type 'str'>\n<type 'str'>\n<type 'str'>\n<type 'str'>\n<type 'str'>\n<type 'str'>\n<type 'str'>\n<type 'str'>\n<type 'str'>\n<type 'str'>\n<type 'str'>\n<type 'str'>\n<type 'str'>\n<type 'str'>\n<type 'str'>\n<type 'str'>\n<type 'str'>\n<type 'str'>\n<type 'str'>\n<type 'str'>\n<type 'str'>\n<type 'str'>\n<type 'str'>\n<type 'str'>\n<type 'str'>\n<type 'str'>\n<type 'str'>\n<type 'str'>\n<type 'str'>\n<type 'str'>\n<type 'str'>\n<type 'str'>\n<type 'str'>\n<type 'str'>\n<type 'str'>\n<type 'str'>\n<type 'str'>\n<type 'str'>\n<type 'str'>\n<type 'str'>\n<type 'str'>\n<type 'str'>\n<type 'str'>\n<type 'str'>\n<type 'str'>\n<type 'str'>\n<type 'str'>\n<type 'str'>\n<type 'str'>\n<type 'str'>\n<type 'str'>\n<type 'str'>\n<type 'str'>\n<type 'str'>\n<type 'str'>\n<type 'str'>\n<type 'str'>\n<type 'str'>\n<type 'str'>\n<type 'str'>\n<type 'str'>\n<type 'str'>\n<type 'str'>\n<type 'str'>\n<type 'str'>\n<type 'str'>\n<type 'str'>\n<type 'str'>\n<type 'str'>\n<type 'str'>\n<type 'str'>\n<type 'str'>\n<type 'str'>\n<type 'str'>\n<type 'str'>\n<type 'str'>\n<type 'str'>\n<type 'str'>\n<type 'str'>\n<type 'str'>\n<type 'str'>\n<type 'str'>\n<type 'str'>\n<type 'str'>\n<type 'str'>\n<type 'str'>\n<type 'str'>\n<type 'str'>\n<type 'str'>\n<type 'str'>\n<type 'str'>\n<type 'str'>\n<type 'str'>\n<type 'str'>\n<type 'str'>\n<type 'str'>\n<type 'str'>\n<type 'str'>\n<type 'str'>\n<type 'str'>\n<type 'str'>\n<type 'str'>\n<type 'str'>\n<type 'str'>\n<type 'str'>\n<type 'str'>\n<type 'str'>\n<type 'str'>\n<type 'str'>\n<type 'str'>\n<type 'str'>\n<type 'str'>\n<type 'str'>\n<type 'str'>\n<type 'str'>\n<type 'str'>\n<type 'str'>\n<type 'str'>\n<type 'str'>\n<type 'str'>\n<type 'str'>\n<type 'str'>\n<type 'str'>\n<type 'str'>\n<type 'str'>\n<type 'str'>\n<type 'str'>\n<type 'str'>\n<type 'str'>\n<type 'str'>\n<type 'str'>\n<type 'str'>\n<type 'str'>\n<type 'str'>\n<type 'str'>\n<type 'str'>\n<type 'str'>\n<type 'str'>\n<type 'str'>\n<type 'str'>\n<type 'str'>\n<type 'str'>\n<type 'str'>\n<type 'str'>\n<type 'str'>\n<type 'str'>\n<type 'str'>\n<type 'str'>\n<type 'str'>\n<type 'str'>\n<type 'str'>\n<type 'str'>\n<type 'str'>\n<type 'str'>\n<type 'str'>\n<type 'str'>\n<type 'str'>\n<type 'str'>\n<type 'str'>\n<type 'str'>\n<type 'str'>\n<type 'str'>\n<type 'str'>\n<type 'str'>\n<type 'str'>\n<type 'str'>\n<type 'str'>\n<type 'str'>\n<type 'str'>\n<type 'str'>\n<type 'str'>\n<type 'str'>\n<type 'str'>\n<type 'str'>\n<type 'str'>\n<type 'str'>\n<type 'str'>\n<type 'str'>\n<type 'str'>\n<type 'str'>\n<type 'str'>\n<type 'str'>\n<type 'str'>\n<type 'str'>\n<type 'str'>\n<type 'str'>\n<type 'str'>\n<type 'str'>\n<type 'str'>\n<type 'str'>\n<type 'str'>\n<type 'str'>\n<type 'str'>\n<type 'str'>\n<type 'str'>\n<type 'str'>\n<type 'str'>\n<type 'str'>\n<type 'str'>\n<type 'str'>\n<type 'str'>\n<type 'str'>\n<type 'str'>\n<type 'str'>\n<type 'str'>\n<type 'str'>\n<type 'str'>\n<type 'str'>\n<type 'str'>\n<type 'str'>\n<type 'str'>\n<type 'str'>\n<type 'str'>\n<type 'str'>\n<type 'str'>\n<type 'str'>\n<type 'str'>\n<type 'str'>\n<type 'str'>\n<type 'str'>\n<type 'str'>\n<type 'str'>\n<type 'str'>\n<type 'str'>\n<type 'str'>\n<type 'str'>\n<type 'str'>\n<type 'str'>\n<type 'str'>\n<type 'str'>\n<type 'str'>\n<type 'str'>\n<type 'str'>\n<type 'str'>\n<type 'str'>\n<type 'str'>\n<type 'str'>\n<type 'str'>\n<type 'str'>\n<type 'str'>\n<type 'str'>\n<type 'str'>\n<type 'str'>\n<type 'str'>\n<type 'str'>\n<type 'str'>\n<type 'str'>\n<type 'str'>\n<type 'str'>\n<type 'str'>\n<type 'str'>\n<type 'str'>\n<type 'str'>\n<type 'str'>\n<type 'str'>\n<type 'str'>\n<type 'str'>\n<type 'str'>\n<type 'str'>\n<type 'str'>\n<type 'str'>\n<type 'str'>\n<type 'str'>\n<type 'str'>\n<type 'str'>\n<type 'str'>\n<type 'str'>\n<type 'str'>\n<type 'str'>\n<type 'str'>\n<type 'str'>\n<type 'str'>\n<type 'str'>\n<type 'str'>\n<type 'str'>\n<type 'str'>\n<type 'str'>\n<type 'str'>\n<type 'str'>\n<type 'str'>\n<type 'str'>\n<type 'str'>\n<type 'str'>\n<type 'str'>\n<type 'str'>\n<type 'str'>\n<type 'str'>\n<type 'str'>\n<type 'str'>\n<type 'str'>\n<type 'str'>\n<type 'str'>\n<type 'str'>\n<type 'str'>\n"
     ]
    },
    {
     "name": "stdout",
     "output_type": "stream",
     "text": [
      "<type 'str'>\n<type 'str'>\n<type 'str'>\n<type 'str'>\n<type 'str'>\n<type 'str'>\n<type 'str'>\n<type 'str'>\n<type 'str'>\n<type 'str'>\n<type 'str'>\n<type 'str'>\n<type 'str'>\n<type 'str'>\n<type 'str'>\n<type 'str'>\n<type 'str'>\n<type 'str'>\n<type 'str'>\n<type 'str'>\n<type 'str'>\n<type 'str'>\n<type 'str'>\n<type 'str'>\n<type 'str'>\n<type 'str'>\n<type 'str'>\n<type 'str'>\n<type 'str'>\n<type 'str'>\n<type 'str'>\n<type 'str'>\n<type 'str'>\n<type 'str'>\n<type 'str'>\n<type 'str'>\n<type 'str'>\n<type 'str'>\n<type 'str'>\n<type 'str'>\n<type 'str'>\n<type 'str'>\n<type 'str'>\n<type 'str'>\n<type 'str'>\n<type 'str'>\n<type 'str'>\n<type 'str'>\n<type 'str'>\n<type 'str'>\n<type 'str'>\n<type 'str'>\n<type 'str'>\n<type 'str'>\n<type 'str'>\n<type 'str'>\n<type 'str'>\n<type 'str'>\n<type 'str'>\n<type 'str'>\n<type 'str'>\n<type 'str'>\n<type 'str'>\n<type 'str'>\n<type 'str'>\n<type 'str'>\n<type 'str'>\n<type 'str'>\n<type 'str'>\n<type 'str'>\n<type 'str'>\n<type 'str'>\n<type 'str'>\n<type 'str'>\n<type 'str'>\n<type 'str'>\n<type 'str'>\n<type 'str'>\n<type 'str'>\n<type 'str'>\n<type 'str'>\n<type 'str'>\n<type 'str'>\n<type 'str'>\n<type 'str'>\n<type 'str'>\n<type 'str'>\n<type 'str'>\n<type 'str'>\n<type 'str'>\n<type 'str'>\n<type 'str'>\n<type 'str'>\n<type 'str'>\n<type 'str'>\n<type 'str'>\n<type 'str'>\n<type 'str'>\n<type 'str'>\n<type 'str'>\n<type 'str'>\n<type 'str'>\n<type 'str'>\n<type 'str'>\n<type 'str'>\n<type 'str'>\n<type 'str'>\n<type 'str'>\n<type 'str'>\n<type 'str'>\n<type 'str'>\n<type 'str'>\n<type 'str'>\n<type 'str'>\n<type 'str'>\n<type 'str'>\n<type 'str'>\n<type 'str'>\n<type 'str'>\n<type 'str'>\n<type 'str'>\n<type 'str'>\n<type 'str'>\n<type 'str'>\n<type 'str'>\n<type 'str'>\n<type 'str'>\n<type 'str'>\n<type 'str'>\n<type 'str'>\n<type 'str'>\n<type 'str'>\n<type 'str'>\n<type 'str'>\n<type 'str'>\n<type 'str'>\n<type 'str'>\n<type 'str'>\n<type 'str'>\n<type 'str'>\n<type 'str'>\n<type 'str'>\n<type 'str'>\n<type 'str'>\n<type 'str'>\n<type 'str'>\n<type 'str'>\n<type 'str'>\n<type 'str'>\n<type 'str'>\n<type 'str'>\n<type 'str'>\n<type 'str'>\n<type 'str'>\n<type 'str'>\n<type 'str'>\n<type 'str'>\n<type 'str'>\n<type 'str'>\n<type 'str'>\n<type 'str'>\n<type 'str'>\n<type 'str'>\n<type 'str'>\n<type 'str'>\n<type 'str'>\n<type 'str'>\n<type 'str'>\n<type 'str'>\n<type 'str'>\n<type 'str'>\n<type 'str'>\n<type 'str'>\n<type 'str'>\n<type 'str'>\n<type 'str'>\n<type 'str'>\n<type 'str'>\n<type 'str'>\n<type 'str'>\n<type 'str'>\n<type 'str'>\n<type 'str'>\n<type 'str'>\n<type 'str'>\n<type 'str'>\n<type 'str'>\n<type 'str'>\n<type 'str'>\n<type 'str'>\n<type 'str'>\n<type 'str'>\n<type 'str'>\n<type 'str'>\n<type 'str'>\n<type 'str'>\n<type 'str'>\n<type 'str'>\n<type 'str'>\n<type 'str'>\n<type 'str'>\n<type 'str'>\n<type 'str'>\n<type 'str'>\n<type 'str'>\n<type 'str'>\n<type 'str'>\n<type 'str'>\n<type 'str'>\n<type 'str'>\n<type 'str'>\n<type 'str'>\n<type 'str'>\n<type 'str'>\n<type 'str'>\n<type 'str'>\n<type 'str'>\n<type 'str'>\n<type 'str'>\n<type 'str'>\n<type 'str'>\n<type 'str'>\n<type 'str'>\n<type 'str'>\n<type 'str'>\n<type 'str'>\n<type 'str'>\n<type 'str'>\n<type 'str'>\n<type 'str'>\n<type 'str'>\n<type 'str'>\n<type 'str'>\n<type 'str'>\n<type 'str'>\n<type 'str'>\n<type 'str'>\n<type 'str'>\n<type 'str'>\n<type 'str'>\n<type 'str'>\n<type 'str'>\n<type 'str'>\n<type 'str'>\n<type 'str'>\n<type 'str'>\n<type 'str'>\n<type 'str'>\n<type 'str'>\n<type 'str'>\n<type 'str'>\n<type 'str'>\n<type 'str'>\n<type 'str'>\n<type 'str'>\n<type 'str'>\n<type 'str'>\n<type 'str'>\n<type 'str'>\n<type 'str'>\n<type 'str'>\n<type 'str'>\n<type 'str'>\n<type 'str'>\n<type 'str'>\n<type 'str'>\n<type 'str'>\n<type 'str'>\n<type 'str'>\n<type 'str'>\n<type 'str'>\n<type 'str'>\n<type 'str'>\n<type 'str'>\n<type 'str'>\n<type 'str'>\n<type 'str'>\n<type 'str'>\n<type 'str'>\n<type 'str'>\n<type 'str'>\n<type 'str'>\n<type 'str'>\n<type 'str'>\n<type 'str'>\n<type 'str'>\n<type 'str'>\n<type 'str'>\n<type 'str'>\n<type 'str'>\n<type 'str'>\n<type 'str'>\n<type 'str'>\n<type 'str'>\n<type 'str'>\n<type 'str'>\n<type 'str'>\n<type 'str'>\n<type 'str'>\n<type 'str'>\n<type 'str'>\n<type 'str'>\n<type 'str'>\n<type 'str'>\n<type 'str'>\n<type 'str'>\n<type 'str'>\n<type 'str'>\n<type 'str'>\n<type 'str'>\n<type 'str'>\n<type 'str'>\n<type 'str'>\n<type 'str'>\n<type 'str'>\n<type 'str'>\n<type 'str'>\n<type 'str'>\n<type 'str'>\n<type 'str'>\n<type 'str'>\n<type 'str'>\n<type 'str'>\n<type 'str'>\n<type 'str'>\n<type 'str'>\n<type 'str'>\n<type 'str'>\n<type 'str'>\n<type 'str'>\n<type 'str'>\n<type 'str'>\n<type 'str'>\n<type 'str'>\n<type 'str'>\n<type 'str'>\n<type 'str'>\n<type 'str'>\n<type 'str'>\n<type 'str'>\n<type 'str'>\n<type 'str'>\n<type 'str'>\n<type 'str'>\n<type 'str'>\n<type 'str'>\n<type 'str'>\n<type 'str'>\n<type 'str'>\n<type 'str'>\n<type 'str'>\n<type 'str'>\n<type 'str'>\n<type 'str'>\n<type 'str'>\n<type 'str'>\n<type 'str'>\n<type 'str'>\n<type 'str'>\n<type 'str'>\n<type 'str'>\n<type 'str'>\n<type 'str'>\n<type 'str'>\n<type 'str'>\n<type 'str'>\n<type 'str'>\n<type 'str'>\n<type 'str'>\n<type 'str'>\n<type 'str'>\n<type 'str'>\n<type 'str'>\n<type 'str'>\n<type 'str'>\n<type 'str'>\n<type 'str'>\n<type 'str'>\n<type 'str'>\n<type 'str'>\n<type 'str'>\n<type 'str'>\n<type 'str'>\n<type 'str'>\n<type 'str'>\n<type 'str'>\n<type 'str'>\n<type 'str'>\n<type 'str'>\n<type 'str'>\n<type 'str'>\n<type 'str'>\n<type 'str'>\n<type 'str'>\n<type 'str'>\n<type 'str'>\n<type 'str'>\n<type 'str'>\n<type 'str'>\n<type 'str'>\n<type 'str'>\n<type 'str'>\n<type 'str'>\n<type 'str'>\n<type 'str'>\n<type 'str'>\n<type 'str'>\n<type 'str'>\n<type 'str'>\n<type 'str'>\n<type 'str'>\n<type 'str'>\n<type 'str'>\n<type 'str'>\n<type 'str'>\n<type 'str'>\n<type 'str'>\n<type 'str'>\n<type 'str'>\n<type 'str'>\n<type 'str'>\n<type 'str'>\n<type 'str'>\n<type 'str'>\n<type 'str'>\n<type 'str'>\n<type 'str'>\n<type 'str'>\n<type 'str'>\n<type 'str'>\n<type 'str'>\n<type 'str'>\n<type 'str'>\n<type 'str'>\n<type 'str'>\n<type 'str'>\n<type 'str'>\n<type 'str'>\n<type 'str'>\n<type 'str'>\n<type 'str'>\n<type 'str'>\n<type 'str'>\n<type 'str'>\n<type 'str'>\n<type 'str'>\n<type 'str'>\n<type 'str'>\n<type 'str'>\n<type 'str'>\n<type 'str'>\n<type 'str'>\n<type 'str'>\n<type 'str'>\n<type 'str'>\n<type 'str'>\n<type 'str'>\n<type 'str'>\n<type 'str'>\n<type 'str'>\n<type 'str'>\n<type 'str'>\n<type 'str'>\n<type 'str'>\n<type 'str'>\n<type 'str'>\n<type 'str'>\n<type 'str'>\n<type 'str'>\n<type 'str'>\n<type 'str'>\n<type 'str'>\n<type 'str'>\n<type 'str'>\n<type 'str'>\n<type 'str'>\n<type 'str'>\n<type 'str'>\n<type 'str'>\n<type 'str'>\n<type 'str'>\n<type 'str'>\n<type 'str'>\n<type 'str'>\n<type 'str'>\n<type 'str'>\n<type 'str'>\n<type 'str'>\n<type 'str'>\n<type 'str'>\n<type 'str'>\n<type 'str'>\n<type 'str'>\n<type 'str'>\n<type 'str'>\n<type 'str'>\n<type 'str'>\n<type 'str'>\n<type 'str'>\n<type 'str'>\n<type 'str'>\n<type 'str'>\n<type 'str'>\n<type 'str'>\n<type 'str'>\n<type 'str'>\n<type 'str'>\n<type 'str'>\n<type 'str'>\n<type 'str'>\n<type 'str'>\n<type 'str'>\n<type 'str'>\n<type 'str'>\n<type 'str'>\n<type 'str'>\n<type 'str'>\n<type 'str'>\n<type 'str'>\n<type 'str'>\n<type 'str'>\n<type 'str'>\n<type 'str'>\n<type 'str'>\n<type 'str'>\n<type 'str'>\n<type 'str'>\n<type 'str'>\n<type 'str'>\n<type 'str'>\n<type 'str'>\n<type 'str'>\n<type 'str'>\n<type 'str'>\n<type 'str'>\n<type 'str'>\n<type 'str'>\n<type 'str'>\n<type 'str'>\n<type 'str'>\n<type 'str'>\n<type 'str'>\n<type 'str'>\n<type 'str'>\n<type 'str'>\n<type 'str'>\n<type 'str'>\n<type 'str'>\n<type 'str'>\n<type 'str'>\n<type 'str'>\n<type 'str'>\n<type 'str'>\n<type 'str'>\n<type 'str'>\n<type 'str'>\n<type 'str'>\n<type 'str'>\n<type 'str'>\n<type 'str'>\n<type 'str'>\n<type 'str'>\n<type 'str'>\n<type 'str'>\n<type 'str'>\n<type 'str'>\n<type 'str'>\n<type 'str'>\n<type 'str'>\n<type 'str'>\n<type 'str'>\n<type 'str'>\n<type 'str'>\n<type 'str'>\n<type 'str'>\n<type 'str'>\n<type 'str'>\n<type 'str'>\n<type 'str'>\n<type 'str'>\n<type 'str'>\n<type 'str'>\n<type 'str'>\n<type 'str'>\n<type 'str'>\n<type 'str'>\n<type 'str'>\n<type 'str'>\n<type 'str'>\n<type 'str'>\n<type 'str'>\n<type 'str'>\n<type 'str'>\n<type 'str'>\n<type 'str'>\n<type 'str'>\n<type 'str'>\n<type 'str'>\n<type 'str'>\n<type 'str'>\n<type 'str'>\n<type 'str'>\n<type 'str'>\n<type 'str'>\n<type 'str'>\n<type 'str'>\n<type 'str'>\n<type 'str'>\n<type 'str'>\n<type 'str'>\n<type 'str'>\n<type 'str'>\n<type 'str'>\n<type 'str'>\n<type 'str'>\n<type 'str'>\n<type 'str'>\n<type 'str'>\n<type 'str'>\n<type 'str'>\n<type 'str'>\n<type 'str'>\n<type 'str'>\n<type 'str'>\n<type 'str'>\n<type 'str'>\n<type 'str'>\n<type 'str'>\n<type 'str'>\n<type 'str'>\n<type 'str'>\n<type 'str'>\n<type 'str'>\n<type 'str'>\n<type 'str'>\n<type 'str'>\n<type 'str'>\n<type 'str'>\n<type 'str'>\n<type 'str'>\n<type 'str'>\n<type 'str'>\n<type 'str'>\n<type 'str'>\n<type 'str'>\n<type 'str'>\n<type 'str'>\n<type 'str'>\n<type 'str'>\n<type 'str'>\n<type 'str'>\n<type 'str'>\n<type 'str'>\n<type 'str'>\n<type 'str'>\n<type 'str'>\n<type 'str'>\n<type 'str'>\n<type 'str'>\n<type 'str'>\n<type 'str'>\n<type 'str'>\n<type 'str'>\n<type 'str'>\n<type 'str'>\n<type 'str'>\n<type 'str'>\n<type 'str'>\n<type 'str'>\n<type 'str'>\n<type 'str'>\n<type 'str'>\n<type 'str'>\n<type 'str'>\n<type 'str'>\n<type 'str'>\n<type 'str'>\n<type 'str'>\n<type 'str'>\n<type 'str'>\n<type 'str'>\n<type 'str'>\n<type 'str'>\n<type 'str'>\n<type 'str'>\n<type 'str'>\n<type 'str'>\n<type 'str'>\n<type 'str'>\n<type 'str'>\n<type 'str'>\n<type 'str'>\n<type 'str'>\n<type 'str'>\n<type 'str'>\n<type 'str'>\n<type 'str'>\n<type 'str'>\n<type 'str'>\n<type 'str'>\n<type 'str'>\n<type 'str'>\n<type 'str'>\n<type 'str'>\n<type 'str'>\n<type 'str'>\n<type 'str'>\n<type 'str'>\n<type 'str'>\n<type 'str'>\n<type 'str'>\n<type 'str'>\n<type 'str'>\n<type 'str'>\n<type 'str'>\n<type 'str'>\n<type 'str'>\n<type 'str'>\n<type 'str'>\n<type 'str'>\n<type 'str'>\n<type 'str'>\n<type 'str'>\n<type 'str'>\n<type 'str'>\n<type 'str'>\n<type 'str'>\n<type 'str'>\n<type 'str'>\n<type 'str'>\n<type 'str'>\n<type 'str'>\n<type 'str'>\n<type 'str'>\n<type 'str'>\n<type 'str'>\n<type 'str'>\n<type 'str'>\n<type 'str'>\n<type 'str'>\n<type 'str'>\n<type 'str'>\n<type 'str'>\n<type 'str'>\n<type 'str'>\n<type 'str'>\n<type 'str'>\n<type 'str'>\n<type 'str'>\n<type 'str'>\n<type 'str'>\n<type 'str'>\n<type 'str'>\n<type 'str'>\n<type 'str'>\n<type 'str'>\n<type 'str'>\n<type 'str'>\n<type 'str'>\n<type 'str'>\n<type 'str'>\n<type 'str'>\n<type 'str'>\n<type 'str'>\n<type 'str'>\n<type 'str'>\n<type 'str'>\n<type 'str'>\n<type 'str'>\n<type 'str'>\n<type 'str'>\n<type 'str'>\n<type 'str'>\n<type 'str'>\n<type 'str'>\n<type 'str'>\n<type 'str'>\n<type 'str'>\n<type 'str'>\n<type 'str'>\n<type 'str'>\n<type 'str'>\n<type 'str'>\n<type 'str'>\n<type 'str'>\n<type 'str'>\n<type 'str'>\n<type 'str'>\n<type 'str'>\n<type 'str'>\n<type 'str'>\n<type 'str'>\n<type 'str'>\n<type 'str'>\n<type 'str'>\n<type 'str'>\n<type 'str'>\n<type 'str'>\n<type 'str'>\n<type 'str'>\n<type 'str'>\n<type 'str'>\n<type 'str'>\n<type 'str'>\n<type 'str'>\n<type 'str'>\n<type 'str'>\n<type 'str'>\n<type 'str'>\n<type 'str'>\n<type 'str'>\n<type 'str'>\n<type 'str'>\n<type 'str'>\n<type 'str'>\n<type 'str'>\n<type 'str'>\n<type 'str'>\n<type 'str'>\n<type 'str'>\n<type 'str'>\n<type 'str'>\n<type 'str'>\n<type 'str'>\n<type 'str'>\n<type 'str'>\n<type 'str'>\n<type 'str'>\n<type 'str'>\n<type 'str'>\n<type 'str'>\n<type 'str'>\n"
     ]
    },
    {
     "name": "stdout",
     "output_type": "stream",
     "text": [
      "<type 'str'>\n<type 'str'>\n<type 'str'>\n<type 'str'>\n<type 'str'>\n<type 'str'>\n<type 'str'>\n<type 'str'>\n<type 'str'>\n<type 'str'>\n<type 'str'>\n<type 'str'>\n<type 'str'>\n<type 'str'>\n<type 'str'>\n<type 'str'>\n<type 'str'>\n<type 'str'>\n<type 'str'>\n<type 'str'>\n<type 'str'>\n<type 'str'>\n<type 'str'>\n<type 'str'>\n<type 'str'>\n<type 'str'>\n<type 'str'>\n<type 'str'>\n<type 'str'>\n<type 'str'>\n<type 'str'>\n<type 'str'>\n<type 'str'>\n<type 'str'>\n<type 'str'>\n<type 'str'>\n<type 'str'>\n<type 'str'>\n<type 'str'>\n<type 'str'>\n<type 'str'>\n<type 'str'>\n<type 'str'>\n<type 'str'>\n<type 'str'>\n<type 'str'>\n<type 'str'>\n<type 'str'>\n<type 'str'>\n<type 'str'>\n<type 'str'>\n<type 'str'>\n<type 'str'>\n<type 'str'>\n<type 'str'>\n<type 'str'>\n<type 'str'>\n<type 'str'>\n<type 'str'>\n<type 'str'>\n<type 'str'>\n<type 'str'>\n<type 'str'>\n<type 'str'>\n<type 'str'>\n<type 'str'>\n<type 'str'>\n<type 'str'>\n<type 'str'>\n<type 'str'>\n<type 'str'>\n<type 'str'>\n<type 'str'>\n<type 'str'>\n<type 'str'>\n<type 'str'>\n<type 'str'>\n<type 'str'>\n<type 'str'>\n<type 'str'>\n<type 'str'>\n<type 'str'>\n<type 'str'>\n<type 'str'>\n<type 'str'>\n<type 'str'>\n<type 'str'>\n<type 'str'>\n<type 'str'>\n<type 'str'>\n<type 'str'>\n<type 'str'>\n<type 'str'>\n<type 'str'>\n<type 'str'>\n<type 'str'>\n<type 'str'>\n<type 'str'>\n<type 'str'>\n<type 'str'>\n<type 'str'>\n<type 'str'>\n<type 'str'>\n<type 'str'>\n<type 'str'>\n<type 'str'>\n<type 'str'>\n<type 'str'>\n<type 'str'>\n<type 'str'>\n<type 'str'>\n<type 'str'>\n<type 'str'>\n<type 'str'>\n<type 'str'>\n<type 'str'>\n<type 'str'>\n<type 'str'>\n<type 'str'>\n<type 'str'>\n<type 'str'>\n<type 'str'>\n<type 'str'>\n<type 'str'>\n<type 'str'>\n<type 'str'>\n<type 'str'>\n<type 'str'>\n<type 'str'>\n<type 'str'>\n<type 'str'>\n<type 'str'>\n<type 'str'>\n<type 'str'>\n<type 'str'>\n<type 'str'>\n<type 'str'>\n<type 'str'>\n<type 'str'>\n<type 'str'>\n<type 'str'>\n<type 'str'>\n<type 'str'>\n<type 'str'>\n<type 'str'>\n<type 'str'>\n<type 'str'>\n<type 'str'>\n<type 'str'>\n<type 'str'>\n<type 'str'>\n<type 'str'>\n<type 'str'>\n<type 'str'>\n<type 'str'>\n<type 'str'>\n<type 'str'>\n<type 'str'>\n<type 'str'>\n<type 'str'>\n<type 'str'>\n<type 'str'>\n<type 'str'>\n<type 'str'>\n<type 'str'>\n<type 'str'>\n<type 'str'>\n<type 'str'>\n<type 'str'>\n<type 'str'>\n<type 'str'>\n<type 'str'>\n<type 'str'>\n<type 'str'>\n<type 'str'>\n<type 'str'>\n<type 'str'>\n<type 'str'>\n<type 'str'>\n<type 'str'>\n<type 'str'>\n<type 'str'>\n<type 'str'>\n<type 'str'>\n<type 'str'>\n<type 'str'>\n<type 'str'>\n<type 'str'>\n<type 'str'>\n<type 'str'>\n<type 'str'>\n<type 'str'>\n<type 'str'>\n<type 'str'>\n<type 'str'>\n<type 'str'>\n<type 'str'>\n<type 'str'>\n<type 'str'>\n<type 'str'>\n<type 'str'>\n<type 'str'>\n<type 'str'>\n<type 'str'>\n<type 'str'>\n<type 'str'>\n<type 'str'>\n<type 'str'>\n<type 'str'>\n<type 'str'>\n<type 'str'>\n<type 'str'>\n<type 'str'>\n<type 'str'>\n<type 'str'>\n<type 'str'>\n<type 'str'>\n<type 'str'>\n<type 'str'>\n<type 'str'>\n<type 'str'>\n<type 'str'>\n<type 'str'>\n<type 'str'>\n<type 'str'>\n<type 'str'>\n<type 'str'>\n<type 'str'>\n<type 'str'>\n<type 'str'>\n<type 'str'>\n<type 'str'>\n<type 'str'>\n<type 'str'>\n<type 'str'>\n<type 'str'>\n<type 'str'>\n<type 'str'>\n<type 'str'>\n<type 'str'>\n<type 'str'>\n<type 'str'>\n<type 'str'>\n<type 'str'>\n<type 'str'>\n<type 'str'>\n<type 'str'>\n<type 'str'>\n<type 'str'>\n<type 'str'>\n<type 'str'>\n<type 'str'>\n<type 'str'>\n<type 'str'>\n<type 'str'>\n<type 'str'>\n<type 'str'>\n<type 'str'>\n<type 'str'>\n<type 'str'>\n<type 'str'>\n<type 'str'>\n<type 'str'>\n<type 'str'>\n<type 'str'>\n<type 'str'>\n<type 'str'>\n<type 'str'>\n<type 'str'>\n<type 'str'>\n<type 'str'>\n<type 'str'>\n<type 'str'>\n<type 'str'>\n<type 'str'>\n<type 'str'>\n<type 'str'>\n<type 'str'>\n<type 'str'>\n<type 'str'>\n<type 'str'>\n<type 'str'>\n<type 'str'>\n<type 'str'>\n<type 'str'>\n<type 'str'>\n<type 'str'>\n<type 'str'>\n<type 'str'>\n<type 'str'>\n<type 'str'>\n<type 'str'>\n<type 'str'>\n<type 'str'>\n<type 'str'>\n<type 'str'>\n<type 'str'>\n<type 'str'>\n<type 'str'>\n<type 'str'>\n<type 'str'>\n<type 'str'>\n<type 'str'>\n<type 'str'>\n<type 'str'>\n<type 'str'>\n<type 'str'>\n<type 'str'>\n<type 'str'>\n<type 'str'>\n<type 'str'>\n<type 'str'>\n<type 'str'>\n<type 'str'>\n<type 'str'>\n<type 'str'>\n<type 'str'>\n<type 'str'>\n<type 'str'>\n<type 'str'>\n<type 'str'>\n<type 'str'>\n<type 'str'>\n<type 'str'>\n<type 'str'>\n<type 'str'>\n<type 'str'>\n<type 'str'>\n<type 'str'>\n<type 'str'>\n<type 'str'>\n<type 'str'>\n<type 'str'>\n<type 'str'>\n<type 'str'>\n<type 'str'>\n<type 'str'>\n<type 'str'>\n<type 'str'>\n<type 'str'>\n<type 'str'>\n<type 'str'>\n<type 'str'>\n<type 'str'>\n<type 'str'>\n<type 'str'>\n<type 'str'>\n<type 'str'>\n<type 'str'>\n<type 'str'>\n<type 'str'>\n<type 'str'>\n<type 'str'>\n<type 'str'>\n<type 'str'>\n<type 'str'>\n<type 'str'>\n<type 'str'>\n<type 'str'>\n<type 'str'>\n<type 'str'>\n<type 'str'>\n<type 'str'>\n<type 'str'>\n<type 'str'>\n<type 'str'>\n<type 'str'>\n<type 'str'>\n<type 'str'>\n<type 'str'>\n<type 'str'>\n<type 'str'>\n<type 'str'>\n<type 'str'>\n<type 'str'>\n<type 'str'>\n<type 'str'>\n<type 'str'>\n<type 'str'>\n<type 'str'>\n<type 'str'>\n<type 'str'>\n<type 'str'>\n<type 'str'>\n<type 'str'>\n<type 'str'>\n<type 'str'>\n<type 'str'>\n<type 'str'>\n<type 'str'>\n<type 'str'>\n<type 'str'>\n<type 'str'>\n<type 'str'>\n<type 'str'>\n<type 'str'>\n<type 'str'>\n<type 'str'>\n<type 'str'>\n<type 'str'>\n<type 'str'>\n<type 'str'>\n<type 'str'>\n<type 'str'>\n<type 'str'>\n<type 'str'>\n<type 'str'>\n<type 'str'>\n<type 'str'>\n<type 'str'>\n<type 'str'>\n<type 'str'>\n<type 'str'>\n<type 'str'>\n<type 'str'>\n<type 'str'>\n<type 'str'>\n<type 'str'>\n<type 'str'>\n<type 'str'>\n<type 'str'>\n<type 'str'>\n<type 'str'>\n<type 'str'>\n<type 'str'>\n<type 'str'>\n<type 'str'>\n<type 'str'>\n<type 'str'>\n<type 'str'>\n<type 'str'>\n<type 'str'>\n<type 'str'>\n<type 'str'>\n<type 'str'>\n<type 'str'>\n<type 'str'>\n<type 'str'>\n<type 'str'>\n<type 'str'>\n<type 'str'>\n<type 'str'>\n<type 'str'>\n<type 'str'>\n<type 'str'>\n<type 'str'>\n<type 'str'>\n<type 'str'>\n<type 'str'>\n<type 'str'>\n<type 'str'>\n<type 'str'>\n<type 'str'>\n<type 'str'>\n<type 'str'>\n<type 'str'>\n<type 'str'>\n<type 'str'>\n<type 'str'>\n<type 'str'>\n<type 'str'>\n<type 'str'>\n<type 'str'>\n<type 'str'>\n<type 'str'>\n<type 'str'>\n<type 'str'>\n<type 'str'>\n<type 'str'>\n<type 'str'>\n<type 'str'>\n<type 'str'>\n<type 'str'>\n<type 'str'>\n<type 'str'>\n<type 'str'>\n<type 'str'>\n<type 'str'>\n<type 'str'>\n<type 'str'>\n<type 'str'>\n<type 'str'>\n<type 'str'>\n<type 'str'>\n<type 'str'>\n<type 'str'>\n<type 'str'>\n<type 'str'>\n<type 'str'>\n<type 'str'>\n<type 'str'>\n<type 'str'>\n<type 'str'>\n<type 'str'>\n<type 'str'>\n<type 'str'>\n<type 'str'>\n<type 'str'>\n<type 'str'>\n<type 'str'>\n<type 'str'>\n<type 'str'>\n<type 'str'>\n<type 'str'>\n<type 'str'>\n<type 'str'>\n<type 'str'>\n<type 'str'>\n<type 'str'>\n<type 'str'>\n<type 'str'>\n<type 'str'>\n<type 'str'>\n<type 'str'>\n<type 'str'>\n<type 'str'>\n<type 'str'>\n<type 'str'>\n<type 'str'>\n<type 'str'>\n<type 'str'>\n<type 'str'>\n<type 'str'>\n<type 'str'>\n<type 'str'>\n<type 'str'>\n<type 'str'>\n<type 'str'>\n<type 'str'>\n<type 'str'>\n<type 'str'>\n<type 'str'>\n<type 'str'>\n<type 'str'>\n<type 'str'>\n<type 'str'>\n<type 'str'>\n<type 'str'>\n<type 'str'>\n<type 'str'>\n<type 'str'>\n<type 'str'>\n<type 'str'>\n<type 'str'>\n<type 'str'>\n<type 'str'>\n<type 'str'>\n<type 'str'>\n<type 'str'>\n<type 'str'>\n<type 'str'>\n<type 'str'>\n<type 'str'>\n<type 'str'>\n<type 'str'>\n<type 'str'>\n<type 'str'>\n<type 'str'>\n<type 'str'>\n<type 'str'>\n<type 'str'>\n<type 'str'>\n<type 'str'>\n<type 'str'>\n<type 'str'>\n<type 'str'>\n<type 'str'>\n<type 'str'>\n<type 'str'>\n<type 'str'>\n<type 'str'>\n<type 'str'>\n<type 'str'>\n<type 'str'>\n<type 'str'>\n<type 'str'>\n<type 'str'>\n<type 'str'>\n<type 'str'>\n<type 'str'>\n<type 'str'>\n<type 'str'>\n<type 'str'>\n<type 'str'>\n<type 'str'>\n<type 'str'>\n<type 'str'>\n<type 'str'>\n<type 'str'>\n<type 'str'>\n<type 'str'>\n<type 'str'>\n<type 'str'>\n<type 'str'>\n<type 'str'>\n<type 'str'>\n<type 'str'>\n<type 'str'>\n<type 'str'>\n<type 'str'>\n<type 'str'>\n<type 'str'>\n<type 'str'>\n<type 'str'>\n<type 'str'>\n<type 'str'>\n<type 'str'>\n<type 'str'>\n<type 'str'>\n<type 'str'>\n<type 'str'>\n<type 'str'>\n<type 'str'>\n<type 'str'>\n<type 'str'>\n<type 'str'>\n<type 'str'>\n<type 'str'>\n<type 'str'>\n<type 'str'>\n<type 'str'>\n<type 'str'>\n<type 'str'>\n<type 'str'>\n<type 'str'>\n<type 'str'>\n<type 'str'>\n<type 'str'>\n<type 'str'>\n<type 'str'>\n<type 'str'>\n<type 'str'>\n<type 'str'>\n<type 'str'>\n<type 'str'>\n<type 'str'>\n<type 'str'>\n<type 'str'>\n<type 'str'>\n<type 'str'>\n<type 'str'>\n<type 'str'>\n<type 'str'>\n<type 'str'>\n<type 'str'>\n<type 'str'>\n<type 'str'>\n<type 'str'>\n<type 'str'>\n<type 'str'>\n<type 'str'>\n<type 'str'>\n<type 'str'>\n<type 'str'>\n<type 'str'>\n<type 'str'>\n<type 'str'>\n<type 'str'>\n<type 'str'>\n<type 'str'>\n<type 'str'>\n<type 'str'>\n<type 'str'>\n<type 'str'>\n<type 'str'>\n<type 'str'>\n<type 'str'>\n<type 'str'>\n<type 'str'>\n<type 'str'>\n<type 'str'>\n<type 'str'>\n<type 'str'>\n<type 'str'>\n<type 'str'>\n<type 'str'>\n<type 'str'>\n<type 'str'>\n<type 'str'>\n<type 'str'>\n<type 'str'>\n<type 'str'>\n<type 'str'>\n<type 'str'>\n<type 'str'>\n<type 'str'>\n<type 'str'>\n<type 'str'>\n<type 'str'>\n<type 'str'>\n<type 'str'>\n<type 'str'>\n<type 'str'>\n<type 'str'>\n<type 'str'>\n<type 'str'>\n<type 'str'>\n<type 'str'>\n<type 'str'>\n<type 'str'>\n<type 'str'>\n<type 'str'>\n<type 'str'>\n<type 'str'>\n<type 'str'>\n<type 'str'>\n<type 'str'>\n<type 'str'>\n<type 'str'>\n<type 'str'>\n<type 'str'>\n<type 'str'>\n<type 'str'>\n<type 'str'>\n<type 'str'>\n<type 'str'>\n<type 'str'>\n<type 'str'>\n<type 'str'>\n<type 'str'>\n<type 'str'>\n<type 'str'>\n<type 'str'>\n<type 'str'>\n<type 'str'>\n<type 'str'>\n<type 'str'>\n<type 'str'>\n<type 'str'>\n<type 'str'>\n<type 'str'>\n<type 'str'>\n<type 'str'>\n<type 'str'>\n<type 'str'>\n<type 'str'>\n<type 'str'>\n<type 'str'>\n<type 'str'>\n<type 'str'>\n<type 'str'>\n<type 'str'>\n<type 'str'>\n<type 'str'>\n<type 'str'>\n<type 'str'>\n<type 'str'>\n<type 'str'>\n<type 'str'>\n<type 'str'>\n<type 'str'>\n<type 'str'>\n<type 'str'>\n<type 'str'>\n<type 'str'>\n<type 'str'>\n<type 'str'>\n<type 'str'>\n<type 'str'>\n<type 'str'>\n<type 'str'>\n<type 'str'>\n<type 'str'>\n<type 'str'>\n<type 'str'>\n<type 'str'>\n<type 'str'>\n<type 'str'>\n<type 'str'>\n<type 'str'>\n<type 'str'>\n<type 'str'>\n<type 'str'>\n<type 'str'>\n<type 'str'>\n<type 'str'>\n<type 'str'>\n<type 'str'>\n<type 'str'>\n<type 'str'>\n<type 'str'>\n<type 'str'>\n<type 'str'>\n<type 'str'>\n<type 'str'>\n<type 'str'>\n<type 'str'>\n<type 'str'>\n<type 'str'>\n<type 'str'>\n<type 'str'>\n<type 'str'>\n<type 'str'>\n<type 'str'>\n<type 'str'>\n<type 'str'>\n<type 'str'>\n<type 'str'>\n<type 'str'>\n<type 'str'>\n<type 'str'>\n<type 'str'>\n<type 'str'>\n<type 'str'>\n<type 'str'>\n<type 'str'>\n<type 'str'>\n<type 'str'>\n<type 'str'>\n<type 'str'>\n<type 'str'>\n<type 'str'>\n<type 'str'>\n<type 'str'>\n<type 'str'>\n<type 'str'>\n<type 'str'>\n<type 'str'>\n<type 'str'>\n<type 'str'>\n<type 'str'>\n<type 'str'>\n<type 'str'>\n<type 'str'>\n<type 'str'>\n<type 'str'>\n<type 'str'>\n<type 'str'>\n<type 'str'>\n<type 'str'>\n<type 'str'>\n<type 'str'>\n<type 'str'>\n<type 'str'>\n<type 'str'>\n<type 'str'>\n<type 'str'>\n<type 'str'>\n<type 'str'>\n<type 'str'>\n<type 'str'>\n<type 'str'>\n<type 'str'>\n<type 'str'>\n<type 'str'>\n<type 'str'>\n<type 'str'>\n<type 'str'>\n<type 'str'>\n<type 'str'>\n<type 'str'>\n<type 'str'>\n<type 'str'>\n<type 'str'>\n<type 'str'>\n<type 'str'>\n<type 'str'>\n<type 'str'>\n<type 'str'>\n<type 'str'>\n<type 'str'>\n<type 'str'>\n<type 'str'>\n<type 'str'>\n<type 'str'>\n<type 'str'>\n<type 'str'>\n<type 'str'>\n<type 'str'>\n<type 'str'>\n<type 'str'>\n<type 'str'>\n<type 'str'>\n<type 'str'>\n<type 'str'>\n<type 'str'>\n<type 'str'>\n<type 'str'>\n<type 'str'>\n<type 'str'>\n<type 'str'>\n<type 'str'>\n<type 'str'>\n<type 'str'>\n<type 'str'>\n<type 'str'>\n<type 'str'>\n<type 'str'>\n<type 'str'>\n<type 'str'>\n<type 'str'>\n<type 'str'>\n<type 'str'>\n<type 'str'>\n<type 'str'>\n<type 'str'>\n<type 'str'>\n<type 'str'>\n<type 'str'>\n<type 'str'>\n<type 'str'>\n<type 'str'>\n<type 'str'>\n<type 'str'>\n<type 'str'>\n<type 'str'>\n<type 'str'>\n<type 'str'>\n<type 'str'>\n<type 'str'>\n<type 'str'>\n<type 'str'>\n<type 'str'>\n<type 'str'>\n<type 'str'>\n<type 'str'>\n<type 'str'>\n<type 'str'>\n<type 'str'>\n<type 'str'>\n<type 'str'>\n<type 'str'>\n<type 'str'>\n<type 'str'>\n<type 'str'>\n<type 'str'>\n<type 'str'>\n<type 'str'>\n<type 'str'>\n<type 'str'>\n<type 'str'>\n<type 'str'>\n<type 'str'>\n<type 'str'>\n<type 'str'>\n<type 'str'>\n<type 'str'>\n<type 'str'>\n<type 'str'>\n<type 'str'>"
     ]
    },
    {
     "name": "stdout",
     "output_type": "stream",
     "text": [
      "\n<type 'str'>\n<type 'str'>\n<type 'str'>\n<type 'str'>\n<type 'str'>\n<type 'str'>\n<type 'str'>\n<type 'str'>\n<type 'str'>\n<type 'str'>\n<type 'str'>\n<type 'str'>\n<type 'str'>\n<type 'str'>\n<type 'str'>\n<type 'str'>\n<type 'str'>\n<type 'str'>\n<type 'str'>\n<type 'str'>\n<type 'str'>\n<type 'str'>\n<type 'str'>\n<type 'str'>\n<type 'str'>\n<type 'str'>\n<type 'str'>\n<type 'str'>\n<type 'str'>\n<type 'str'>\n<type 'str'>\n<type 'str'>\n<type 'str'>\n<type 'str'>\n<type 'str'>\n<type 'str'>\n<type 'str'>\n<type 'str'>\n<type 'str'>\n<type 'str'>\n<type 'str'>\n<type 'str'>\n<type 'str'>\n<type 'str'>\n<type 'str'>\n<type 'str'>\n<type 'str'>\n<type 'str'>\n<type 'str'>\n<type 'str'>\n<type 'str'>\n<type 'str'>\n<type 'str'>\n<type 'str'>\n<type 'str'>\n<type 'str'>\n<type 'str'>\n<type 'str'>\n<type 'str'>\n<type 'str'>\n<type 'str'>\n<type 'str'>\n<type 'str'>\n<type 'str'>\n<type 'str'>\n<type 'str'>\n<type 'str'>\n<type 'str'>\n<type 'str'>\n<type 'str'>\n<type 'str'>\n<type 'str'>\n<type 'str'>\n<type 'str'>\n<type 'str'>\n<type 'str'>\n<type 'str'>\n<type 'str'>\n<type 'str'>\n<type 'str'>\n<type 'str'>\n<type 'str'>\n<type 'str'>\n<type 'str'>\n<type 'str'>\n<type 'str'>\n<type 'str'>\n<type 'str'>\n<type 'str'>\n<type 'str'>\n<type 'str'>\n<type 'str'>\n<type 'str'>\n<type 'str'>\n<type 'str'>\n<type 'str'>\n<type 'str'>\n<type 'str'>\n<type 'str'>\n<type 'str'>\n<type 'str'>\n<type 'str'>\n<type 'str'>\n<type 'str'>\n<type 'str'>\n<type 'str'>\n<type 'str'>\n<type 'str'>\n<type 'str'>\n<type 'str'>\n<type 'str'>\n<type 'str'>\n<type 'str'>\n<type 'str'>\n<type 'str'>\n<type 'str'>\n<type 'str'>\n<type 'str'>\n<type 'str'>\n<type 'str'>\n<type 'str'>\n<type 'str'>\n<type 'str'>\n<type 'str'>\n<type 'str'>\n<type 'str'>\n<type 'str'>\n<type 'str'>\n<type 'str'>\n<type 'str'>\n<type 'str'>\n<type 'str'>\n<type 'str'>\n<type 'str'>\n<type 'str'>\n<type 'str'>\n<type 'str'>\n<type 'str'>\n<type 'str'>\n<type 'str'>\n<type 'str'>\n<type 'str'>\n<type 'str'>\n<type 'str'>\n<type 'str'>\n<type 'str'>\n<type 'str'>\n<type 'str'>\n<type 'str'>\n<type 'str'>\n<type 'str'>\n<type 'str'>\n<type 'str'>\n<type 'str'>\n<type 'str'>\n<type 'str'>\n<type 'str'>\n<type 'str'>\n<type 'str'>\n<type 'str'>\n<type 'str'>\n<type 'str'>\n<type 'str'>\n<type 'str'>\n<type 'str'>\n<type 'str'>\n<type 'str'>\n<type 'str'>\n<type 'str'>\n<type 'str'>\n<type 'str'>\n<type 'str'>\n<type 'str'>\n<type 'str'>\n<type 'str'>\n<type 'str'>\n<type 'str'>\n<type 'str'>\n<type 'str'>\n<type 'str'>\n<type 'str'>\n<type 'str'>\n<type 'str'>\n<type 'str'>\n<type 'str'>\n<type 'str'>\n<type 'str'>\n<type 'str'>\n<type 'str'>\n<type 'str'>\n<type 'str'>\n<type 'str'>\n<type 'str'>\n<type 'str'>\n<type 'str'>\n<type 'str'>\n<type 'str'>\n<type 'str'>\n<type 'str'>\n<type 'str'>\n<type 'str'>\n<type 'str'>\n<type 'str'>\n<type 'str'>\n<type 'str'>\n<type 'str'>\n<type 'str'>\n<type 'str'>\n<type 'str'>\n<type 'str'>\n<type 'str'>\n<type 'str'>\n<type 'str'>\n<type 'str'>\n<type 'str'>\n<type 'str'>\n<type 'str'>\n<type 'str'>\n<type 'str'>\n<type 'str'>\n<type 'str'>\n<type 'str'>\n<type 'str'>\n<type 'str'>\n<type 'str'>\n<type 'str'>\n<type 'str'>\n<type 'str'>\n<type 'str'>\n<type 'str'>\n<type 'str'>\n<type 'str'>\n<type 'str'>\n<type 'str'>\n<type 'str'>\n<type 'str'>\n<type 'str'>\n<type 'str'>\n<type 'str'>\n<type 'str'>\n<type 'str'>\n<type 'str'>\n<type 'str'>\n<type 'str'>\n<type 'str'>\n<type 'str'>\n<type 'str'>\n<type 'str'>\n<type 'str'>\n<type 'str'>\n<type 'str'>\n<type 'str'>\n<type 'str'>\n<type 'str'>\n<type 'str'>\n<type 'str'>\n<type 'str'>\n<type 'str'>\n<type 'str'>\n<type 'str'>\n<type 'str'>\n<type 'str'>\n<type 'str'>\n<type 'str'>\n<type 'str'>\n<type 'str'>\n<type 'str'>\n<type 'str'>\n<type 'str'>\n<type 'str'>\n<type 'str'>\n<type 'str'>\n<type 'str'>\n<type 'str'>\n<type 'str'>\n<type 'str'>\n<type 'str'>\n<type 'str'>\n<type 'str'>\n<type 'str'>\n<type 'str'>\n<type 'str'>\n<type 'str'>\n<type 'str'>\n<type 'str'>\n<type 'str'>\n<type 'str'>\n<type 'str'>\n<type 'str'>\n<type 'str'>\n<type 'str'>\n<type 'str'>\n<type 'str'>\n<type 'str'>\n<type 'str'>\n<type 'str'>\n<type 'str'>\n<type 'str'>\n<type 'str'>\n<type 'str'>\n<type 'str'>\n<type 'str'>\n<type 'str'>\n<type 'str'>\n<type 'str'>\n<type 'str'>\n<type 'str'>\n<type 'str'>\n<type 'str'>\n<type 'str'>\n<type 'str'>\n<type 'str'>\n<type 'str'>\n<type 'str'>\n<type 'str'>\n<type 'str'>\n<type 'str'>\n<type 'str'>\n<type 'str'>\n<type 'str'>\n<type 'str'>\n<type 'str'>\n<type 'str'>\n<type 'str'>\n<type 'str'>\n<type 'str'>\n<type 'str'>\n<type 'str'>\n<type 'str'>\n<type 'str'>\n<type 'str'>\n<type 'str'>\n<type 'str'>\n<type 'str'>\n<type 'str'>\n<type 'str'>\n<type 'str'>\n<type 'str'>\n<type 'str'>\n<type 'str'>\n<type 'str'>\n<type 'str'>\n<type 'str'>\n<type 'str'>\n<type 'str'>\n<type 'str'>\n<type 'str'>\n<type 'str'>\n<type 'str'>\n<type 'str'>\n<type 'str'>\n<type 'str'>\n<type 'str'>\n<type 'str'>\n<type 'str'>\n<type 'str'>\n<type 'str'>\n<type 'str'>\n<type 'str'>\n<type 'str'>\n<type 'str'>\n<type 'str'>\n<type 'str'>\n<type 'str'>\n<type 'str'>\n<type 'str'>\n<type 'str'>\n<type 'str'>\n<type 'str'>\n<type 'str'>\n<type 'str'>\n<type 'str'>\n<type 'str'>\n<type 'str'>\n<type 'str'>\n<type 'str'>\n<type 'str'>\n<type 'str'>\n<type 'str'>\n<type 'str'>\n<type 'str'>\n<type 'str'>\n<type 'str'>\n<type 'str'>\n<type 'str'>\n<type 'str'>\n<type 'str'>\n<type 'str'>\n<type 'str'>\n<type 'str'>\n<type 'str'>\n<type 'str'>\n<type 'str'>\n<type 'str'>\n<type 'str'>\n<type 'str'>\n<type 'str'>\n<type 'str'>\n<type 'str'>\n<type 'str'>\n<type 'str'>\n<type 'str'>\n<type 'str'>\n<type 'str'>\n<type 'str'>\n<type 'str'>\n<type 'str'>\n<type 'str'>\n<type 'str'>\n<type 'str'>\n<type 'str'>\n<type 'str'>\n<type 'str'>\n<type 'str'>\n<type 'str'>\n<type 'str'>\n<type 'str'>\n<type 'str'>\n<type 'str'>\n<type 'str'>\n<type 'str'>\n<type 'str'>\n<type 'str'>\n<type 'str'>\n<type 'str'>\n<type 'str'>\n<type 'str'>\n<type 'str'>\n<type 'str'>\n<type 'str'>\n<type 'str'>\n<type 'str'>\n<type 'str'>\n<type 'str'>\n<type 'str'>\n<type 'str'>\n<type 'str'>\n<type 'str'>\n<type 'str'>\n<type 'str'>\n<type 'str'>\n<type 'str'>\n<type 'str'>\n<type 'str'>\n<type 'str'>\n<type 'str'>\n<type 'str'>\n<type 'str'>\n<type 'str'>\n<type 'str'>\n<type 'str'>\n<type 'str'>\n<type 'str'>\n<type 'str'>\n<type 'str'>\n<type 'str'>\n<type 'str'>\n<type 'str'>\n<type 'str'>\n<type 'str'>\n<type 'str'>\n<type 'str'>\n<type 'str'>\n<type 'str'>\n<type 'str'>\n<type 'str'>\n<type 'str'>\n<type 'str'>\n<type 'str'>\n<type 'str'>\n<type 'str'>\n<type 'str'>\n<type 'str'>\n<type 'str'>\n<type 'str'>\n<type 'str'>\n<type 'str'>\n<type 'str'>\n<type 'str'>\n<type 'str'>\n<type 'str'>\n<type 'str'>\n<type 'str'>\n<type 'str'>\n<type 'str'>\n<type 'str'>\n<type 'str'>\n<type 'str'>\n<type 'str'>\n<type 'str'>\n<type 'str'>\n<type 'str'>\n<type 'str'>\n<type 'str'>\n<type 'str'>\n<type 'str'>\n<type 'str'>\n<type 'str'>\n<type 'str'>\n<type 'str'>\n<type 'str'>\n<type 'str'>\n<type 'str'>\n<type 'str'>\n<type 'str'>\n<type 'str'>\n<type 'str'>\n<type 'str'>\n<type 'str'>\n<type 'str'>\n<type 'str'>\n<type 'str'>\n<type 'str'>\n<type 'str'>\n<type 'str'>\n<type 'str'>\n<type 'str'>\n<type 'str'>\n<type 'str'>\n<type 'str'>\n<type 'str'>\n<type 'str'>\n<type 'str'>\n<type 'str'>\n<type 'str'>\n<type 'str'>\n<type 'str'>\n<type 'str'>\n<type 'str'>\n<type 'str'>\n<type 'str'>\n<type 'str'>\n<type 'str'>\n<type 'str'>\n<type 'str'>\n<type 'str'>\n<type 'str'>\n<type 'str'>\n<type 'str'>\n<type 'str'>\n<type 'str'>\n<type 'str'>\n<type 'str'>\n<type 'str'>\n<type 'str'>\n<type 'str'>\n<type 'str'>\n<type 'str'>\n<type 'str'>\n<type 'str'>\n<type 'str'>\n<type 'str'>\n<type 'str'>\n<type 'str'>\n<type 'str'>\n<type 'str'>\n<type 'str'>\n<type 'str'>\n<type 'str'>\n<type 'str'>\n<type 'str'>\n<type 'str'>\n<type 'str'>\n<type 'str'>\n<type 'str'>\n<type 'str'>\n<type 'str'>\n<type 'str'>\n<type 'str'>\n<type 'str'>\n<type 'str'>\n<type 'str'>\n<type 'str'>\n<type 'str'>\n<type 'str'>\n<type 'str'>\n<type 'str'>\n<type 'str'>\n<type 'str'>\n<type 'str'>\n<type 'str'>\n<type 'str'>\n<type 'str'>\n<type 'str'>\n<type 'str'>\n<type 'str'>\n<type 'str'>\n<type 'str'>\n<type 'str'>\n<type 'str'>\n<type 'str'>\n<type 'str'>\n<type 'str'>\n<type 'str'>\n<type 'str'>\n<type 'str'>\n<type 'str'>\n<type 'str'>\n<type 'str'>\n<type 'str'>\n<type 'str'>\n<type 'str'>\n<type 'str'>\n<type 'str'>\n<type 'str'>\n<type 'str'>\n<type 'str'>\n<type 'str'>\n<type 'str'>\n<type 'str'>\n<type 'str'>\n<type 'str'>\n<type 'str'>\n<type 'str'>\n<type 'str'>\n<type 'str'>\n<type 'str'>\n<type 'str'>\n<type 'str'>\n<type 'str'>\n<type 'str'>\n<type 'str'>\n<type 'str'>\n<type 'str'>\n<type 'str'>\n<type 'str'>\n<type 'str'>\n<type 'str'>\n<type 'str'>\n<type 'str'>\n<type 'str'>\n<type 'str'>\n<type 'str'>\n<type 'str'>\n<type 'str'>\n<type 'str'>\n<type 'str'>\n<type 'str'>\n<type 'str'>\n<type 'str'>\n<type 'str'>\n<type 'str'>\n<type 'str'>\n<type 'str'>\n<type 'str'>\n<type 'str'>\n<type 'str'>\n<type 'str'>\n<type 'str'>\n<type 'str'>\n<type 'str'>\n<type 'str'>\n<type 'str'>\n<type 'str'>\n<type 'str'>\n<type 'str'>\n<type 'str'>\n<type 'str'>\n<type 'str'>\n<type 'str'>\n<type 'str'>\n<type 'str'>\n<type 'str'>\n<type 'str'>\n<type 'str'>\n<type 'str'>\n<type 'str'>\n<type 'str'>\n<type 'str'>\n<type 'str'>\n<type 'str'>\n<type 'str'>\n<type 'str'>\n<type 'str'>\n<type 'str'>\n<type 'str'>\n<type 'str'>\n<type 'str'>\n<type 'str'>\n<type 'str'>\n<type 'str'>\n<type 'str'>\n<type 'str'>\n<type 'str'>\n<type 'str'>\n<type 'str'>\n<type 'str'>\n<type 'str'>\n<type 'str'>\n<type 'str'>\n<type 'str'>\n<type 'str'>\n<type 'str'>\n<type 'str'>\n<type 'str'>\n<type 'str'>\n<type 'str'>\n<type 'str'>\n<type 'str'>\n<type 'str'>\n<type 'str'>\n<type 'str'>\n<type 'str'>\n<type 'str'>\n<type 'str'>\n<type 'str'>\n<type 'str'>\n<type 'str'>\n<type 'str'>\n<type 'str'>\n<type 'str'>\n<type 'str'>\n<type 'str'>\n<type 'str'>\n<type 'str'>\n<type 'str'>\n<type 'str'>\n<type 'str'>\n<type 'str'>\n<type 'str'>\n<type 'str'>\n<type 'str'>\n<type 'str'>\n<type 'str'>\n<type 'str'>\n<type 'str'>\n<type 'str'>\n<type 'str'>\n<type 'str'>\n<type 'str'>\n<type 'str'>\n<type 'str'>\n<type 'str'>\n<type 'str'>\n<type 'str'>\n<type 'str'>\n<type 'str'>\n<type 'str'>\n<type 'str'>\n<type 'str'>\n<type 'str'>\n<type 'str'>\n<type 'str'>\n<type 'str'>\n<type 'str'>\n<type 'str'>\n<type 'str'>\n<type 'str'>\n<type 'str'>\n<type 'str'>\n<type 'str'>\n<type 'str'>\n<type 'str'>\n<type 'str'>\n<type 'str'>\n<type 'str'>\n<type 'str'>\n<type 'str'>\n<type 'str'>\n<type 'str'>\n<type 'str'>\n<type 'str'>\n<type 'str'>\n<type 'str'>\n<type 'str'>\n<type 'str'>\n<type 'str'>\n<type 'str'>\n<type 'str'>\n<type 'str'>\n<type 'str'>\n<type 'str'>\n<type 'str'>\n<type 'str'>\n<type 'str'>\n<type 'str'>\n<type 'str'>\n<type 'str'>\n<type 'str'>\n<type 'str'>\n<type 'str'>\n<type 'str'>\n<type 'str'>\n<type 'str'>\n<type 'str'>\n<type 'str'>\n<type 'str'>\n<type 'str'>\n<type 'str'>\n<type 'str'>\n<type 'str'>\n<type 'str'>\n<type 'str'>\n<type 'str'>\n<type 'str'>\n<type 'str'>\n<type 'str'>\n<type 'str'>\n<type 'str'>\n<type 'str'>\n<type 'str'>\n<type 'str'>\n<type 'str'>\n<type 'str'>\n<type 'str'>\n<type 'str'>\n<type 'str'>\n<type 'str'>\n<type 'str'>\n<type 'str'>\n<type 'str'>\n<type 'str'>\n<type 'str'>\n<type 'str'>\n<type 'str'>\n<type 'str'>\n<type 'str'>\n<type 'str'>\n<type 'str'>\n<type 'str'>\n<type 'str'>\n<type 'str'>\n<type 'str'>\n<type 'str'>\n<type 'str'>\n<type 'str'>\n<type 'str'>\n<type 'str'>\n<type 'str'>\n<type 'str'>\n<type 'str'>\n<type 'str'>\n<type 'str'>\n<type 'str'>\n<type 'str'>\n<type 'str'>\n<type 'str'>\n<type 'str'>\n<type 'str'>\n<type 'str'>\n<type 'str'>\n<type 'str'>\n<type 'str'>\n<type 'str'>\n<type 'str'>\n<type 'str'>\n<type 'str'>\n<type 'str'>\n<type 'str'>\n<type 'str'>\n<type 'str'>\n<type 'str'>\n<type 'str'>\n<type 'str'>\n<type 'str'>\n<type 'str'>\n<type 'str'>\n<type 'str'>\n<type 'str'>\n<type 'str'>\n<type 'str'>\n<type 'str'>\n<type 'str'>\n<type 'str'>\n<type 'str'>\n<type 'str'>\n<type 'str'>\n<type 'str'>\n<type 'str'>\n<type 'str'>\n<type 'str'>\n<type 'str'>\n<type 'str'>\n<type 'str'>\n<type 'str'>\n<type 'str'>\n<type 'str'>\n<type 'str'>\n<type 'str'>\n<type 'str'>\n<type 'str'>\n<type 'str'>\n<type 'str'>\n<type 'str'>\n<type 'str'>\n<type 'str'>\n<type 'str'>\n<type 'str'>\n<type 'str'>\n<type 'str'>\n<type 'str'>\n<type 'str'>\n<type 'str'>\n<type 'str'>\n<type 'str'>\n<type 'str'>\n<type 'str'>\n<type 'str'>\n<type 'str'>\n<type 'str'>\n<type 'str'>\n<type 'str'>\n<type 'str'>\n<type 'str'>\n<type 'str'>\n<type 'str'>\n<type 'str'>\n<type 'str'>\n<type 'str'>\n<type 'str'>\n<type 'str'>\n<type 'str'>\n<type 'str'>\n<type 'str'>\n<type 'str'>\n<type 'str'>\n<type 'str'>\n<type 'str'>\n<type 'str'>\n<type 'str'>\n<type 'str'>\n<type 'str'>\n<type 'str'>\n<type 'str'>\n<type 'str'>\n<type 'str'>\n<type 'str'>\n<type 'str'>\n<type 'str'>\n<type 'str'>\n<type 'str'>\n<type 'str'>\n<type 'str'>\n<type 'str'>\n<type 'str'>\n<type 'str'>\n<type 'str'>\n<type 'str'>\n<type 'str'>\n<type 'str'>\n<type 'str'>\n<type 'str'>\n<type 'str'>\n<type 'str'>\n<type 'str'>\n<type 'str'>\n<type 'str'>\n<type 'str'>\n<type 'str'>\n<type 'str'>\n<type 'str'>\n<type 'str'>\n<type 'str'>\n<type 'str'>\n<type 'str'>\n<type 'str'>\n<type 'str'>\n<type 'str'>\n<type 'str'>\n<type 'str'>\n<type 'str'>\n<type 'str'>\n<type 'str'>\n<type 'str'>\n<type 'str'>\n<type 'str'>\n<type 'str'>\n<type 'str'>\n<type 'str'>\n<type 'str'>\n<type 'str'>\n<type 'str'>\n<type 'str'>\n<type 'str'>\n<type 'str'>\n<type 'str'>\n<type 'str'>\n<type 'str'>\n<type 'str'>\n<type 'str'>\n<type 'str'>\n<type 'str'>\n<type 'str'>\n<type 'str'>\n<type 'str'>\n<type 'str'>\n<type 'str'>\n<type 'str'>\n<type 'str'>\n<type 'str'>\n<type 'str'>\n<type 'str'>\n<type 'str'>\n<type 'str'>\n<type 'str'>\n<type 'str'>\n<type 'str'>\n<type 'str'>\n<type 'str'>\n<type 'str'>\n<type 'str'>\n<type 'str'>\n<type 'str'>\n<type 'str'>\n<type 'str'>\n<type 'str'>\n<type 'str'>"
     ]
    },
    {
     "name": "stdout",
     "output_type": "stream",
     "text": [
      "\n<type 'str'>\n<type 'str'>\n<type 'str'>\n<type 'str'>\n<type 'str'>\n<type 'str'>\n<type 'str'>\n<type 'str'>\n<type 'str'>\n<type 'str'>\n<type 'str'>\n<type 'str'>\n<type 'str'>\n<type 'str'>\n<type 'str'>\n<type 'str'>\n<type 'str'>\n<type 'str'>\n<type 'str'>\n<type 'str'>\n<type 'str'>\n<type 'str'>\n<type 'str'>\n<type 'str'>\n<type 'str'>\n<type 'str'>\n<type 'str'>\n<type 'str'>\n<type 'str'>\n<type 'str'>\n<type 'str'>\n<type 'str'>\n<type 'str'>\n<type 'str'>\n<type 'str'>\n<type 'str'>\n<type 'str'>\n<type 'str'>\n<type 'str'>\n<type 'str'>\n<type 'str'>\n<type 'str'>\n<type 'str'>\n<type 'str'>\n<type 'str'>\n<type 'str'>\n<type 'str'>\n<type 'str'>\n<type 'str'>\n<type 'str'>\n<type 'str'>\n<type 'str'>\n<type 'str'>\n<type 'str'>\n<type 'str'>\n<type 'str'>\n<type 'str'>\n<type 'str'>\n<type 'str'>\n<type 'str'>\n<type 'str'>\n<type 'str'>\n<type 'str'>\n<type 'str'>\n<type 'str'>\n<type 'str'>\n<type 'str'>\n<type 'str'>\n<type 'str'>\n<type 'str'>\n<type 'str'>\n<type 'str'>\n<type 'str'>\n<type 'str'>\n<type 'str'>\n<type 'str'>\n<type 'str'>\n<type 'str'>\n<type 'str'>\n<type 'str'>\n<type 'str'>\n<type 'str'>\n<type 'str'>\n<type 'str'>\n<type 'str'>\n<type 'str'>\n<type 'str'>\n<type 'str'>\n<type 'str'>\n<type 'str'>\n<type 'str'>\n<type 'str'>\n<type 'str'>\n<type 'str'>\n<type 'str'>\n<type 'str'>\n<type 'str'>\n<type 'str'>\n<type 'str'>\n<type 'str'>\n<type 'str'>\n<type 'str'>\n<type 'str'>\n<type 'str'>\n<type 'str'>\n<type 'str'>\n<type 'str'>\n<type 'str'>\n<type 'str'>\n<type 'str'>\n<type 'str'>\n<type 'str'>\n<type 'str'>\n<type 'str'>\n<type 'str'>\n<type 'str'>\n<type 'str'>\n<type 'str'>\n<type 'str'>\n<type 'str'>\n<type 'str'>\n<type 'str'>\n<type 'str'>\n<type 'str'>\n<type 'str'>\n<type 'str'>\n<type 'str'>\n<type 'str'>\n<type 'str'>\n<type 'str'>\n<type 'str'>\n<type 'str'>\n<type 'str'>\n<type 'str'>\n<type 'str'>\n<type 'str'>\n<type 'str'>\n<type 'str'>\n<type 'str'>\n<type 'str'>\n<type 'str'>\n<type 'str'>\n<type 'str'>\n<type 'str'>\n<type 'str'>\n<type 'str'>\n<type 'str'>\n<type 'str'>\n<type 'str'>\n<type 'str'>\n<type 'str'>\n<type 'str'>\n<type 'str'>\n<type 'str'>\n<type 'str'>\n<type 'str'>\n<type 'str'>\n<type 'str'>\n<type 'str'>\n<type 'str'>\n<type 'str'>\n<type 'str'>\n<type 'str'>\n<type 'str'>\n<type 'str'>\n<type 'str'>\n<type 'str'>\n<type 'str'>\n<type 'str'>\n<type 'str'>\n<type 'str'>\n<type 'str'>\n<type 'str'>\n<type 'str'>\n<type 'str'>\n<type 'str'>\n<type 'str'>\n<type 'str'>\n<type 'str'>\n<type 'str'>\n<type 'str'>\n<type 'str'>\n<type 'str'>\n<type 'str'>\n<type 'str'>\n<type 'str'>\n<type 'str'>\n<type 'str'>\n<type 'str'>\n<type 'str'>\n<type 'str'>\n<type 'str'>\n<type 'str'>\n<type 'str'>\n<type 'str'>\n<type 'str'>\n<type 'str'>\n<type 'str'>\n<type 'str'>\n<type 'str'>\n<type 'str'>\n<type 'str'>\n<type 'str'>\n<type 'str'>\n<type 'str'>\n<type 'str'>\n<type 'str'>\n<type 'str'>\n<type 'str'>\n<type 'str'>\n<type 'str'>\n<type 'str'>\n<type 'str'>\n<type 'str'>\n<type 'str'>\n<type 'str'>\n<type 'str'>\n<type 'str'>\n<type 'str'>\n<type 'str'>\n<type 'str'>\n<type 'str'>\n<type 'str'>\n<type 'str'>\n<type 'str'>\n<type 'str'>\n<type 'str'>\n<type 'str'>\n<type 'str'>\n<type 'str'>\n<type 'str'>\n<type 'str'>\n<type 'str'>\n<type 'str'>\n<type 'str'>\n<type 'str'>\n<type 'str'>\n<type 'str'>\n<type 'str'>\n<type 'str'>\n<type 'str'>\n<type 'str'>\n<type 'str'>\n<type 'str'>\n<type 'str'>\n<type 'str'>\n<type 'str'>\n<type 'str'>\n<type 'str'>\n<type 'str'>\n<type 'str'>\n<type 'str'>\n<type 'str'>\n<type 'str'>\n<type 'str'>\n<type 'str'>\n<type 'str'>\n<type 'str'>\n<type 'str'>\n<type 'str'>\n<type 'str'>\n<type 'str'>\n<type 'str'>\n<type 'str'>\n<type 'str'>\n<type 'str'>\n<type 'str'>\n<type 'str'>\n<type 'str'>\n<type 'str'>\n<type 'str'>\n<type 'str'>\n<type 'str'>\n<type 'str'>\n<type 'str'>\n<type 'str'>\n<type 'str'>\n<type 'str'>\n<type 'str'>\n<type 'str'>\n<type 'str'>\n<type 'str'>\n<type 'str'>\n<type 'str'>\n<type 'str'>\n<type 'str'>\n<type 'str'>\n<type 'str'>\n<type 'str'>\n<type 'str'>\n<type 'str'>\n<type 'str'>\n<type 'str'>\n<type 'str'>\n<type 'str'>\n<type 'str'>\n<type 'str'>\n<type 'str'>\n<type 'str'>\n<type 'str'>\n<type 'str'>\n<type 'str'>\n<type 'str'>\n<type 'str'>\n<type 'str'>\n<type 'str'>\n<type 'str'>\n<type 'str'>\n<type 'str'>\n<type 'str'>\n<type 'str'>\n<type 'str'>\n<type 'str'>\n<type 'str'>\n<type 'str'>\n<type 'str'>\n<type 'str'>\n<type 'str'>\n<type 'str'>\n<type 'str'>\n<type 'str'>\n<type 'str'>\n<type 'str'>\n<type 'str'>\n<type 'str'>\n<type 'str'>\n<type 'str'>\n<type 'str'>\n<type 'str'>\n<type 'str'>\n<type 'str'>\n<type 'str'>\n<type 'str'>\n<type 'str'>\n<type 'str'>\n<type 'str'>\n<type 'str'>\n<type 'str'>\n<type 'str'>\n<type 'str'>\n<type 'str'>\n<type 'str'>\n<type 'str'>\n<type 'str'>\n<type 'str'>\n<type 'str'>\n<type 'str'>\n<type 'str'>\n<type 'str'>\n<type 'str'>\n<type 'str'>\n<type 'str'>\n<type 'str'>\n<type 'str'>\n<type 'str'>\n<type 'str'>\n<type 'str'>\n<type 'str'>\n<type 'str'>\n<type 'str'>\n<type 'str'>\n<type 'str'>\n<type 'str'>\n<type 'str'>\n<type 'str'>\n<type 'str'>\n<type 'str'>\n<type 'str'>\n<type 'str'>\n<type 'str'>\n<type 'str'>\n<type 'str'>\n<type 'str'>\n<type 'str'>\n<type 'str'>\n<type 'str'>\n<type 'str'>\n<type 'str'>\n<type 'str'>\n<type 'str'>\n<type 'str'>\n<type 'str'>\n<type 'str'>\n<type 'str'>\n<type 'str'>\n<type 'str'>\n<type 'str'>\n<type 'str'>\n<type 'str'>\n<type 'str'>\n<type 'str'>\n<type 'str'>\n<type 'str'>\n<type 'str'>\n<type 'str'>\n<type 'str'>\n<type 'str'>\n<type 'str'>\n<type 'str'>\n<type 'str'>\n<type 'str'>\n<type 'str'>\n<type 'str'>\n<type 'str'>\n<type 'str'>\n<type 'str'>\n<type 'str'>\n<type 'str'>\n<type 'str'>\n<type 'str'>\n<type 'str'>\n<type 'str'>\n<type 'str'>\n<type 'str'>\n<type 'str'>\n<type 'str'>\n<type 'str'>\n<type 'str'>\n<type 'str'>\n<type 'str'>\n<type 'str'>\n<type 'str'>\n<type 'str'>\n<type 'str'>\n<type 'str'>\n<type 'str'>\n<type 'str'>\n<type 'str'>\n<type 'str'>\n<type 'str'>\n<type 'str'>\n<type 'str'>\n<type 'str'>\n<type 'str'>\n<type 'str'>\n<type 'str'>\n<type 'str'>\n<type 'str'>\n<type 'str'>\n<type 'str'>\n<type 'str'>\n<type 'str'>\n<type 'str'>\n<type 'str'>\n<type 'str'>\n<type 'str'>\n<type 'str'>\n<type 'str'>\n<type 'str'>\n<type 'str'>\n<type 'str'>\n<type 'str'>\n<type 'str'>\n<type 'str'>\n<type 'str'>\n<type 'str'>\n<type 'str'>\n<type 'str'>\n<type 'str'>\n<type 'str'>\n<type 'str'>\n<type 'str'>\n<type 'str'>\n<type 'str'>\n<type 'str'>\n<type 'str'>\n<type 'str'>\n<type 'str'>\n<type 'str'>\n<type 'str'>\n<type 'str'>\n<type 'str'>\n<type 'str'>\n<type 'str'>\n<type 'str'>\n<type 'str'>\n<type 'str'>\n<type 'str'>\n<type 'str'>\n<type 'str'>\n<type 'str'>\n<type 'str'>\n<type 'str'>\n<type 'str'>\n<type 'str'>\n<type 'str'>\n<type 'str'>\n<type 'str'>\n<type 'str'>\n<type 'str'>\n<type 'str'>\n<type 'str'>\n<type 'str'>\n<type 'str'>\n<type 'str'>\n<type 'str'>\n<type 'str'>\n<type 'str'>\n<type 'str'>\n<type 'str'>\n<type 'str'>\n<type 'str'>\n<type 'str'>\n<type 'str'>\n<type 'str'>\n<type 'str'>\n<type 'str'>\n<type 'str'>\n<type 'str'>\n<type 'str'>\n<type 'str'>\n<type 'str'>\n<type 'str'>\n<type 'str'>\n<type 'str'>\n<type 'str'>\n<type 'str'>\n<type 'str'>\n<type 'str'>\n<type 'str'>\n<type 'str'>\n<type 'str'>\n<type 'str'>\n<type 'str'>\n<type 'str'>\n<type 'str'>\n<type 'str'>\n<type 'str'>\n<type 'str'>\n<type 'str'>\n<type 'str'>\n<type 'str'>\n<type 'str'>\n<type 'str'>\n<type 'str'>\n<type 'str'>\n<type 'str'>\n<type 'str'>\n<type 'str'>\n<type 'str'>\n<type 'str'>\n<type 'str'>\n<type 'str'>\n<type 'str'>\n<type 'str'>\n<type 'str'>\n<type 'str'>\n<type 'str'>\n<type 'str'>\n<type 'str'>\n<type 'str'>\n<type 'str'>\n<type 'str'>\n<type 'str'>\n<type 'str'>\n<type 'str'>\n<type 'str'>\n<type 'str'>\n<type 'str'>\n<type 'str'>\n<type 'str'>\n<type 'str'>\n<type 'str'>\n<type 'str'>\n<type 'str'>\n<type 'str'>\n<type 'str'>\n<type 'str'>\n<type 'str'>\n<type 'str'>\n<type 'str'>\n<type 'str'>\n<type 'str'>\n<type 'str'>\n<type 'str'>\n<type 'str'>\n<type 'str'>\n<type 'str'>\n<type 'str'>\n<type 'str'>\n<type 'str'>\n<type 'str'>\n<type 'str'>\n<type 'str'>\n<type 'str'>\n<type 'str'>\n<type 'str'>\n<type 'str'>\n<type 'str'>\n<type 'str'>\n<type 'str'>\n<type 'str'>\n<type 'str'>\n<type 'str'>\n<type 'str'>\n<type 'str'>\n<type 'str'>\n<type 'str'>\n<type 'str'>\n<type 'str'>\n<type 'str'>\n<type 'str'>\n<type 'str'>\n<type 'str'>\n<type 'str'>\n<type 'str'>\n<type 'str'>\n<type 'str'>\n<type 'str'>\n<type 'str'>\n<type 'str'>\n<type 'str'>\n<type 'str'>\n<type 'str'>\n<type 'str'>\n<type 'str'>\n<type 'str'>\n<type 'str'>\n<type 'str'>\n<type 'str'>\n<type 'str'>\n<type 'str'>\n<type 'str'>\n<type 'str'>\n<type 'str'>\n<type 'str'>\n<type 'str'>\n<type 'str'>\n<type 'str'>\n<type 'str'>\n<type 'str'>\n<type 'str'>\n<type 'str'>\n<type 'str'>\n<type 'str'>\n<type 'str'>\n<type 'str'>\n<type 'str'>\n<type 'str'>\n<type 'str'>\n<type 'str'>\n<type 'str'>\n<type 'str'>\n<type 'str'>\n<type 'str'>\n<type 'str'>\n<type 'str'>\n<type 'str'>\n<type 'str'>\n<type 'str'>\n<type 'str'>\n<type 'str'>\n<type 'str'>\n<type 'str'>\n<type 'str'>\n<type 'str'>\n<type 'str'>\n<type 'str'>\n<type 'str'>\n<type 'str'>\n<type 'str'>\n<type 'str'>\n<type 'str'>\n<type 'str'>\n<type 'str'>\n<type 'str'>\n<type 'str'>\n<type 'str'>\n<type 'str'>\n<type 'str'>\n<type 'str'>\n<type 'str'>\n<type 'str'>\n<type 'str'>\n<type 'str'>\n<type 'str'>\n<type 'str'>\n<type 'str'>\n<type 'str'>\n<type 'str'>\n<type 'str'>\n<type 'str'>\n<type 'str'>\n<type 'str'>\n<type 'str'>\n<type 'str'>\n<type 'str'>\n<type 'str'>\n<type 'str'>\n<type 'str'>\n<type 'str'>\n<type 'str'>\n<type 'str'>\n<type 'str'>\n<type 'str'>\n<type 'str'>\n<type 'str'>\n<type 'str'>\n<type 'str'>\n<type 'str'>\n<type 'str'>\n<type 'str'>\n<type 'str'>\n<type 'str'>\n<type 'str'>\n<type 'str'>\n<type 'str'>\n<type 'str'>\n<type 'str'>\n<type 'str'>\n<type 'str'>\n<type 'str'>\n<type 'str'>\n<type 'str'>\n<type 'str'>\n<type 'str'>\n<type 'str'>\n<type 'str'>\n<type 'str'>\n<type 'str'>\n<type 'str'>\n<type 'str'>\n<type 'str'>\n<type 'str'>\n<type 'str'>\n<type 'str'>\n<type 'str'>\n<type 'str'>\n<type 'str'>\n<type 'str'>\n<type 'str'>\n<type 'str'>\n<type 'str'>\n<type 'str'>\n<type 'str'>\n<type 'str'>\n<type 'str'>\n<type 'str'>\n<type 'str'>\n<type 'str'>\n<type 'str'>\n<type 'str'>\n<type 'str'>\n<type 'str'>\n<type 'str'>\n<type 'str'>\n<type 'str'>\n<type 'str'>\n<type 'str'>\n<type 'str'>\n<type 'str'>\n<type 'str'>\n<type 'str'>\n<type 'str'>\n<type 'str'>\n<type 'str'>\n<type 'str'>\n<type 'str'>\n<type 'str'>\n<type 'str'>\n<type 'str'>\n<type 'str'>\n<type 'str'>\n<type 'str'>\n<type 'str'>\n<type 'str'>\n<type 'str'>\n<type 'str'>\n<type 'str'>\n<type 'str'>\n<type 'str'>\n<type 'str'>\n<type 'str'>\n<type 'str'>\n<type 'str'>\n<type 'str'>\n<type 'str'>\n<type 'str'>\n<type 'str'>\n<type 'str'>\n<type 'str'>\n<type 'str'>\n<type 'str'>\n<type 'str'>\n<type 'str'>\n<type 'str'>\n<type 'str'>\n<type 'str'>\n<type 'str'>\n<type 'str'>\n<type 'str'>\n<type 'str'>\n<type 'str'>\n<type 'str'>\n<type 'str'>\n<type 'str'>\n<type 'str'>\n<type 'str'>\n<type 'str'>\n<type 'str'>\n<type 'str'>\n<type 'str'>\n<type 'str'>\n<type 'str'>\n<type 'str'>\n<type 'str'>\n<type 'str'>\n<type 'str'>\n<type 'str'>\n<type 'str'>\n<type 'str'>\n<type 'str'>\n<type 'str'>\n<type 'str'>\n<type 'str'>\n<type 'str'>\n<type 'str'>\n<type 'str'>\n<type 'str'>\n<type 'str'>\n<type 'str'>\n<type 'str'>\n<type 'str'>\n<type 'str'>\n<type 'str'>\n<type 'str'>\n<type 'str'>\n<type 'str'>\n<type 'str'>\n<type 'str'>\n<type 'str'>\n<type 'str'>\n<type 'str'>\n<type 'str'>\n<type 'str'>\n<type 'str'>\n<type 'str'>\n<type 'str'>\n<type 'str'>\n<type 'str'>\n<type 'str'>\n<type 'str'>\n<type 'str'>\n<type 'str'>\n<type 'str'>\n<type 'str'>\n<type 'str'>\n<type 'str'>\n<type 'str'>\n<type 'str'>\n<type 'str'>\n<type 'str'>\n<type 'str'>\n<type 'str'>\n<type 'str'>\n<type 'str'>\n<type 'str'>\n<type 'str'>\n<type 'str'>\n<type 'str'>\n<type 'str'>\n<type 'str'>\n<type 'str'>\n<type 'str'>\n<type 'str'>\n<type 'str'>\n<type 'str'>\n<type 'str'>\n<type 'str'>\n<type 'str'>\n<type 'str'>\n<type 'str'>\n<type 'str'>\n<type 'str'>\n<type 'str'>\n<type 'str'>\n<type 'str'>\n<type 'str'>\n<type 'str'>\n<type 'str'>\n<type 'str'>\n<type 'str'>\n<type 'str'>\n<type 'str'>\n<type 'str'>\n<type 'str'>\n<type 'str'>\n<type 'str'>\n<type 'str'>\n<type 'str'>\n<type 'str'>\n<type 'str'>\n<type 'str'>\n<type 'str'>\n<type 'str'>\n<type 'str'>\n<type 'str'>\n<type 'str'>\n<type 'str'>\n<type 'str'>\n<type 'str'>\n<type 'str'>\n<type 'str'>\n<type 'str'>\n<type 'str'>\n<type 'str'>\n<type 'str'>\n<type 'str'>\n<type 'str'>\n<type 'str'>\n<type 'str'>\n<type 'str'>\n<type 'str'>\n<type 'str'>\n<type 'str'>\n<type 'str'>\n<type 'str'>\n<type 'str'>\n<type 'str'>\n<type 'str'>\n<type 'str'>\n<type 'str'>\n<type 'str'>\n<type 'str'>\n<type 'str'>\n<type 'str'>\n<type 'str'>\n<type 'str'>\n<type 'str'>\n<type 'str'>\n<type 'str'>\n<type 'str'>\n<type 'str'>\n<type 'str'>\n<type 'str'>\n<type 'str'>\n<type 'str'>\n<type 'str'>\n<type 'str'>\n<type 'str'>\n<type 'str'>\n<type 'str'>\n<type 'str'>\n<type 'str'>\n<type 'str'>\n<type 'str'>\n<type 'str'>\n<type 'str'>\n<type 'str'>\n<type 'str'>\n<type 'str'>\n<type 'str'>\n<type 'str'>\n<type 'str'>\n<type 'str'>\n<type 'str'>\n<type 'str'>\n<type 'str'>\n<type 'str'>\n<type 'str'>\n<type 'str'>\n<type 'str'>\n<type 'str'>\n<type 'str'>\n<type 'str'>\n<type 'str'>\n<type 'str'>\n<type 'str'>\n<type 'str'>\n<type 'str'>\n<type 'str'>\n<type 'str'>\n<type 'str'>\n<type 'str'>\n<type 'str'>\n<type 'str'>\n<type 'str'>\n<type 'str'>\n<type 'str'>\n<type 'str'>\n<type 'str'>\n<type 'str'>\n<type 'str'>\n<type 'str'>\n<type 'str'>\n<type 'str'>\n<type 'str'>\n<type 'str'>\n<type 'str'>\n<type 'str'>\n<type 'str'>\n<type 'str'>\n<type 'str'>\n<type 'str'>\n<type 'str'>\n<type 'str'>\n<type 'str'>\n<type 'str'>\n<type 'str'>\n<type 'str'>"
     ]
    },
    {
     "name": "stdout",
     "output_type": "stream",
     "text": [
      "\n<type 'str'>\n<type 'str'>\n<type 'str'>\n<type 'str'>\n<type 'str'>\n<type 'str'>\n<type 'str'>\n<type 'str'>\n<type 'str'>\n<type 'str'>\n<type 'str'>\n<type 'str'>\n<type 'str'>\n<type 'str'>\n<type 'str'>\n<type 'str'>\n<type 'str'>\n<type 'str'>\n<type 'str'>\n<type 'str'>\n<type 'str'>\n<type 'str'>\n<type 'str'>\n<type 'str'>\n<type 'str'>\n<type 'str'>\n<type 'str'>\n<type 'str'>\n<type 'str'>\n<type 'str'>\n<type 'str'>\n<type 'str'>\n<type 'str'>\n<type 'str'>\n<type 'str'>\n<type 'str'>\n<type 'str'>\n<type 'str'>\n<type 'str'>\n<type 'str'>\n<type 'str'>\n<type 'str'>\n<type 'str'>\n<type 'str'>\n<type 'str'>\n<type 'str'>\n<type 'str'>\n<type 'str'>\n<type 'str'>\n<type 'str'>\n<type 'str'>\n<type 'str'>\n<type 'str'>\n<type 'str'>\n<type 'str'>\n<type 'str'>\n<type 'str'>\n<type 'str'>\n<type 'str'>\n<type 'str'>\n<type 'str'>\n<type 'str'>\n<type 'str'>\n<type 'str'>\n<type 'str'>\n<type 'str'>\n<type 'str'>\n<type 'str'>\n<type 'str'>\n<type 'str'>\n<type 'str'>\n<type 'str'>\n<type 'str'>\n<type 'str'>\n<type 'str'>\n<type 'str'>\n<type 'str'>\n<type 'str'>\n<type 'str'>\n<type 'str'>\n<type 'str'>\n<type 'str'>\n<type 'str'>\n<type 'str'>\n<type 'str'>\n<type 'str'>\n<type 'str'>\n<type 'str'>\n<type 'str'>\n<type 'str'>\n<type 'str'>\n<type 'str'>\n<type 'str'>\n<type 'str'>\n<type 'str'>\n<type 'str'>\n<type 'str'>\n<type 'str'>\n<type 'str'>\n<type 'str'>\n<type 'str'>\n<type 'str'>\n<type 'str'>\n<type 'str'>\n<type 'str'>\n<type 'str'>\n<type 'str'>\n<type 'str'>\n<type 'str'>\n<type 'str'>\n<type 'str'>\n<type 'str'>\n<type 'str'>\n<type 'str'>\n<type 'str'>\n<type 'str'>\n<type 'str'>\n<type 'str'>\n<type 'str'>\n<type 'str'>\n<type 'str'>\n<type 'str'>\n<type 'str'>\n<type 'str'>\n<type 'str'>\n<type 'str'>\n<type 'str'>\n<type 'str'>\n<type 'str'>\n<type 'str'>\n<type 'str'>\n<type 'str'>\n<type 'str'>\n<type 'str'>\n<type 'str'>\n<type 'str'>\n<type 'str'>\n<type 'str'>\n<type 'str'>\n<type 'str'>\n<type 'str'>\n<type 'str'>\n<type 'str'>\n<type 'str'>\n<type 'str'>\n<type 'str'>\n<type 'str'>\n<type 'str'>\n<type 'str'>\n<type 'str'>\n<type 'str'>\n<type 'str'>\n<type 'str'>\n<type 'str'>\n<type 'str'>\n<type 'str'>\n<type 'str'>\n<type 'str'>\n<type 'str'>\n<type 'str'>\n<type 'str'>\n<type 'str'>\n<type 'str'>\n<type 'str'>\n<type 'str'>\n<type 'str'>\n<type 'str'>\n<type 'str'>\n<type 'str'>\n<type 'str'>\n<type 'str'>\n<type 'str'>\n<type 'str'>\n<type 'str'>\n<type 'str'>\n<type 'str'>\n<type 'str'>\n<type 'str'>\n<type 'str'>\n<type 'str'>\n<type 'str'>\n<type 'str'>\n<type 'str'>\n<type 'str'>\n<type 'str'>\n<type 'str'>\n<type 'str'>\n<type 'str'>\n<type 'str'>\n<type 'str'>\n<type 'str'>\n<type 'str'>\n<type 'str'>\n<type 'str'>\n<type 'str'>\n<type 'str'>\n<type 'str'>\n<type 'str'>\n<type 'str'>\n<type 'str'>\n<type 'str'>\n<type 'str'>\n<type 'str'>\n<type 'str'>\n<type 'str'>\n<type 'str'>\n<type 'str'>\n<type 'str'>\n<type 'str'>\n<type 'str'>\n<type 'str'>\n<type 'str'>\n<type 'str'>\n<type 'str'>\n<type 'str'>\n<type 'str'>\n<type 'str'>\n<type 'str'>\n<type 'str'>\n<type 'str'>\n<type 'str'>\n<type 'str'>\n<type 'str'>\n<type 'str'>\n<type 'str'>\n<type 'str'>\n<type 'str'>\n<type 'str'>\n<type 'str'>\n<type 'str'>\n<type 'str'>\n<type 'str'>\n<type 'str'>\n<type 'str'>\n<type 'str'>\n<type 'str'>\n<type 'str'>\n<type 'str'>\n<type 'str'>\n<type 'str'>\n<type 'str'>\n<type 'str'>\n<type 'str'>\n<type 'str'>\n<type 'str'>\n<type 'str'>\n<type 'str'>\n<type 'str'>\n<type 'str'>\n<type 'str'>\n<type 'str'>\n<type 'str'>\n<type 'str'>\n<type 'str'>\n<type 'str'>\n<type 'str'>\n<type 'str'>\n<type 'str'>\n<type 'str'>\n<type 'str'>\n<type 'str'>\n<type 'str'>\n<type 'str'>\n<type 'str'>\n<type 'str'>\n<type 'str'>\n<type 'str'>\n<type 'str'>\n<type 'str'>\n<type 'str'>\n<type 'str'>\n<type 'str'>\n<type 'str'>\n<type 'str'>\n<type 'str'>\n<type 'str'>\n<type 'str'>\n<type 'str'>\n<type 'str'>\n<type 'str'>\n<type 'str'>\n<type 'str'>\n<type 'str'>\n<type 'str'>\n<type 'str'>\n<type 'str'>\n<type 'str'>\n<type 'str'>\n<type 'str'>\n<type 'str'>\n<type 'str'>\n<type 'str'>\n<type 'str'>\n<type 'str'>\n<type 'str'>\n<type 'str'>\n<type 'str'>\n<type 'str'>\n<type 'str'>\n<type 'str'>\n<type 'str'>\n<type 'str'>\n<type 'str'>\n<type 'str'>\n<type 'str'>\n<type 'str'>\n<type 'str'>\n<type 'str'>\n<type 'str'>\n<type 'str'>\n<type 'str'>\n<type 'str'>\n<type 'str'>\n<type 'str'>\n<type 'str'>\n<type 'str'>\n<type 'str'>\n<type 'str'>\n<type 'str'>\n<type 'str'>\n<type 'str'>\n<type 'str'>\n<type 'str'>\n<type 'str'>\n<type 'str'>\n<type 'str'>\n<type 'str'>\n<type 'str'>\n<type 'str'>\n<type 'str'>\n<type 'str'>\n<type 'str'>\n<type 'str'>\n<type 'str'>\n<type 'str'>\n<type 'str'>\n<type 'str'>\n<type 'str'>\n<type 'str'>\n<type 'str'>\n<type 'str'>\n<type 'str'>\n<type 'str'>\n<type 'str'>\n<type 'str'>\n<type 'str'>\n<type 'str'>\n<type 'str'>\n<type 'str'>\n<type 'str'>\n<type 'str'>\n<type 'str'>\n<type 'str'>\n<type 'str'>\n<type 'str'>\n<type 'str'>\n<type 'str'>\n<type 'str'>\n<type 'str'>\n<type 'str'>\n<type 'str'>\n<type 'str'>\n<type 'str'>\n<type 'str'>\n<type 'str'>\n<type 'str'>\n<type 'str'>\n<type 'str'>\n<type 'str'>\n<type 'str'>\n<type 'str'>\n<type 'str'>\n<type 'str'>\n<type 'str'>\n<type 'str'>\n<type 'str'>\n<type 'str'>\n<type 'str'>\n<type 'str'>\n<type 'str'>\n<type 'str'>\n<type 'str'>\n<type 'str'>\n<type 'str'>\n<type 'str'>\n<type 'str'>\n<type 'str'>\n<type 'str'>\n<type 'str'>\n<type 'str'>\n<type 'str'>\n<type 'str'>\n<type 'str'>\n<type 'str'>\n<type 'str'>\n<type 'str'>\n<type 'str'>\n<type 'str'>\n<type 'str'>\n<type 'str'>\n<type 'str'>\n<type 'str'>\n<type 'str'>\n<type 'str'>\n<type 'str'>\n<type 'str'>\n<type 'str'>\n<type 'str'>\n<type 'str'>\n<type 'str'>\n<type 'str'>\n<type 'str'>\n<type 'str'>\n<type 'str'>\n<type 'str'>\n<type 'str'>\n<type 'str'>\n<type 'str'>\n<type 'str'>\n<type 'str'>\n<type 'str'>\n<type 'str'>\n<type 'str'>\n<type 'str'>\n<type 'str'>\n<type 'str'>\n<type 'str'>\n<type 'str'>\n<type 'str'>\n<type 'str'>\n<type 'str'>\n<type 'str'>\n<type 'str'>\n<type 'str'>\n<type 'str'>\n<type 'str'>\n<type 'str'>\n<type 'str'>\n<type 'str'>\n<type 'str'>\n<type 'str'>\n<type 'str'>\n<type 'str'>\n<type 'str'>\n<type 'str'>\n<type 'str'>\n<type 'str'>\n<type 'str'>\n<type 'str'>\n<type 'str'>\n<type 'str'>\n<type 'str'>\n<type 'str'>\n<type 'str'>\n<type 'str'>\n<type 'str'>\n<type 'str'>\n<type 'str'>\n<type 'str'>\n<type 'str'>\n<type 'str'>\n<type 'str'>\n<type 'str'>\n<type 'str'>\n<type 'str'>\n<type 'str'>\n<type 'str'>\n<type 'str'>\n<type 'str'>\n<type 'str'>\n<type 'str'>\n<type 'str'>\n<type 'str'>\n<type 'str'>\n<type 'str'>\n<type 'str'>\n<type 'str'>\n<type 'str'>\n<type 'str'>\n<type 'str'>\n<type 'str'>\n<type 'str'>\n<type 'str'>\n<type 'str'>\n<type 'str'>\n<type 'str'>\n<type 'str'>\n<type 'str'>\n<type 'str'>\n<type 'str'>\n<type 'str'>\n<type 'str'>\n<type 'str'>\n<type 'str'>\n<type 'str'>\n<type 'str'>\n<type 'str'>\n<type 'str'>\n<type 'str'>\n<type 'str'>\n<type 'str'>\n<type 'str'>\n<type 'str'>\n<type 'str'>\n<type 'str'>\n<type 'str'>\n<type 'str'>\n<type 'str'>\n<type 'str'>\n<type 'str'>\n<type 'str'>\n<type 'str'>\n<type 'str'>\n<type 'str'>\n<type 'str'>\n<type 'str'>\n<type 'str'>\n<type 'str'>\n<type 'str'>\n<type 'str'>\n<type 'str'>\n<type 'str'>\n<type 'str'>\n<type 'str'>\n<type 'str'>\n<type 'str'>\n<type 'str'>\n<type 'str'>\n<type 'str'>\n<type 'str'>\n<type 'str'>\n<type 'str'>\n<type 'str'>\n<type 'str'>\n<type 'str'>\n<type 'str'>\n<type 'str'>\n<type 'str'>\n<type 'str'>\n<type 'str'>\n<type 'str'>\n<type 'str'>\n<type 'str'>\n<type 'str'>\n<type 'str'>\n<type 'str'>\n<type 'str'>\n<type 'str'>\n<type 'str'>\n<type 'str'>\n<type 'str'>\n<type 'str'>\n<type 'str'>\n<type 'str'>\n<type 'str'>\n<type 'str'>\n<type 'str'>\n<type 'str'>\n<type 'str'>\n<type 'str'>\n<type 'str'>\n<type 'str'>\n<type 'str'>\n<type 'str'>\n<type 'str'>\n<type 'str'>\n<type 'str'>\n<type 'str'>\n<type 'str'>\n<type 'str'>\n<type 'str'>\n<type 'str'>\n<type 'str'>\n<type 'str'>\n<type 'str'>\n<type 'str'>\n<type 'str'>\n<type 'str'>\n<type 'str'>\n<type 'str'>\n<type 'str'>\n<type 'str'>\n<type 'str'>\n<type 'str'>\n<type 'str'>\n<type 'str'>\n<type 'str'>\n<type 'str'>\n<type 'str'>\n<type 'str'>\n<type 'str'>\n<type 'str'>\n<type 'str'>\n<type 'str'>\n<type 'str'>\n<type 'str'>\n<type 'str'>\n<type 'str'>\n<type 'str'>\n<type 'str'>\n<type 'str'>\n<type 'str'>\n<type 'str'>\n<type 'str'>\n<type 'str'>\n<type 'str'>\n<type 'str'>\n<type 'str'>\n<type 'str'>\n<type 'str'>\n<type 'str'>\n<type 'str'>\n<type 'str'>\n<type 'str'>\n<type 'str'>\n<type 'str'>\n<type 'str'>\n<type 'str'>\n<type 'str'>\n<type 'str'>\n<type 'str'>\n<type 'str'>\n<type 'str'>\n<type 'str'>\n<type 'str'>\n<type 'str'>\n<type 'str'>\n<type 'str'>\n<type 'str'>\n<type 'str'>\n<type 'str'>\n<type 'str'>\n<type 'str'>\n<type 'str'>\n<type 'str'>\n<type 'str'>\n<type 'str'>\n<type 'str'>\n<type 'str'>\n<type 'str'>\n<type 'str'>\n<type 'str'>\n<type 'str'>\n<type 'str'>\n<type 'str'>\n<type 'str'>\n<type 'str'>\n<type 'str'>\n<type 'str'>\n<type 'str'>\n<type 'str'>\n<type 'str'>\n<type 'str'>\n<type 'str'>\n<type 'str'>\n<type 'str'>\n<type 'str'>\n<type 'str'>\n<type 'str'>\n<type 'str'>\n<type 'str'>\n<type 'str'>\n<type 'str'>\n<type 'str'>\n<type 'str'>\n<type 'str'>\n<type 'str'>\n<type 'str'>\n<type 'str'>\n<type 'str'>\n<type 'str'>\n<type 'str'>\n<type 'str'>\n<type 'str'>\n<type 'str'>\n<type 'str'>\n<type 'str'>\n<type 'str'>\n<type 'str'>\n<type 'str'>\n<type 'str'>\n<type 'str'>\n<type 'str'>\n<type 'str'>\n<type 'str'>\n<type 'str'>\n<type 'str'>\n<type 'str'>\n<type 'str'>\n<type 'str'>\n<type 'str'>\n<type 'str'>\n<type 'str'>\n<type 'str'>\n<type 'str'>\n<type 'str'>\n<type 'str'>\n<type 'str'>\n<type 'str'>\n<type 'str'>\n<type 'str'>\n<type 'str'>\n<type 'str'>\n<type 'str'>\n<type 'str'>\n<type 'str'>\n<type 'str'>\n<type 'str'>\n<type 'str'>\n<type 'str'>\n<type 'str'>\n<type 'str'>\n<type 'str'>\n<type 'str'>\n<type 'str'>\n<type 'str'>\n<type 'str'>\n<type 'str'>\n<type 'str'>\n<type 'str'>\n<type 'str'>\n<type 'str'>\n<type 'str'>\n<type 'str'>\n<type 'str'>\n<type 'str'>\n<type 'str'>\n<type 'str'>\n<type 'str'>\n<type 'str'>\n<type 'str'>\n<type 'str'>\n<type 'str'>\n<type 'str'>\n<type 'str'>\n<type 'str'>\n<type 'str'>\n<type 'str'>\n<type 'str'>\n<type 'str'>\n<type 'str'>\n<type 'str'>\n<type 'str'>\n<type 'str'>\n<type 'str'>\n<type 'str'>\n<type 'str'>\n<type 'str'>\n<type 'str'>\n<type 'str'>\n<type 'str'>\n<type 'str'>\n<type 'str'>\n<type 'str'>\n<type 'str'>\n<type 'str'>\n<type 'str'>\n<type 'str'>\n<type 'str'>\n<type 'str'>\n<type 'str'>\n<type 'str'>\n<type 'str'>\n<type 'str'>\n<type 'str'>\n<type 'str'>\n<type 'str'>\n<type 'str'>\n<type 'str'>\n<type 'str'>\n<type 'str'>\n<type 'str'>\n<type 'str'>\n<type 'str'>\n<type 'str'>\n<type 'str'>\n<type 'str'>\n<type 'str'>\n<type 'str'>\n<type 'str'>\n<type 'str'>\n<type 'str'>\n<type 'str'>\n<type 'str'>\n<type 'str'>\n<type 'str'>\n<type 'str'>\n<type 'str'>\n<type 'str'>\n<type 'str'>\n<type 'str'>\n<type 'str'>\n<type 'str'>\n<type 'str'>\n<type 'str'>\n<type 'str'>\n<type 'str'>\n<type 'str'>\n<type 'str'>\n<type 'str'>\n<type 'str'>\n<type 'str'>\n<type 'str'>\n<type 'str'>\n<type 'str'>\n<type 'str'>\n<type 'str'>\n<type 'str'>\n<type 'str'>\n<type 'str'>\n<type 'str'>\n<type 'str'>\n<type 'str'>\n<type 'str'>\n<type 'str'>\n<type 'str'>\n<type 'str'>\n<type 'str'>\n<type 'str'>\n<type 'str'>\n<type 'str'>\n<type 'str'>\n<type 'str'>\n<type 'str'>\n<type 'str'>\n<type 'str'>\n<type 'str'>\n<type 'str'>\n<type 'str'>\n<type 'str'>\n<type 'str'>\n<type 'str'>\n<type 'str'>\n<type 'str'>\n<type 'str'>\n<type 'str'>\n<type 'str'>\n<type 'str'>\n<type 'str'>\n<type 'str'>\n<type 'str'>\n<type 'str'>\n<type 'str'>\n<type 'str'>\n<type 'str'>\n<type 'str'>\n<type 'str'>\n<type 'str'>\n<type 'str'>\n<type 'str'>\n<type 'str'>\n<type 'str'>\n<type 'str'>\n<type 'str'>\n<type 'str'>\n<type 'str'>\n<type 'str'>\n<type 'str'>\n<type 'str'>\n<type 'str'>\n<type 'str'>\n<type 'str'>\n<type 'str'>\n<type 'str'>\n<type 'str'>\n<type 'str'>\n<type 'str'>\n<type 'str'>\n<type 'str'>\n<type 'str'>\n<type 'str'>\n<type 'str'>\n<type 'str'>\n<type 'str'>\n<type 'str'>\n<type 'str'>\n<type 'str'>\n<type 'str'>\n<type 'str'>\n<type 'str'>\n<type 'str'>\n<type 'str'>\n<type 'str'>\n<type 'str'>\n<type 'str'>\n<type 'str'>\n<type 'str'>\n<type 'str'>\n<type 'str'>\n<type 'str'>\n<type 'str'>\n<type 'str'>\n<type 'str'>\n<type 'str'>\n<type 'str'>\n<type 'str'>\n<type 'str'>\n<type 'str'>\n<type 'str'>\n<type 'str'>\n<type 'str'>\n<type 'str'>\n<type 'str'>\n<type 'str'>\n<type 'str'>\n<type 'str'>\n<type 'str'>\n<type 'str'>\n<type 'str'>\n<type 'str'>\n<type 'str'>\n<type 'str'>\n<type 'str'>\n<type 'str'>\n<type 'str'>\n<type 'str'>\n<type 'str'>\n<type 'str'>\n<type 'str'>\n<type 'str'>\n<type 'str'>\n<type 'str'>\n<type 'str'>\n<type 'str'>\n<type 'str'>\n<type 'str'>\n<type 'str'>\n<type 'str'>\n<type 'str'>\n<type 'str'>\n<type 'str'>\n<type 'str'>\n<type 'str'>\n<type 'str'>\n<type 'str'>\n<type 'str'>\n<type 'str'>\n<type 'str'>\n<type 'str'>\n<type 'str'>\n<type 'str'>\n<type 'str'>\n<type 'str'>\n<type 'str'>\n<type 'str'>\n<type 'str'>\n<type 'str'>\n<type 'str'>\n<type 'str'>\n<type 'str'>\n<type 'str'>\n<type 'str'>\n<type 'str'>\n<type 'str'>\n<type 'str'>\n<type 'str'>\n<type 'str'>\n<type 'str'>\n<type 'str'>\n<type 'str'>\n<type 'str'>\n<type 'str'>\n<type 'str'>\n<type 'str'>\n<type 'str'>\n<type 'str'>\n<type 'str'>\n<type 'str'>\n<type 'str'>\n<type 'str'>\n<type 'str'>\n<type 'str'>\n<type 'str'>\n<type 'str'>\n<type 'str'>\n<type 'str'>\n<type 'str'>\n<type 'str'>\n<type 'str'>\n<type 'str'>\n<type 'str'>\n<type 'str'>\n<type 'str'>\n<type 'str'>\n<type 'str'>\n<type 'str'>\n<type 'str'>\n<type 'str'>\n<type 'str'>\n<type 'str'>\n<type 'str'>\n<type 'str'>\n<type 'str'>\n<type 'str'>\n<type 'str'>\n<type 'str'>\n<type 'str'>\n<type 'str'>\n<type 'str'>\n<type 'str'>\n<type 'str'>\n<type 'str'>\n<type 'str'>\n<type 'str'>\n<type 'str'>\n<type 'str'>\n<type 'str'>\n<type 'str'>\n<type 'str'>\n<type 'str'>\n<type 'str'>\n<type 'str'>\n<type 'str'>\n<type 'str'>\n<type 'str'>\n<type 'str'>\n<type 'str'>\n<type 'str'>\n<type 'str'>\n<type 'str'>\n<type 'str'>\n<type 'str'>\n<type 'str'>\n<type 'str'>\n<type 'str'>\n<type 'str'>\n<type 'str'>\n<type 'str'>\n<type 'str'>\n<type 'str'>\n<type 'str'>\n<type 'str'>\n<type 'str'>\n<type 'str'>\n<type 'str'>\n<type 'str'>\n<type 'str'>\n<type 'str'>\n<type 'str'>\n<type 'str'>\n<type 'str'>\n<type 'str'>\n<type 'str'>\n<type 'str'>\n<type 'str'>\n<type 'str'>\n<type 'str'>\n<type 'str'>\n<type 'str'>\n<type 'str'>\n<type 'str'>\n<type 'str'>\n<type 'str'>\n<type 'str'>\n<type 'str'>\n<type 'str'>\n<type 'str'>\n<type 'str'>\n<type 'str'>\n<type 'str'>\n<type 'str'>\n<type 'str'>\n<type 'str'>\n<type 'str'>\n<type 'str'>\n<type 'str'>\n<type 'str'>\n<type 'str'>\n<type 'str'>\n<type 'str'>\n<type 'str'>\n<type 'str'>\n<type 'str'>\n<type 'str'>\n<type 'str'>\n<type 'str'>\n<type 'str'>\n<type 'str'>\n<type 'str'>\n<type 'str'>\n<type 'str'>\n<type 'str'>\n<type 'str'>\n<type 'str'>\n<type 'str'>\n<type 'str'>\n<type 'str'>\n<type 'str'>\n<type 'str'>\n<type 'str'>\n<type 'str'>\n<type 'str'>\n<type 'str'>\n<type 'str'>\n<type 'str'>\n<type 'str'>\n<type 'str'>\n<type 'str'>\n<type 'str'>\n<type 'str'>\n<type 'str'>\n<type 'str'>\n<type 'str'>\n<type 'str'>\n<type 'str'>\n<type 'str'>\n<type 'str'>\n<type 'str'>\n<type 'str'>\n<type 'str'>\n<type 'str'>\n<type 'str'>\n<type 'str'>\n<type 'str'>\n<type 'str'>\n<type 'str'>\n<type 'str'>\n<type 'str'>\n<type 'str'>\n<type 'str'>\n<type 'str'>\n<type 'str'>\n<type 'str'>"
     ]
    },
    {
     "name": "stdout",
     "output_type": "stream",
     "text": [
      "\n<type 'str'>\n<type 'str'>\n<type 'str'>\n<type 'str'>\n<type 'str'>\n<type 'str'>\n<type 'str'>\n<type 'str'>\n<type 'str'>\n<type 'str'>\n<type 'str'>\n<type 'str'>\n<type 'str'>\n<type 'str'>\n<type 'str'>\n<type 'str'>\n<type 'str'>\n<type 'str'>\n<type 'str'>\n<type 'str'>\n<type 'str'>\n<type 'str'>\n<type 'str'>\n<type 'str'>\n<type 'str'>\n<type 'str'>\n<type 'str'>\n<type 'str'>\n<type 'str'>\n<type 'str'>\n<type 'str'>\n<type 'str'>\n<type 'str'>\n<type 'str'>\n<type 'str'>\n<type 'str'>\n<type 'str'>\n<type 'str'>\n<type 'str'>\n<type 'str'>\n<type 'str'>\n<type 'str'>\n<type 'str'>\n<type 'str'>\n<type 'str'>\n<type 'str'>\n<type 'str'>\n<type 'str'>\n<type 'str'>\n<type 'str'>\n<type 'str'>\n<type 'str'>\n<type 'str'>\n<type 'str'>\n<type 'str'>\n<type 'str'>\n<type 'str'>\n<type 'str'>\n<type 'str'>\n<type 'str'>\n<type 'str'>\n<type 'str'>\n<type 'str'>\n<type 'str'>\n<type 'str'>\n<type 'str'>\n<type 'str'>\n<type 'str'>\n<type 'str'>\n<type 'str'>\n<type 'str'>\n<type 'str'>\n<type 'str'>\n<type 'str'>\n<type 'str'>\n<type 'str'>\n<type 'str'>\n<type 'str'>\n<type 'str'>\n<type 'str'>\n<type 'str'>\n<type 'str'>\n<type 'str'>\n<type 'str'>\n<type 'str'>\n<type 'str'>\n<type 'str'>\n<type 'str'>\n<type 'str'>\n<type 'str'>\n<type 'str'>\n<type 'str'>\n<type 'str'>\n<type 'str'>\n<type 'str'>\n<type 'str'>\n<type 'str'>\n<type 'str'>\n<type 'str'>\n<type 'str'>\n<type 'str'>\n<type 'str'>\n<type 'str'>\n<type 'str'>\n<type 'str'>\n<type 'str'>\n<type 'str'>\n<type 'str'>\n<type 'str'>\n<type 'str'>\n<type 'str'>\n<type 'str'>\n<type 'str'>\n<type 'str'>\n<type 'str'>\n<type 'str'>\n<type 'str'>\n<type 'str'>\n<type 'str'>\n<type 'str'>\n<type 'str'>\n<type 'str'>\n<type 'str'>\n<type 'str'>\n<type 'str'>\n<type 'str'>\n<type 'str'>\n<type 'str'>\n<type 'str'>\n<type 'str'>\n<type 'str'>\n<type 'str'>\n<type 'str'>\n<type 'str'>\n<type 'str'>\n<type 'str'>\n<type 'str'>\n<type 'str'>\n<type 'str'>\n<type 'str'>\n<type 'str'>\n<type 'str'>\n<type 'str'>\n<type 'str'>\n<type 'str'>\n<type 'str'>\n<type 'str'>\n<type 'str'>\n<type 'str'>\n<type 'str'>\n<type 'str'>\n<type 'str'>\n<type 'str'>\n<type 'str'>\n<type 'str'>\n<type 'str'>\n<type 'str'>\n<type 'str'>\n<type 'str'>\n<type 'str'>\n<type 'str'>\n<type 'str'>\n<type 'str'>\n<type 'str'>\n<type 'str'>\n<type 'str'>\n<type 'str'>\n<type 'str'>\n<type 'str'>\n<type 'str'>\n<type 'str'>\n<type 'str'>\n<type 'str'>\n<type 'str'>\n<type 'str'>\n<type 'str'>\n<type 'str'>\n<type 'str'>\n<type 'str'>\n<type 'str'>\n<type 'str'>\n<type 'str'>\n<type 'str'>\n<type 'str'>\n<type 'str'>\n<type 'str'>\n<type 'str'>\n<type 'str'>\n<type 'str'>\n<type 'str'>\n<type 'str'>\n<type 'str'>\n<type 'str'>\n<type 'str'>\n<type 'str'>\n<type 'str'>\n<type 'str'>\n<type 'str'>\n<type 'str'>\n<type 'str'>\n<type 'str'>\n<type 'str'>\n<type 'str'>\n<type 'str'>\n<type 'str'>\n<type 'str'>\n<type 'str'>\n<type 'str'>\n<type 'str'>\n<type 'str'>\n<type 'str'>\n<type 'str'>\n<type 'str'>\n<type 'str'>\n<type 'str'>\n<type 'str'>\n<type 'str'>\n<type 'str'>\n<type 'str'>\n<type 'str'>\n<type 'str'>\n<type 'str'>\n<type 'str'>\n<type 'str'>\n<type 'str'>\n<type 'str'>\n<type 'str'>\n<type 'str'>\n<type 'str'>\n<type 'str'>\n<type 'str'>\n<type 'str'>\n<type 'str'>\n<type 'str'>\n<type 'str'>\n<type 'str'>\n<type 'str'>\n<type 'str'>\n<type 'str'>\n<type 'str'>\n<type 'str'>\n<type 'str'>\n<type 'str'>\n<type 'str'>\n<type 'str'>\n<type 'str'>\n<type 'str'>\n<type 'str'>\n<type 'str'>\n<type 'str'>\n<type 'str'>\n<type 'str'>\n<type 'str'>\n<type 'str'>\n<type 'str'>\n<type 'str'>\n<type 'str'>\n<type 'str'>\n<type 'str'>\n<type 'str'>\n<type 'str'>\n<type 'str'>\n<type 'str'>\n<type 'str'>\n<type 'str'>\n<type 'str'>\n<type 'str'>\n<type 'str'>\n<type 'str'>\n<type 'str'>\n<type 'str'>\n<type 'str'>\n<type 'str'>\n<type 'str'>\n<type 'str'>\n<type 'str'>\n<type 'str'>\n<type 'str'>\n<type 'str'>\n<type 'str'>\n<type 'str'>\n<type 'str'>\n<type 'str'>\n<type 'str'>\n<type 'str'>\n<type 'str'>\n<type 'str'>\n<type 'str'>\n<type 'str'>\n<type 'str'>\n<type 'str'>\n<type 'str'>\n<type 'str'>\n<type 'str'>\n<type 'str'>\n<type 'str'>\n<type 'str'>\n<type 'str'>\n<type 'str'>\n<type 'str'>\n<type 'str'>\n<type 'str'>\n<type 'str'>\n<type 'str'>\n<type 'str'>\n<type 'str'>\n<type 'str'>\n<type 'str'>\n<type 'str'>\n<type 'str'>\n<type 'str'>\n<type 'str'>\n<type 'str'>\n<type 'str'>\n<type 'str'>\n<type 'str'>\n<type 'str'>\n<type 'str'>\n<type 'str'>\n<type 'str'>\n<type 'str'>\n<type 'str'>\n<type 'str'>\n<type 'str'>\n<type 'str'>\n<type 'str'>\n<type 'str'>\n<type 'str'>\n<type 'str'>\n<type 'str'>\n<type 'str'>\n<type 'str'>\n<type 'str'>\n<type 'str'>\n<type 'str'>\n<type 'str'>\n<type 'str'>\n<type 'str'>\n<type 'str'>\n<type 'str'>\n<type 'str'>\n<type 'str'>\n<type 'str'>\n<type 'str'>\n<type 'str'>\n<type 'str'>\n<type 'str'>\n<type 'str'>\n<type 'str'>\n<type 'str'>\n<type 'str'>\n<type 'str'>\n<type 'str'>\n<type 'str'>\n<type 'str'>\n<type 'str'>\n<type 'str'>\n<type 'str'>\n<type 'str'>\n<type 'str'>\n<type 'str'>\n<type 'str'>\n<type 'str'>\n<type 'str'>\n<type 'str'>\n<type 'str'>\n<type 'str'>\n<type 'str'>\n<type 'str'>\n<type 'str'>\n<type 'str'>\n<type 'str'>\n<type 'str'>\n<type 'str'>\n<type 'str'>\n<type 'str'>\n<type 'str'>\n<type 'str'>\n<type 'str'>\n<type 'str'>\n<type 'str'>\n<type 'str'>\n<type 'str'>\n<type 'str'>\n<type 'str'>\n<type 'str'>\n<type 'str'>\n<type 'str'>\n<type 'str'>\n<type 'str'>\n<type 'str'>\n<type 'str'>\n<type 'str'>\n<type 'str'>\n<type 'str'>\n<type 'str'>\n<type 'str'>\n<type 'str'>\n<type 'str'>\n<type 'str'>\n<type 'str'>\n<type 'str'>\n<type 'str'>\n<type 'str'>\n<type 'str'>\n<type 'str'>\n<type 'str'>\n<type 'str'>\n<type 'str'>\n<type 'str'>\n<type 'str'>\n<type 'str'>\n<type 'str'>\n<type 'str'>\n<type 'str'>\n<type 'str'>\n<type 'str'>\n<type 'str'>\n<type 'str'>\n<type 'str'>\n<type 'str'>\n<type 'str'>\n<type 'str'>\n<type 'str'>\n<type 'str'>\n<type 'str'>\n<type 'str'>\n<type 'str'>\n<type 'str'>\n<type 'str'>\n<type 'str'>\n<type 'str'>\n<type 'str'>\n<type 'str'>\n<type 'str'>\n<type 'str'>\n<type 'str'>\n<type 'str'>\n<type 'str'>\n<type 'str'>\n<type 'str'>\n<type 'str'>\n<type 'str'>\n<type 'str'>\n<type 'str'>\n<type 'str'>\n<type 'str'>\n<type 'str'>\n<type 'str'>\n<type 'str'>\n<type 'str'>\n<type 'str'>\n<type 'str'>\n<type 'str'>\n<type 'str'>\n<type 'str'>\n<type 'str'>\n<type 'str'>\n<type 'str'>\n<type 'str'>\n<type 'str'>\n<type 'str'>\n<type 'str'>\n<type 'str'>\n<type 'str'>\n<type 'str'>\n<type 'str'>\n<type 'str'>\n<type 'str'>\n<type 'str'>\n<type 'str'>\n<type 'str'>\n<type 'str'>\n<type 'str'>\n<type 'str'>\n<type 'str'>\n<type 'str'>\n<type 'str'>\n<type 'str'>\n<type 'str'>\n<type 'str'>\n<type 'str'>\n<type 'str'>\n<type 'str'>\n<type 'str'>\n<type 'str'>\n<type 'str'>\n<type 'str'>\n<type 'str'>\n<type 'str'>\n<type 'str'>\n<type 'str'>\n<type 'str'>\n<type 'str'>\n<type 'str'>\n<type 'str'>\n<type 'str'>\n<type 'str'>\n<type 'str'>\n<type 'str'>\n<type 'str'>\n<type 'str'>\n<type 'str'>\n<type 'str'>\n<type 'str'>\n<type 'str'>\n<type 'str'>\n<type 'str'>\n<type 'str'>\n<type 'str'>\n<type 'str'>\n<type 'str'>\n<type 'str'>\n<type 'str'>\n<type 'str'>\n<type 'str'>\n<type 'str'>\n<type 'str'>\n<type 'str'>\n<type 'str'>\n<type 'str'>\n<type 'str'>\n<type 'str'>\n<type 'str'>\n<type 'str'>\n<type 'str'>\n<type 'str'>\n<type 'str'>\n<type 'str'>\n<type 'str'>\n<type 'str'>\n<type 'str'>\n<type 'str'>\n<type 'str'>\n<type 'str'>\n<type 'str'>\n<type 'str'>\n<type 'str'>\n<type 'str'>\n<type 'str'>\n<type 'str'>\n<type 'str'>\n<type 'str'>\n<type 'str'>\n<type 'str'>\n<type 'str'>\n<type 'str'>\n<type 'str'>\n<type 'str'>\n<type 'str'>\n<type 'str'>\n<type 'str'>\n<type 'str'>\n<type 'str'>\n<type 'str'>\n<type 'str'>\n<type 'str'>\n<type 'str'>\n<type 'str'>\n<type 'str'>\n<type 'str'>\n<type 'str'>\n<type 'str'>\n<type 'str'>\n<type 'str'>\n<type 'str'>\n<type 'str'>\n<type 'str'>\n<type 'str'>\n<type 'str'>\n<type 'str'>\n<type 'str'>\n<type 'str'>\n<type 'str'>\n<type 'str'>\n<type 'str'>\n<type 'str'>\n<type 'str'>\n<type 'str'>\n<type 'str'>\n<type 'str'>\n<type 'str'>\n<type 'str'>\n<type 'str'>\n<type 'str'>\n<type 'str'>\n<type 'str'>\n<type 'str'>\n<type 'str'>\n<type 'str'>\n<type 'str'>\n<type 'str'>\n<type 'str'>\n<type 'str'>\n<type 'str'>\n<type 'str'>\n<type 'str'>\n<type 'str'>\n<type 'str'>\n<type 'str'>\n<type 'str'>\n<type 'str'>\n<type 'str'>\n<type 'str'>\n<type 'str'>\n<type 'str'>\n<type 'str'>\n<type 'str'>\n<type 'str'>\n<type 'str'>\n<type 'str'>\n<type 'str'>\n<type 'str'>\n<type 'str'>\n<type 'str'>\n<type 'str'>\n<type 'str'>\n<type 'str'>\n<type 'str'>\n<type 'str'>\n<type 'str'>\n<type 'str'>\n<type 'str'>\n<type 'str'>\n<type 'str'>\n<type 'str'>\n<type 'str'>\n<type 'str'>\n<type 'str'>\n<type 'str'>\n<type 'str'>\n<type 'str'>\n<type 'str'>\n<type 'str'>\n<type 'str'>\n<type 'str'>\n<type 'str'>\n<type 'str'>\n<type 'str'>\n<type 'str'>\n<type 'str'>\n<type 'str'>\n<type 'str'>\n<type 'str'>\n<type 'str'>\n<type 'str'>\n<type 'str'>\n<type 'str'>\n<type 'str'>\n<type 'str'>\n<type 'str'>\n<type 'str'>\n<type 'str'>\n<type 'str'>\n<type 'str'>\n<type 'str'>\n<type 'str'>\n<type 'str'>\n<type 'str'>\n<type 'str'>\n<type 'str'>\n<type 'str'>\n<type 'str'>\n<type 'str'>\n<type 'str'>\n<type 'str'>\n<type 'str'>\n<type 'str'>\n<type 'str'>\n<type 'str'>\n<type 'str'>\n<type 'str'>\n<type 'str'>\n<type 'str'>\n<type 'str'>\n<type 'str'>\n<type 'str'>\n<type 'str'>\n<type 'str'>\n<type 'str'>\n<type 'str'>\n<type 'str'>\n<type 'str'>\n<type 'str'>\n<type 'str'>\n<type 'str'>\n<type 'str'>\n<type 'str'>\n<type 'str'>\n<type 'str'>\n<type 'str'>\n<type 'str'>\n<type 'str'>\n<type 'str'>\n<type 'str'>\n<type 'str'>\n<type 'str'>\n<type 'str'>\n<type 'str'>\n<type 'str'>\n<type 'str'>\n<type 'str'>\n<type 'str'>\n<type 'str'>\n<type 'str'>\n<type 'str'>\n<type 'str'>\n<type 'str'>\n<type 'str'>\n<type 'str'>\n<type 'str'>\n<type 'str'>\n<type 'str'>\n<type 'str'>\n<type 'str'>\n<type 'str'>\n<type 'str'>\n<type 'str'>\n<type 'str'>\n<type 'str'>\n<type 'str'>\n<type 'str'>\n<type 'str'>\n<type 'str'>\n<type 'str'>\n<type 'str'>\n<type 'str'>\n<type 'str'>\n<type 'str'>\n<type 'str'>\n<type 'str'>\n<type 'str'>\n<type 'str'>\n<type 'str'>\n<type 'str'>\n<type 'str'>\n<type 'str'>\n<type 'str'>\n<type 'str'>\n<type 'str'>\n<type 'str'>\n<type 'str'>\n<type 'str'>\n<type 'str'>\n<type 'str'>\n<type 'str'>\n<type 'str'>\n<type 'str'>\n<type 'str'>\n<type 'str'>\n<type 'str'>\n<type 'str'>\n<type 'str'>\n<type 'str'>\n<type 'str'>\n<type 'str'>\n<type 'str'>\n<type 'str'>\n<type 'str'>\n<type 'str'>\n<type 'str'>\n<type 'str'>\n<type 'str'>\n<type 'str'>\n<type 'str'>\n<type 'str'>\n<type 'str'>\n<type 'str'>\n<type 'str'>\n<type 'str'>\n<type 'str'>\n<type 'str'>\n<type 'str'>\n<type 'str'>\n<type 'str'>\n<type 'str'>\n<type 'str'>\n<type 'str'>\n<type 'str'>\n<type 'str'>\n<type 'str'>\n<type 'str'>\n<type 'str'>\n<type 'str'>\n<type 'str'>\n<type 'str'>\n<type 'str'>\n<type 'str'>\n<type 'str'>\n<type 'str'>\n<type 'str'>\n<type 'str'>\n<type 'str'>\n<type 'str'>\n<type 'str'>\n<type 'str'>\n<type 'str'>\n<type 'str'>\n<type 'str'>\n<type 'str'>\n<type 'str'>\n<type 'str'>\n<type 'str'>\n<type 'str'>\n<type 'str'>\n<type 'str'>\n<type 'str'>\n<type 'str'>\n<type 'str'>\n<type 'str'>\n<type 'str'>\n<type 'str'>\n<type 'str'>\n<type 'str'>\n<type 'str'>\n<type 'str'>\n<type 'str'>\n<type 'str'>\n<type 'str'>\n<type 'str'>\n<type 'str'>\n<type 'str'>\n<type 'str'>\n<type 'str'>\n<type 'str'>\n<type 'str'>\n<type 'str'>\n<type 'str'>\n<type 'str'>\n<type 'str'>\n<type 'str'>\n<type 'str'>\n<type 'str'>\n<type 'str'>\n<type 'str'>\n<type 'str'>\n<type 'str'>\n<type 'str'>\n<type 'str'>\n<type 'str'>\n<type 'str'>\n<type 'str'>\n<type 'str'>\n<type 'str'>\n<type 'str'>\n<type 'str'>\n<type 'str'>\n<type 'str'>\n<type 'str'>\n<type 'str'>\n<type 'str'>\n<type 'str'>\n<type 'str'>\n<type 'str'>\n<type 'str'>\n<type 'str'>\n<type 'str'>\n<type 'str'>\n<type 'str'>\n<type 'str'>\n<type 'str'>\n<type 'str'>\n<type 'str'>\n<type 'str'>\n<type 'str'>\n<type 'str'>\n<type 'str'>\n<type 'str'>\n<type 'str'>\n<type 'str'>\n<type 'str'>\n<type 'str'>\n<type 'str'>\n<type 'str'>\n<type 'str'>\n<type 'str'>\n<type 'str'>\n<type 'str'>\n<type 'str'>\n<type 'str'>\n<type 'str'>\n<type 'str'>\n<type 'str'>\n<type 'str'>\n<type 'str'>\n<type 'str'>\n<type 'str'>\n<type 'str'>\n<type 'str'>\n<type 'str'>\n<type 'str'>\n<type 'str'>\n<type 'str'>\n<type 'str'>\n<type 'str'>\n<type 'str'>\n<type 'str'>\n<type 'str'>\n<type 'str'>\n<type 'str'>\n<type 'str'>\n<type 'str'>\n<type 'str'>\n<type 'str'>\n<type 'str'>\n<type 'str'>\n<type 'str'>\n<type 'str'>\n<type 'str'>\n<type 'str'>\n<type 'str'>\n<type 'str'>\n<type 'str'>\n<type 'str'>\n<type 'str'>\n<type 'str'>\n<type 'str'>\n<type 'str'>\n<type 'str'>\n<type 'str'>\n<type 'str'>\n<type 'str'>\n<type 'str'>\n<type 'str'>\n<type 'str'>\n<type 'str'>\n<type 'str'>\n<type 'str'>\n<type 'str'>\n<type 'str'>\n<type 'str'>\n<type 'str'>\n<type 'str'>\n<type 'str'>\n<type 'str'>\n<type 'str'>\n<type 'str'>\n<type 'str'>\n<type 'str'>\n<type 'str'>\n<type 'str'>\n<type 'str'>\n<type 'str'>\n<type 'str'>\n<type 'str'>\n<type 'str'>\n<type 'str'>\n<type 'str'>\n<type 'str'>\n<type 'str'>\n<type 'str'>\n<type 'str'>\n<type 'str'>\n<type 'str'>\n<type 'str'>\n<type 'str'>\n<type 'str'>\n<type 'str'>\n<type 'str'>\n<type 'str'>\n<type 'str'>\n<type 'str'>\n<type 'str'>\n<type 'str'>\n<type 'str'>\n<type 'str'>\n<type 'str'>\n<type 'str'>\n<type 'str'>\n<type 'str'>\n<type 'str'>\n<type 'str'>\n<type 'str'>\n<type 'str'>\n<type 'str'>\n<type 'str'>\n<type 'str'>\n<type 'str'>\n<type 'str'>\n<type 'str'>\n<type 'str'>\n<type 'str'>\n<type 'str'>\n<type 'str'>\n<type 'str'>\n<type 'str'>\n<type 'str'>\n<type 'str'>\n<type 'str'>\n<type 'str'>\n<type 'str'>\n<type 'str'>\n<type 'str'>\n<type 'str'>\n<type 'str'>\n<type 'str'>\n<type 'str'>\n<type 'str'>\n<type 'str'>\n<type 'str'>\n<type 'str'>\n<type 'str'>\n<type 'str'>\n<type 'str'>\n<type 'str'>\n<type 'str'>\n<type 'str'>\n<type 'str'>\n<type 'str'>\n<type 'str'>\n<type 'str'>\n<type 'str'>\n<type 'str'>\n<type 'str'>\n<type 'str'>\n<type 'str'>\n<type 'str'>\n<type 'str'>\n<type 'str'>\n<type 'str'>\n<type 'str'>\n<type 'str'>\n<type 'str'>\n<type 'str'>\n<type 'str'>\n<type 'str'>\n<type 'str'>\n<type 'str'>\n<type 'str'>\n<type 'str'>\n<type 'str'>\n<type 'str'>\n<type 'str'>\n<type 'str'>\n<type 'str'>\n<type 'str'>\n<type 'str'>\n<type 'str'>\n<type 'str'>\n<type 'str'>\n<type 'str'>\n<type 'str'>\n<type 'str'>\n<type 'str'>\n<type 'str'>\n<type 'str'>\n<type 'str'>\n<type 'str'>\n<type 'str'>\n<type 'str'>\n<type 'str'>\n<type 'str'>\n<type 'str'>\n<type 'str'>\n<type 'str'>\n<type 'str'>\n<type 'str'>\n<type 'str'>\n<type 'str'>\n<type 'str'>\n<type 'str'>\n<type 'str'>\n<type 'str'>\n<type 'str'>\n<type 'str'>\n<type 'str'>\n<type 'str'>\n<type 'str'>\n<type 'str'>\n<type 'str'>\n<type 'str'>"
     ]
    },
    {
     "name": "stdout",
     "output_type": "stream",
     "text": [
      "\n<type 'str'>\nDone\n"
     ]
    }
   ],
   "source": [
    ""
   ]
  },
  {
   "cell_type": "code",
   "execution_count": null,
   "metadata": {},
   "outputs": [],
   "source": []
  }
 ],
 "metadata": {
  "kernelspec": {
   "display_name": "Python 2",
   "language": "python",
   "name": "python2"
  },
  "language_info": {
   "codemirror_mode": {
    "name": "ipython",
    "version": 2
   },
   "file_extension": ".py",
   "mimetype": "text/x-python",
   "name": "python",
   "nbconvert_exporter": "python",
   "pygments_lexer": "ipython2",
   "version": "2.7.6"
  }
 },
 "nbformat": 4,
 "nbformat_minor": 0
}
