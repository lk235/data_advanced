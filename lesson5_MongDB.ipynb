{
 "cells": [
  {
   "cell_type": "code",
   "execution_count": 3,
   "metadata": {
    "collapsed": true
   },
   "outputs": [
    {
     "name": "stdout",
     "output_type": "stream",
     "text": [
      "Printing first 3 results\n\n"
     ]
    }
   ],
   "source": [
    "# 练习: 查找保时捷\n",
    "# 题目说明\n",
    "# 你的任务是完成“porsche_query”函数，尤其是查找出制造商字段为“Porsche”的所有汽车的查询。\n",
    "# \n",
    "# 只需修改“porsche_query”函数，因为我们仅对该函数进行评分。\n",
    "# \n",
    "# 你的代码将根据我们提供的 MongoDB 实例运行。\n",
    "# \n",
    "# 如果你想在本地机器上运行代码，你需要安装 MongoDB 并下载和插入数据集。要了解 MongoDB 设置和数据集方面的说明，\n",
    "# 请参阅课程资料，链接如下：https://www.udacity.com/wiki/ud032\n",
    "# 你可以查看 example_car.json 文件（第二个文件选项卡），找到作为查询依据的正确字段。\n",
    "# 有问题？ 你可以前往 优达学城论坛 与课程导师和其他学员一起\n",
    "\n",
    "import pymongo\n",
    "\n",
    "def porsche_query():\n",
    "    # Please fill in the query to find all autos manuafactured by Porsche.\n",
    "    query = {\"manufacturer\":\"Porsche\"}\n",
    "    return query\n",
    "\n",
    "\n",
    "# Do not edit code below this line in the online code editor.\n",
    "# Code here is for local use on your own computer.\n",
    "def get_db(db_name):\n",
    "    # For local use\n",
    "    from pymongo import MongoClient\n",
    "    client = MongoClient('localhost:27017')\n",
    "    db = client[db_name]\n",
    "    return db\n",
    "\n",
    "def find_porsche(db, query):\n",
    "    # For local use\n",
    "    return db.autos.find(query)\n",
    "\n",
    "\n",
    "if __name__ == \"__main__\":\n",
    "    # For local use\n",
    "    db = get_db('examples')\n",
    "    query = porsche_query()\n",
    "    results = find_porsche(db, query)\n",
    "\n",
    "    print \"Printing first 3 results\\n\"\n",
    "    import pprint\n",
    "    for car in results[:3]:\n",
    "        pprint.pprint(car)"
   ]
  },
  {
   "cell_type": "code",
   "execution_count": 5,
   "metadata": {},
   "outputs": [
    {
     "name": "stdout",
     "output_type": "stream",
     "text": [
      "{u'engine': u'Crawler-transporter__1', u'dimensions': {u'width': 34.7472, u'length': 39.9288, u'weight': 2721000.0}, u'transmission': u'16 traction motors powered by four  generators', u'modelYears': [], u'name': u'Crawler-transporter', u'productionYears': [], u'_id': ObjectId('59e5b652b0051516b46bdcd2'), u'manufacturer': u'Marion Power Shovel Company'}\n15592\n"
     ]
    }
   ],
   "source": [
    "# 练习: 插入多个文档\n",
    "# 题目说明\n",
    "# 请向 insert_autos 函数中添加一行代码，将汽车数据插入“autos”集合中。\n",
    "# \n",
    "# process_file 函数返回的数据变量是一个字典列表，如上一个视频中展示的示例所示。\n",
    "# 对于本课程中使用的 MongoDB 版本，请查看此页面，了解 pymongo 中的批量插入。\n",
    "# \n",
    "# 在正式版本 3.0 中，该过程有轻微改变（详见此页面）。因此，当你在本地计算机上操作时，请注意这一点。\n",
    "# mongoimport -db dbname -c collectionname --file input-file.json\n",
    "\n",
    "from autos import process_file\n",
    "\n",
    "\n",
    "def insert_autos(infile, db):\n",
    "    data = process_file(infile)\n",
    "    \n",
    "    db.autos.insert_many(data)\n",
    "    # Add your code here. Insert the data in one command.\n",
    "    \n",
    "  \n",
    "if __name__ == \"__main__\":\n",
    "    # Code here is for local use on your own computer.\n",
    "    from pymongo import MongoClient\n",
    "    client = MongoClient(\"mongodb://localhost:27017\")\n",
    "    db = client.examples\n",
    "\n",
    "    insert_autos('autos.csv', db)\n",
    "    print db.autos.find_one()\n",
    "    print db.autos.find().count()"
   ]
  },
  {
   "cell_type": "code",
   "execution_count": null,
   "metadata": {},
   "outputs": [],
   "source": [
    "\n",
    "# 练习: 范围查询\n",
    "# 题目说明\n",
    "# 你的任务是写一个查询，返回在二十一世纪建成的所有城市。\n",
    "# \n",
    "# 只需修改“range_query”函数，因为我们仅对该函数进行评分。\n",
    "# \n",
    "# 你的代码将根据我们提供的 MongoDB 实例运行。\n",
    "# \n",
    "# 如果你想在本地机器上运行代码，你需要安装 MongoDB 并下载和插入数据集。\n",
    "# \n",
    "# 要了解 MongoDB 设置和数据集方面的说明，请参阅课程资料。\n",
    "# MongoDB 查询运算符参考。\n",
    "# \n",
    "# 请记住，2000 年不属于 21 世纪！\n",
    "\n",
    "from datetime import datetime\n",
    "    \n",
    "def range_query():\n",
    "    # Modify the below line with your query.\n",
    "    # You can use datetime(year, month, day) to specify date in the query\n",
    "    query = {\"foundingDate\": {\"$gte\":datetime(2001,1,1),\n",
    "                              }}\n",
    "    return query\n",
    "\n",
    "# Do not edit code below this line in the online code editor.\n",
    "# Code here is for local use on your own computer.\n",
    "def get_db():\n",
    "    from pymongo import MongoClient\n",
    "    client = MongoClient('localhost:27017')\n",
    "    db = client.examples\n",
    "    return db\n",
    "\n",
    "if __name__ == \"__main__\":\n",
    "    # For local use\n",
    "    db = get_db()\n",
    "    query = range_query()\n",
    "    cities = db.cities.find(query)\n",
    "\n",
    "    print \"Found cities:\", cities.count()\n",
    "    import pprint\n",
    "    pprint.pprint(cities[0])"
   ]
  }
 ],
 "metadata": {
  "kernelspec": {
   "display_name": "Python 2",
   "language": "python",
   "name": "python2"
  },
  "language_info": {
   "codemirror_mode": {
    "name": "ipython",
    "version": 2
   },
   "file_extension": ".py",
   "mimetype": "text/x-python",
   "name": "python",
   "nbconvert_exporter": "python",
   "pygments_lexer": "ipython2",
   "version": "2.7.6"
  }
 },
 "nbformat": 4,
 "nbformat_minor": 0
}
